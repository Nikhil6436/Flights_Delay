{
  "nbformat": 4,
  "nbformat_minor": 0,
  "metadata": {
    "colab": {
      "name": "Flights_Delay.ipynb",
      "provenance": [],
      "collapsed_sections": []
    },
    "kernelspec": {
      "name": "python3",
      "display_name": "Python 3"
    },
    "language_info": {
      "name": "python"
    }
  },
  "cells": [
    {
      "cell_type": "markdown",
      "metadata": {
        "id": "wtV1iOlj2d-P"
      },
      "source": [
        "#Flight Delay prediction\n",
        "Exploratory Data Analysis\n",
        "\n",
        "\n",
        "\n",
        "\n"
      ]
    },
    {
      "cell_type": "markdown",
      "metadata": {
        "id": "joeKRJybjL3F"
      },
      "source": [
        "Nikhil Kumar"
      ]
    },
    {
      "cell_type": "markdown",
      "metadata": {
        "id": "XyaBHF_ViPHL"
      },
      "source": [
        "Mounting the drive to work on the dataset directly from the drive."
      ]
    },
    {
      "cell_type": "code",
      "metadata": {
        "id": "oSQM5ukUJul7",
        "colab": {
          "base_uri": "https://localhost:8080/"
        },
        "outputId": "649b1a32-6f1d-42e8-f5c1-dd2bc19666e9"
      },
      "source": [
        "from google.colab import drive\n",
        "drive.mount('/content/gdrive')"
      ],
      "execution_count": null,
      "outputs": [
        {
          "output_type": "stream",
          "text": [
            "Mounted at /content/gdrive\n"
          ],
          "name": "stdout"
        }
      ]
    },
    {
      "cell_type": "code",
      "metadata": {
        "id": "8D7GWp1BJw4W"
      },
      "source": [
        "import os\n",
        "os.environ['KAGGLE_CONFIG_DIR'] = \"/content/gdrive/My Drive/Kaggle\""
      ],
      "execution_count": null,
      "outputs": []
    },
    {
      "cell_type": "code",
      "metadata": {
        "colab": {
          "base_uri": "https://localhost:8080/"
        },
        "id": "XTEsWXSXKVIP",
        "outputId": "a4e702fc-4009-4f21-d759-913e00e8f57b"
      },
      "source": [
        "%cd /content/gdrive/My Drive/Kaggle"
      ],
      "execution_count": null,
      "outputs": [
        {
          "output_type": "stream",
          "text": [
            "/content/gdrive/My Drive/Kaggle\n"
          ],
          "name": "stdout"
        }
      ]
    },
    {
      "cell_type": "code",
      "metadata": {
        "colab": {
          "base_uri": "https://localhost:8080/"
        },
        "id": "18cWayHdKgA5",
        "outputId": "e826a7ad-9f47-4a40-ef8b-8258bb2bebc2"
      },
      "source": [
        "!kaggle datasets download -d usdot/flight-delays"
      ],
      "execution_count": null,
      "outputs": [
        {
          "output_type": "stream",
          "text": [
            "flight-delays.zip: Skipping, found more recently modified local copy (use --force to force download)\n"
          ],
          "name": "stdout"
        }
      ]
    },
    {
      "cell_type": "code",
      "metadata": {
        "colab": {
          "base_uri": "https://localhost:8080/"
        },
        "id": "cPVhcGA5LEwQ",
        "outputId": "e1245eed-1d77-497a-cc93-b4165acba9c5"
      },
      "source": [
        "!ls"
      ],
      "execution_count": null,
      "outputs": [
        {
          "output_type": "stream",
          "text": [
            "airlines.csv  airports.csv  flight-delays.zip  flights.csv  kaggle.json\n"
          ],
          "name": "stdout"
        }
      ]
    },
    {
      "cell_type": "code",
      "metadata": {
        "colab": {
          "base_uri": "https://localhost:8080/"
        },
        "id": "0MbLHnJaLnPE",
        "outputId": "df33fe2f-087c-496f-f655-93cb7328bda3"
      },
      "source": [
        "!unzip \\*.zip  && rm *.zip"
      ],
      "execution_count": null,
      "outputs": [
        {
          "output_type": "stream",
          "text": [
            "Archive:  flight-delays.zip\n",
            "replace airlines.csv? [y]es, [n]o, [A]ll, [N]one, [r]ename: "
          ],
          "name": "stdout"
        }
      ]
    },
    {
      "cell_type": "markdown",
      "metadata": {
        "id": "T-fykcL7h8dv"
      },
      "source": [
        "Importing relevant **libraries**"
      ]
    },
    {
      "cell_type": "code",
      "metadata": {
        "id": "kkiS1b85Lvlt"
      },
      "source": [
        "import numpy as np\n",
        "import pandas as pd\n",
        "import matplotlib.pyplot as plt\n",
        "import seaborn as sns\n",
        "%matplotlib inline\n",
        "import pickle"
      ],
      "execution_count": null,
      "outputs": []
    },
    {
      "cell_type": "markdown",
      "metadata": {
        "id": "hjAvoT70idDB"
      },
      "source": [
        "Importing the flights dataset"
      ]
    },
    {
      "cell_type": "code",
      "metadata": {
        "colab": {
          "base_uri": "https://localhost:8080/"
        },
        "id": "8unDYCKiMJSw",
        "outputId": "2e019b47-4d2f-4576-a7c9-f2bc1b737c75"
      },
      "source": [
        "flights=pd.read_csv(\"/content/gdrive/MyDrive/Kaggle/flights.csv\")"
      ],
      "execution_count": null,
      "outputs": [
        {
          "output_type": "stream",
          "text": [
            "/usr/local/lib/python3.7/dist-packages/IPython/core/interactiveshell.py:2718: DtypeWarning: Columns (7,8) have mixed types.Specify dtype option on import or set low_memory=False.\n",
            "  interactivity=interactivity, compiler=compiler, result=result)\n"
          ],
          "name": "stderr"
        }
      ]
    },
    {
      "cell_type": "code",
      "metadata": {
        "colab": {
          "base_uri": "https://localhost:8080/",
          "height": 862
        },
        "id": "KiLMSAFIMVeo",
        "outputId": "c615cae7-e662-4e98-f901-361d8492d14c"
      },
      "source": [
        "flights.info()\n",
        "flights.head()"
      ],
      "execution_count": null,
      "outputs": [
        {
          "output_type": "stream",
          "text": [
            "<class 'pandas.core.frame.DataFrame'>\n",
            "RangeIndex: 5819079 entries, 0 to 5819078\n",
            "Data columns (total 31 columns):\n",
            " #   Column               Dtype  \n",
            "---  ------               -----  \n",
            " 0   YEAR                 int64  \n",
            " 1   MONTH                int64  \n",
            " 2   DAY                  int64  \n",
            " 3   DAY_OF_WEEK          int64  \n",
            " 4   AIRLINE              object \n",
            " 5   FLIGHT_NUMBER        int64  \n",
            " 6   TAIL_NUMBER          object \n",
            " 7   ORIGIN_AIRPORT       object \n",
            " 8   DESTINATION_AIRPORT  object \n",
            " 9   SCHEDULED_DEPARTURE  int64  \n",
            " 10  DEPARTURE_TIME       float64\n",
            " 11  DEPARTURE_DELAY      float64\n",
            " 12  TAXI_OUT             float64\n",
            " 13  WHEELS_OFF           float64\n",
            " 14  SCHEDULED_TIME       float64\n",
            " 15  ELAPSED_TIME         float64\n",
            " 16  AIR_TIME             float64\n",
            " 17  DISTANCE             int64  \n",
            " 18  WHEELS_ON            float64\n",
            " 19  TAXI_IN              float64\n",
            " 20  SCHEDULED_ARRIVAL    int64  \n",
            " 21  ARRIVAL_TIME         float64\n",
            " 22  ARRIVAL_DELAY        float64\n",
            " 23  DIVERTED             int64  \n",
            " 24  CANCELLED            int64  \n",
            " 25  CANCELLATION_REASON  object \n",
            " 26  AIR_SYSTEM_DELAY     float64\n",
            " 27  SECURITY_DELAY       float64\n",
            " 28  AIRLINE_DELAY        float64\n",
            " 29  LATE_AIRCRAFT_DELAY  float64\n",
            " 30  WEATHER_DELAY        float64\n",
            "dtypes: float64(16), int64(10), object(5)\n",
            "memory usage: 1.3+ GB\n"
          ],
          "name": "stdout"
        },
        {
          "output_type": "execute_result",
          "data": {
            "text/html": [
              "<div>\n",
              "<style scoped>\n",
              "    .dataframe tbody tr th:only-of-type {\n",
              "        vertical-align: middle;\n",
              "    }\n",
              "\n",
              "    .dataframe tbody tr th {\n",
              "        vertical-align: top;\n",
              "    }\n",
              "\n",
              "    .dataframe thead th {\n",
              "        text-align: right;\n",
              "    }\n",
              "</style>\n",
              "<table border=\"1\" class=\"dataframe\">\n",
              "  <thead>\n",
              "    <tr style=\"text-align: right;\">\n",
              "      <th></th>\n",
              "      <th>YEAR</th>\n",
              "      <th>MONTH</th>\n",
              "      <th>DAY</th>\n",
              "      <th>DAY_OF_WEEK</th>\n",
              "      <th>AIRLINE</th>\n",
              "      <th>FLIGHT_NUMBER</th>\n",
              "      <th>TAIL_NUMBER</th>\n",
              "      <th>ORIGIN_AIRPORT</th>\n",
              "      <th>DESTINATION_AIRPORT</th>\n",
              "      <th>SCHEDULED_DEPARTURE</th>\n",
              "      <th>DEPARTURE_TIME</th>\n",
              "      <th>DEPARTURE_DELAY</th>\n",
              "      <th>TAXI_OUT</th>\n",
              "      <th>WHEELS_OFF</th>\n",
              "      <th>SCHEDULED_TIME</th>\n",
              "      <th>ELAPSED_TIME</th>\n",
              "      <th>AIR_TIME</th>\n",
              "      <th>DISTANCE</th>\n",
              "      <th>WHEELS_ON</th>\n",
              "      <th>TAXI_IN</th>\n",
              "      <th>SCHEDULED_ARRIVAL</th>\n",
              "      <th>ARRIVAL_TIME</th>\n",
              "      <th>ARRIVAL_DELAY</th>\n",
              "      <th>DIVERTED</th>\n",
              "      <th>CANCELLED</th>\n",
              "      <th>CANCELLATION_REASON</th>\n",
              "      <th>AIR_SYSTEM_DELAY</th>\n",
              "      <th>SECURITY_DELAY</th>\n",
              "      <th>AIRLINE_DELAY</th>\n",
              "      <th>LATE_AIRCRAFT_DELAY</th>\n",
              "      <th>WEATHER_DELAY</th>\n",
              "    </tr>\n",
              "  </thead>\n",
              "  <tbody>\n",
              "    <tr>\n",
              "      <th>0</th>\n",
              "      <td>2015</td>\n",
              "      <td>1</td>\n",
              "      <td>1</td>\n",
              "      <td>4</td>\n",
              "      <td>AS</td>\n",
              "      <td>98</td>\n",
              "      <td>N407AS</td>\n",
              "      <td>ANC</td>\n",
              "      <td>SEA</td>\n",
              "      <td>5</td>\n",
              "      <td>2354.0</td>\n",
              "      <td>-11.0</td>\n",
              "      <td>21.0</td>\n",
              "      <td>15.0</td>\n",
              "      <td>205.0</td>\n",
              "      <td>194.0</td>\n",
              "      <td>169.0</td>\n",
              "      <td>1448</td>\n",
              "      <td>404.0</td>\n",
              "      <td>4.0</td>\n",
              "      <td>430</td>\n",
              "      <td>408.0</td>\n",
              "      <td>-22.0</td>\n",
              "      <td>0</td>\n",
              "      <td>0</td>\n",
              "      <td>NaN</td>\n",
              "      <td>NaN</td>\n",
              "      <td>NaN</td>\n",
              "      <td>NaN</td>\n",
              "      <td>NaN</td>\n",
              "      <td>NaN</td>\n",
              "    </tr>\n",
              "    <tr>\n",
              "      <th>1</th>\n",
              "      <td>2015</td>\n",
              "      <td>1</td>\n",
              "      <td>1</td>\n",
              "      <td>4</td>\n",
              "      <td>AA</td>\n",
              "      <td>2336</td>\n",
              "      <td>N3KUAA</td>\n",
              "      <td>LAX</td>\n",
              "      <td>PBI</td>\n",
              "      <td>10</td>\n",
              "      <td>2.0</td>\n",
              "      <td>-8.0</td>\n",
              "      <td>12.0</td>\n",
              "      <td>14.0</td>\n",
              "      <td>280.0</td>\n",
              "      <td>279.0</td>\n",
              "      <td>263.0</td>\n",
              "      <td>2330</td>\n",
              "      <td>737.0</td>\n",
              "      <td>4.0</td>\n",
              "      <td>750</td>\n",
              "      <td>741.0</td>\n",
              "      <td>-9.0</td>\n",
              "      <td>0</td>\n",
              "      <td>0</td>\n",
              "      <td>NaN</td>\n",
              "      <td>NaN</td>\n",
              "      <td>NaN</td>\n",
              "      <td>NaN</td>\n",
              "      <td>NaN</td>\n",
              "      <td>NaN</td>\n",
              "    </tr>\n",
              "    <tr>\n",
              "      <th>2</th>\n",
              "      <td>2015</td>\n",
              "      <td>1</td>\n",
              "      <td>1</td>\n",
              "      <td>4</td>\n",
              "      <td>US</td>\n",
              "      <td>840</td>\n",
              "      <td>N171US</td>\n",
              "      <td>SFO</td>\n",
              "      <td>CLT</td>\n",
              "      <td>20</td>\n",
              "      <td>18.0</td>\n",
              "      <td>-2.0</td>\n",
              "      <td>16.0</td>\n",
              "      <td>34.0</td>\n",
              "      <td>286.0</td>\n",
              "      <td>293.0</td>\n",
              "      <td>266.0</td>\n",
              "      <td>2296</td>\n",
              "      <td>800.0</td>\n",
              "      <td>11.0</td>\n",
              "      <td>806</td>\n",
              "      <td>811.0</td>\n",
              "      <td>5.0</td>\n",
              "      <td>0</td>\n",
              "      <td>0</td>\n",
              "      <td>NaN</td>\n",
              "      <td>NaN</td>\n",
              "      <td>NaN</td>\n",
              "      <td>NaN</td>\n",
              "      <td>NaN</td>\n",
              "      <td>NaN</td>\n",
              "    </tr>\n",
              "    <tr>\n",
              "      <th>3</th>\n",
              "      <td>2015</td>\n",
              "      <td>1</td>\n",
              "      <td>1</td>\n",
              "      <td>4</td>\n",
              "      <td>AA</td>\n",
              "      <td>258</td>\n",
              "      <td>N3HYAA</td>\n",
              "      <td>LAX</td>\n",
              "      <td>MIA</td>\n",
              "      <td>20</td>\n",
              "      <td>15.0</td>\n",
              "      <td>-5.0</td>\n",
              "      <td>15.0</td>\n",
              "      <td>30.0</td>\n",
              "      <td>285.0</td>\n",
              "      <td>281.0</td>\n",
              "      <td>258.0</td>\n",
              "      <td>2342</td>\n",
              "      <td>748.0</td>\n",
              "      <td>8.0</td>\n",
              "      <td>805</td>\n",
              "      <td>756.0</td>\n",
              "      <td>-9.0</td>\n",
              "      <td>0</td>\n",
              "      <td>0</td>\n",
              "      <td>NaN</td>\n",
              "      <td>NaN</td>\n",
              "      <td>NaN</td>\n",
              "      <td>NaN</td>\n",
              "      <td>NaN</td>\n",
              "      <td>NaN</td>\n",
              "    </tr>\n",
              "    <tr>\n",
              "      <th>4</th>\n",
              "      <td>2015</td>\n",
              "      <td>1</td>\n",
              "      <td>1</td>\n",
              "      <td>4</td>\n",
              "      <td>AS</td>\n",
              "      <td>135</td>\n",
              "      <td>N527AS</td>\n",
              "      <td>SEA</td>\n",
              "      <td>ANC</td>\n",
              "      <td>25</td>\n",
              "      <td>24.0</td>\n",
              "      <td>-1.0</td>\n",
              "      <td>11.0</td>\n",
              "      <td>35.0</td>\n",
              "      <td>235.0</td>\n",
              "      <td>215.0</td>\n",
              "      <td>199.0</td>\n",
              "      <td>1448</td>\n",
              "      <td>254.0</td>\n",
              "      <td>5.0</td>\n",
              "      <td>320</td>\n",
              "      <td>259.0</td>\n",
              "      <td>-21.0</td>\n",
              "      <td>0</td>\n",
              "      <td>0</td>\n",
              "      <td>NaN</td>\n",
              "      <td>NaN</td>\n",
              "      <td>NaN</td>\n",
              "      <td>NaN</td>\n",
              "      <td>NaN</td>\n",
              "      <td>NaN</td>\n",
              "    </tr>\n",
              "  </tbody>\n",
              "</table>\n",
              "</div>"
            ],
            "text/plain": [
              "   YEAR  MONTH  DAY  ...  AIRLINE_DELAY LATE_AIRCRAFT_DELAY  WEATHER_DELAY\n",
              "0  2015      1    1  ...            NaN                 NaN            NaN\n",
              "1  2015      1    1  ...            NaN                 NaN            NaN\n",
              "2  2015      1    1  ...            NaN                 NaN            NaN\n",
              "3  2015      1    1  ...            NaN                 NaN            NaN\n",
              "4  2015      1    1  ...            NaN                 NaN            NaN\n",
              "\n",
              "[5 rows x 31 columns]"
            ]
          },
          "metadata": {
            "tags": []
          },
          "execution_count": 4
        }
      ]
    },
    {
      "cell_type": "code",
      "metadata": {
        "colab": {
          "base_uri": "https://localhost:8080/"
        },
        "id": "ChnVPF95ipgj",
        "outputId": "21b084c8-3d83-45ba-a70f-ef5b54a5d0b7"
      },
      "source": [
        "flights.shape"
      ],
      "execution_count": null,
      "outputs": [
        {
          "output_type": "execute_result",
          "data": {
            "text/plain": [
              "(5819079, 31)"
            ]
          },
          "metadata": {
            "tags": []
          },
          "execution_count": 23
        }
      ]
    },
    {
      "cell_type": "markdown",
      "metadata": {
        "id": "aHlPrTcpjCcY"
      },
      "source": [
        "There are 5819079 rows and 31 columns in the dataset."
      ]
    },
    {
      "cell_type": "markdown",
      "metadata": {
        "id": "RP0LnYADjPTP"
      },
      "source": [
        "Getting some basic information from the dataset"
      ]
    },
    {
      "cell_type": "code",
      "metadata": {
        "colab": {
          "base_uri": "https://localhost:8080/"
        },
        "id": "xabfsp8IQaRZ",
        "outputId": "b93e16e5-59d7-4760-e509-a39abcc6bcad"
      },
      "source": [
        "number_of_delayed = flights[\"DEPARTURE_DELAY\"].apply(lambda s: 1 if s!=0 else 0);\n",
        "print(\"Total number of flights: \"+str(len(flights)))\n",
        "print(\"Number of cancelled flights: \"+str(sum(flights[\"CANCELLED\"])))\n",
        "print(\"Number of delayed flights: \"+str(sum(number_of_delayed)))\n",
        "print(\"Number of diverted flights: \"+str(sum(flights[\"DIVERTED\"])))\n",
        "\n",
        "\n",
        "print(\"Number of not cancelled flights: \"+str(len(flights)-sum(flights[\"CANCELLED\"])))\n",
        "print(\"Number of not delayed flights: \"+str(len(flights)-sum(number_of_delayed)))\n",
        "print(\"Percentage of cancelled flights: \"+str((sum(flights[\"CANCELLED\"])*1.0/len(flights))*100)+\"%\")\n",
        "print(\"Percentage of delayed flights: \"+str((sum(number_of_delayed)*1.0/len(flights))*100)+\"%\")"
      ],
      "execution_count": null,
      "outputs": [
        {
          "output_type": "stream",
          "text": [
            "Total number of flights: 5819079\n",
            "Number of cancelled flights: 89884\n",
            "Number of delayed flights: 5489719\n",
            "Number of diverted flights: 15187\n",
            "Number of not cancelled flights: 5729195\n",
            "Number of not delayed flights: 329360\n",
            "Percentage of cancelled flights: 1.5446430612129514%\n",
            "Percentage of delayed flights: 94.33999779002829%\n"
          ],
          "name": "stdout"
        }
      ]
    },
    {
      "cell_type": "markdown",
      "metadata": {
        "id": "kxSZ6Dswms2J"
      },
      "source": [
        "Printing no of null values in respective columns"
      ]
    },
    {
      "cell_type": "code",
      "metadata": {
        "colab": {
          "base_uri": "https://localhost:8080/"
        },
        "id": "j3oS6U7SMkd6",
        "outputId": "6608281a-85a1-421a-ede5-32e49f5dc6a7"
      },
      "source": [
        "flights.isnull().sum()"
      ],
      "execution_count": null,
      "outputs": [
        {
          "output_type": "execute_result",
          "data": {
            "text/plain": [
              "YEAR                         0\n",
              "MONTH                        0\n",
              "DAY                          0\n",
              "DAY_OF_WEEK                  0\n",
              "AIRLINE                      0\n",
              "FLIGHT_NUMBER                0\n",
              "TAIL_NUMBER              14721\n",
              "ORIGIN_AIRPORT               0\n",
              "DESTINATION_AIRPORT          0\n",
              "SCHEDULED_DEPARTURE          0\n",
              "DEPARTURE_TIME           86153\n",
              "DEPARTURE_DELAY          86153\n",
              "TAXI_OUT                 89047\n",
              "WHEELS_OFF               89047\n",
              "SCHEDULED_TIME               6\n",
              "ELAPSED_TIME            105071\n",
              "AIR_TIME                105071\n",
              "DISTANCE                     0\n",
              "WHEELS_ON                92513\n",
              "TAXI_IN                  92513\n",
              "SCHEDULED_ARRIVAL            0\n",
              "ARRIVAL_TIME             92513\n",
              "ARRIVAL_DELAY           105071\n",
              "DIVERTED                     0\n",
              "CANCELLED                    0\n",
              "CANCELLATION_REASON    5729195\n",
              "AIR_SYSTEM_DELAY       4755640\n",
              "SECURITY_DELAY         4755640\n",
              "AIRLINE_DELAY          4755640\n",
              "LATE_AIRCRAFT_DELAY    4755640\n",
              "WEATHER_DELAY          4755640\n",
              "dtype: int64"
            ]
          },
          "metadata": {
            "tags": []
          },
          "execution_count": 5
        }
      ]
    },
    {
      "cell_type": "code",
      "metadata": {
        "id": "4hhKPnnEJ96-"
      },
      "source": [
        "# fuction to find missing value percetnage\n",
        "def findmissingval():\n",
        "    df_missing=pd.DataFrame((flights.isnull().sum()  / flights.shape[0] *100).round(3),columns=['Percentage'])\n",
        "    return df_missing    "
      ],
      "execution_count": null,
      "outputs": []
    },
    {
      "cell_type": "code",
      "metadata": {
        "colab": {
          "base_uri": "https://localhost:8080/",
          "height": 1000
        },
        "id": "KRFiTIFQLqdC",
        "outputId": "8eac25f8-e563-456a-beb0-4f8e3ab21421"
      },
      "source": [
        "# find out the percentage of missing value in each column\n",
        "df_missing=findmissingval()\n",
        "df_missing.sort_values(by='Percentage',ascending=False)"
      ],
      "execution_count": null,
      "outputs": [
        {
          "output_type": "execute_result",
          "data": {
            "text/html": [
              "<div>\n",
              "<style scoped>\n",
              "    .dataframe tbody tr th:only-of-type {\n",
              "        vertical-align: middle;\n",
              "    }\n",
              "\n",
              "    .dataframe tbody tr th {\n",
              "        vertical-align: top;\n",
              "    }\n",
              "\n",
              "    .dataframe thead th {\n",
              "        text-align: right;\n",
              "    }\n",
              "</style>\n",
              "<table border=\"1\" class=\"dataframe\">\n",
              "  <thead>\n",
              "    <tr style=\"text-align: right;\">\n",
              "      <th></th>\n",
              "      <th>Percentage</th>\n",
              "    </tr>\n",
              "  </thead>\n",
              "  <tbody>\n",
              "    <tr>\n",
              "      <th>CANCELLATION_REASON</th>\n",
              "      <td>98.455</td>\n",
              "    </tr>\n",
              "    <tr>\n",
              "      <th>WEATHER_DELAY</th>\n",
              "      <td>81.725</td>\n",
              "    </tr>\n",
              "    <tr>\n",
              "      <th>LATE_AIRCRAFT_DELAY</th>\n",
              "      <td>81.725</td>\n",
              "    </tr>\n",
              "    <tr>\n",
              "      <th>AIRLINE_DELAY</th>\n",
              "      <td>81.725</td>\n",
              "    </tr>\n",
              "    <tr>\n",
              "      <th>SECURITY_DELAY</th>\n",
              "      <td>81.725</td>\n",
              "    </tr>\n",
              "    <tr>\n",
              "      <th>AIR_SYSTEM_DELAY</th>\n",
              "      <td>81.725</td>\n",
              "    </tr>\n",
              "    <tr>\n",
              "      <th>AIR_TIME</th>\n",
              "      <td>1.806</td>\n",
              "    </tr>\n",
              "    <tr>\n",
              "      <th>ARRIVAL_DELAY</th>\n",
              "      <td>1.806</td>\n",
              "    </tr>\n",
              "    <tr>\n",
              "      <th>ELAPSED_TIME</th>\n",
              "      <td>1.806</td>\n",
              "    </tr>\n",
              "    <tr>\n",
              "      <th>WHEELS_ON</th>\n",
              "      <td>1.590</td>\n",
              "    </tr>\n",
              "    <tr>\n",
              "      <th>TAXI_IN</th>\n",
              "      <td>1.590</td>\n",
              "    </tr>\n",
              "    <tr>\n",
              "      <th>ARRIVAL_TIME</th>\n",
              "      <td>1.590</td>\n",
              "    </tr>\n",
              "    <tr>\n",
              "      <th>TAXI_OUT</th>\n",
              "      <td>1.530</td>\n",
              "    </tr>\n",
              "    <tr>\n",
              "      <th>WHEELS_OFF</th>\n",
              "      <td>1.530</td>\n",
              "    </tr>\n",
              "    <tr>\n",
              "      <th>DEPARTURE_DELAY</th>\n",
              "      <td>1.481</td>\n",
              "    </tr>\n",
              "    <tr>\n",
              "      <th>DEPARTURE_TIME</th>\n",
              "      <td>1.481</td>\n",
              "    </tr>\n",
              "    <tr>\n",
              "      <th>TAIL_NUMBER</th>\n",
              "      <td>0.253</td>\n",
              "    </tr>\n",
              "    <tr>\n",
              "      <th>SCHEDULED_DEPARTURE</th>\n",
              "      <td>0.000</td>\n",
              "    </tr>\n",
              "    <tr>\n",
              "      <th>CANCELLED</th>\n",
              "      <td>0.000</td>\n",
              "    </tr>\n",
              "    <tr>\n",
              "      <th>DAY</th>\n",
              "      <td>0.000</td>\n",
              "    </tr>\n",
              "    <tr>\n",
              "      <th>DAY_OF_WEEK</th>\n",
              "      <td>0.000</td>\n",
              "    </tr>\n",
              "    <tr>\n",
              "      <th>AIRLINE</th>\n",
              "      <td>0.000</td>\n",
              "    </tr>\n",
              "    <tr>\n",
              "      <th>FLIGHT_NUMBER</th>\n",
              "      <td>0.000</td>\n",
              "    </tr>\n",
              "    <tr>\n",
              "      <th>SCHEDULED_ARRIVAL</th>\n",
              "      <td>0.000</td>\n",
              "    </tr>\n",
              "    <tr>\n",
              "      <th>DIVERTED</th>\n",
              "      <td>0.000</td>\n",
              "    </tr>\n",
              "    <tr>\n",
              "      <th>ORIGIN_AIRPORT</th>\n",
              "      <td>0.000</td>\n",
              "    </tr>\n",
              "    <tr>\n",
              "      <th>DISTANCE</th>\n",
              "      <td>0.000</td>\n",
              "    </tr>\n",
              "    <tr>\n",
              "      <th>DESTINATION_AIRPORT</th>\n",
              "      <td>0.000</td>\n",
              "    </tr>\n",
              "    <tr>\n",
              "      <th>MONTH</th>\n",
              "      <td>0.000</td>\n",
              "    </tr>\n",
              "    <tr>\n",
              "      <th>SCHEDULED_TIME</th>\n",
              "      <td>0.000</td>\n",
              "    </tr>\n",
              "    <tr>\n",
              "      <th>YEAR</th>\n",
              "      <td>0.000</td>\n",
              "    </tr>\n",
              "  </tbody>\n",
              "</table>\n",
              "</div>"
            ],
            "text/plain": [
              "                     Percentage\n",
              "CANCELLATION_REASON      98.455\n",
              "WEATHER_DELAY            81.725\n",
              "LATE_AIRCRAFT_DELAY      81.725\n",
              "AIRLINE_DELAY            81.725\n",
              "SECURITY_DELAY           81.725\n",
              "AIR_SYSTEM_DELAY         81.725\n",
              "AIR_TIME                  1.806\n",
              "ARRIVAL_DELAY             1.806\n",
              "ELAPSED_TIME              1.806\n",
              "WHEELS_ON                 1.590\n",
              "TAXI_IN                   1.590\n",
              "ARRIVAL_TIME              1.590\n",
              "TAXI_OUT                  1.530\n",
              "WHEELS_OFF                1.530\n",
              "DEPARTURE_DELAY           1.481\n",
              "DEPARTURE_TIME            1.481\n",
              "TAIL_NUMBER               0.253\n",
              "SCHEDULED_DEPARTURE       0.000\n",
              "CANCELLED                 0.000\n",
              "DAY                       0.000\n",
              "DAY_OF_WEEK               0.000\n",
              "AIRLINE                   0.000\n",
              "FLIGHT_NUMBER             0.000\n",
              "SCHEDULED_ARRIVAL         0.000\n",
              "DIVERTED                  0.000\n",
              "ORIGIN_AIRPORT            0.000\n",
              "DISTANCE                  0.000\n",
              "DESTINATION_AIRPORT       0.000\n",
              "MONTH                     0.000\n",
              "SCHEDULED_TIME            0.000\n",
              "YEAR                      0.000"
            ]
          },
          "metadata": {
            "tags": []
          },
          "execution_count": 7
        }
      ]
    },
    {
      "cell_type": "markdown",
      "metadata": {
        "id": "DuaISDrueohw"
      },
      "source": [
        "Dropping unnecessary columns from the dataset which have very large number of null values."
      ]
    },
    {
      "cell_type": "code",
      "metadata": {
        "id": "8V18duhqFmc6"
      },
      "source": [
        "flights.drop(columns=['AIR_SYSTEM_DELAY','SECURITY_DELAY','AIRLINE_DELAY','LATE_AIRCRAFT_DELAY','WEATHER_DELAY','CANCELLATION_REASON'],inplace=True)"
      ],
      "execution_count": null,
      "outputs": []
    },
    {
      "cell_type": "markdown",
      "metadata": {
        "id": "-7wA6Tn7e3Og"
      },
      "source": [
        "Updated dataset"
      ]
    },
    {
      "cell_type": "code",
      "metadata": {
        "colab": {
          "base_uri": "https://localhost:8080/",
          "height": 224
        },
        "id": "Pg3iMYeISOnl",
        "outputId": "ec759fa5-e00f-4e11-e8f2-160dc19bad09"
      },
      "source": [
        "flights.head()"
      ],
      "execution_count": null,
      "outputs": [
        {
          "output_type": "execute_result",
          "data": {
            "text/html": [
              "<div>\n",
              "<style scoped>\n",
              "    .dataframe tbody tr th:only-of-type {\n",
              "        vertical-align: middle;\n",
              "    }\n",
              "\n",
              "    .dataframe tbody tr th {\n",
              "        vertical-align: top;\n",
              "    }\n",
              "\n",
              "    .dataframe thead th {\n",
              "        text-align: right;\n",
              "    }\n",
              "</style>\n",
              "<table border=\"1\" class=\"dataframe\">\n",
              "  <thead>\n",
              "    <tr style=\"text-align: right;\">\n",
              "      <th></th>\n",
              "      <th>YEAR</th>\n",
              "      <th>MONTH</th>\n",
              "      <th>DAY</th>\n",
              "      <th>DAY_OF_WEEK</th>\n",
              "      <th>AIRLINE</th>\n",
              "      <th>FLIGHT_NUMBER</th>\n",
              "      <th>TAIL_NUMBER</th>\n",
              "      <th>ORIGIN_AIRPORT</th>\n",
              "      <th>DESTINATION_AIRPORT</th>\n",
              "      <th>SCHEDULED_DEPARTURE</th>\n",
              "      <th>DEPARTURE_TIME</th>\n",
              "      <th>DEPARTURE_DELAY</th>\n",
              "      <th>TAXI_OUT</th>\n",
              "      <th>WHEELS_OFF</th>\n",
              "      <th>SCHEDULED_TIME</th>\n",
              "      <th>ELAPSED_TIME</th>\n",
              "      <th>AIR_TIME</th>\n",
              "      <th>DISTANCE</th>\n",
              "      <th>WHEELS_ON</th>\n",
              "      <th>TAXI_IN</th>\n",
              "      <th>SCHEDULED_ARRIVAL</th>\n",
              "      <th>ARRIVAL_TIME</th>\n",
              "      <th>ARRIVAL_DELAY</th>\n",
              "      <th>DIVERTED</th>\n",
              "      <th>CANCELLED</th>\n",
              "    </tr>\n",
              "  </thead>\n",
              "  <tbody>\n",
              "    <tr>\n",
              "      <th>0</th>\n",
              "      <td>2015</td>\n",
              "      <td>1</td>\n",
              "      <td>1</td>\n",
              "      <td>4</td>\n",
              "      <td>AS</td>\n",
              "      <td>98</td>\n",
              "      <td>N407AS</td>\n",
              "      <td>ANC</td>\n",
              "      <td>SEA</td>\n",
              "      <td>5</td>\n",
              "      <td>2354.0</td>\n",
              "      <td>-11.0</td>\n",
              "      <td>21.0</td>\n",
              "      <td>15.0</td>\n",
              "      <td>205.0</td>\n",
              "      <td>194.0</td>\n",
              "      <td>169.0</td>\n",
              "      <td>1448</td>\n",
              "      <td>404.0</td>\n",
              "      <td>4.0</td>\n",
              "      <td>430</td>\n",
              "      <td>408.0</td>\n",
              "      <td>-22.0</td>\n",
              "      <td>0</td>\n",
              "      <td>0</td>\n",
              "    </tr>\n",
              "    <tr>\n",
              "      <th>1</th>\n",
              "      <td>2015</td>\n",
              "      <td>1</td>\n",
              "      <td>1</td>\n",
              "      <td>4</td>\n",
              "      <td>AA</td>\n",
              "      <td>2336</td>\n",
              "      <td>N3KUAA</td>\n",
              "      <td>LAX</td>\n",
              "      <td>PBI</td>\n",
              "      <td>10</td>\n",
              "      <td>2.0</td>\n",
              "      <td>-8.0</td>\n",
              "      <td>12.0</td>\n",
              "      <td>14.0</td>\n",
              "      <td>280.0</td>\n",
              "      <td>279.0</td>\n",
              "      <td>263.0</td>\n",
              "      <td>2330</td>\n",
              "      <td>737.0</td>\n",
              "      <td>4.0</td>\n",
              "      <td>750</td>\n",
              "      <td>741.0</td>\n",
              "      <td>-9.0</td>\n",
              "      <td>0</td>\n",
              "      <td>0</td>\n",
              "    </tr>\n",
              "    <tr>\n",
              "      <th>2</th>\n",
              "      <td>2015</td>\n",
              "      <td>1</td>\n",
              "      <td>1</td>\n",
              "      <td>4</td>\n",
              "      <td>US</td>\n",
              "      <td>840</td>\n",
              "      <td>N171US</td>\n",
              "      <td>SFO</td>\n",
              "      <td>CLT</td>\n",
              "      <td>20</td>\n",
              "      <td>18.0</td>\n",
              "      <td>-2.0</td>\n",
              "      <td>16.0</td>\n",
              "      <td>34.0</td>\n",
              "      <td>286.0</td>\n",
              "      <td>293.0</td>\n",
              "      <td>266.0</td>\n",
              "      <td>2296</td>\n",
              "      <td>800.0</td>\n",
              "      <td>11.0</td>\n",
              "      <td>806</td>\n",
              "      <td>811.0</td>\n",
              "      <td>5.0</td>\n",
              "      <td>0</td>\n",
              "      <td>0</td>\n",
              "    </tr>\n",
              "    <tr>\n",
              "      <th>3</th>\n",
              "      <td>2015</td>\n",
              "      <td>1</td>\n",
              "      <td>1</td>\n",
              "      <td>4</td>\n",
              "      <td>AA</td>\n",
              "      <td>258</td>\n",
              "      <td>N3HYAA</td>\n",
              "      <td>LAX</td>\n",
              "      <td>MIA</td>\n",
              "      <td>20</td>\n",
              "      <td>15.0</td>\n",
              "      <td>-5.0</td>\n",
              "      <td>15.0</td>\n",
              "      <td>30.0</td>\n",
              "      <td>285.0</td>\n",
              "      <td>281.0</td>\n",
              "      <td>258.0</td>\n",
              "      <td>2342</td>\n",
              "      <td>748.0</td>\n",
              "      <td>8.0</td>\n",
              "      <td>805</td>\n",
              "      <td>756.0</td>\n",
              "      <td>-9.0</td>\n",
              "      <td>0</td>\n",
              "      <td>0</td>\n",
              "    </tr>\n",
              "    <tr>\n",
              "      <th>4</th>\n",
              "      <td>2015</td>\n",
              "      <td>1</td>\n",
              "      <td>1</td>\n",
              "      <td>4</td>\n",
              "      <td>AS</td>\n",
              "      <td>135</td>\n",
              "      <td>N527AS</td>\n",
              "      <td>SEA</td>\n",
              "      <td>ANC</td>\n",
              "      <td>25</td>\n",
              "      <td>24.0</td>\n",
              "      <td>-1.0</td>\n",
              "      <td>11.0</td>\n",
              "      <td>35.0</td>\n",
              "      <td>235.0</td>\n",
              "      <td>215.0</td>\n",
              "      <td>199.0</td>\n",
              "      <td>1448</td>\n",
              "      <td>254.0</td>\n",
              "      <td>5.0</td>\n",
              "      <td>320</td>\n",
              "      <td>259.0</td>\n",
              "      <td>-21.0</td>\n",
              "      <td>0</td>\n",
              "      <td>0</td>\n",
              "    </tr>\n",
              "  </tbody>\n",
              "</table>\n",
              "</div>"
            ],
            "text/plain": [
              "   YEAR  MONTH  DAY  ...  ARRIVAL_DELAY DIVERTED  CANCELLED\n",
              "0  2015      1    1  ...          -22.0        0          0\n",
              "1  2015      1    1  ...           -9.0        0          0\n",
              "2  2015      1    1  ...            5.0        0          0\n",
              "3  2015      1    1  ...           -9.0        0          0\n",
              "4  2015      1    1  ...          -21.0        0          0\n",
              "\n",
              "[5 rows x 25 columns]"
            ]
          },
          "metadata": {
            "tags": []
          },
          "execution_count": 9
        }
      ]
    },
    {
      "cell_type": "markdown",
      "metadata": {
        "id": "OwD81_e5fJOa"
      },
      "source": [
        "Finding mode which can be used as 'most likely' in categorical dataset"
      ]
    },
    {
      "cell_type": "code",
      "metadata": {
        "id": "tWmZGz8khB7q",
        "colab": {
          "base_uri": "https://localhost:8080/",
          "height": 100
        },
        "outputId": "ee5c04d5-b245-4bf8-a004-04cd10769ec6"
      },
      "source": [
        "flights.mode()"
      ],
      "execution_count": null,
      "outputs": [
        {
          "output_type": "execute_result",
          "data": {
            "text/html": [
              "<div>\n",
              "<style scoped>\n",
              "    .dataframe tbody tr th:only-of-type {\n",
              "        vertical-align: middle;\n",
              "    }\n",
              "\n",
              "    .dataframe tbody tr th {\n",
              "        vertical-align: top;\n",
              "    }\n",
              "\n",
              "    .dataframe thead th {\n",
              "        text-align: right;\n",
              "    }\n",
              "</style>\n",
              "<table border=\"1\" class=\"dataframe\">\n",
              "  <thead>\n",
              "    <tr style=\"text-align: right;\">\n",
              "      <th></th>\n",
              "      <th>YEAR</th>\n",
              "      <th>MONTH</th>\n",
              "      <th>DAY</th>\n",
              "      <th>DAY_OF_WEEK</th>\n",
              "      <th>AIRLINE</th>\n",
              "      <th>FLIGHT_NUMBER</th>\n",
              "      <th>TAIL_NUMBER</th>\n",
              "      <th>ORIGIN_AIRPORT</th>\n",
              "      <th>DESTINATION_AIRPORT</th>\n",
              "      <th>SCHEDULED_DEPARTURE</th>\n",
              "      <th>DEPARTURE_TIME</th>\n",
              "      <th>DEPARTURE_DELAY</th>\n",
              "      <th>TAXI_OUT</th>\n",
              "      <th>WHEELS_OFF</th>\n",
              "      <th>SCHEDULED_TIME</th>\n",
              "      <th>ELAPSED_TIME</th>\n",
              "      <th>AIR_TIME</th>\n",
              "      <th>DISTANCE</th>\n",
              "      <th>WHEELS_ON</th>\n",
              "      <th>TAXI_IN</th>\n",
              "      <th>SCHEDULED_ARRIVAL</th>\n",
              "      <th>ARRIVAL_TIME</th>\n",
              "      <th>ARRIVAL_DELAY</th>\n",
              "      <th>DIVERTED</th>\n",
              "      <th>CANCELLED</th>\n",
              "    </tr>\n",
              "  </thead>\n",
              "  <tbody>\n",
              "    <tr>\n",
              "      <th>0</th>\n",
              "      <td>2015</td>\n",
              "      <td>10</td>\n",
              "      <td>16</td>\n",
              "      <td>4</td>\n",
              "      <td>WN</td>\n",
              "      <td>469</td>\n",
              "      <td>N480HA</td>\n",
              "      <td>ATL</td>\n",
              "      <td>ATL</td>\n",
              "      <td>600</td>\n",
              "      <td>555.0</td>\n",
              "      <td>-3.0</td>\n",
              "      <td>12.0</td>\n",
              "      <td>1357.170841</td>\n",
              "      <td>85.0</td>\n",
              "      <td>137.006189</td>\n",
              "      <td>113.511628</td>\n",
              "      <td>337</td>\n",
              "      <td>1471.468609</td>\n",
              "      <td>5.0</td>\n",
              "      <td>1305</td>\n",
              "      <td>1645.0</td>\n",
              "      <td>-8.0</td>\n",
              "      <td>0</td>\n",
              "      <td>0</td>\n",
              "    </tr>\n",
              "  </tbody>\n",
              "</table>\n",
              "</div>"
            ],
            "text/plain": [
              "   YEAR  MONTH  DAY  ...  ARRIVAL_DELAY DIVERTED  CANCELLED\n",
              "0  2015     10   16  ...           -8.0        0          0\n",
              "\n",
              "[1 rows x 25 columns]"
            ]
          },
          "metadata": {
            "tags": []
          },
          "execution_count": 22
        }
      ]
    },
    {
      "cell_type": "markdown",
      "metadata": {
        "id": "n16033FGfaxr"
      },
      "source": [
        "Filling NAN values with appropriate methods , i.e. most likely in place of categorical data , mean for unsigned numerical data which are without reference whereas in case of scheduled time using the corresponding actual time in terms of arrival or departure."
      ]
    },
    {
      "cell_type": "code",
      "metadata": {
        "id": "FdNol1QzJhUn"
      },
      "source": [
        "flights['TAIL_NUMBER'].fillna('N480HA',inplace=True)"
      ],
      "execution_count": null,
      "outputs": []
    },
    {
      "cell_type": "code",
      "metadata": {
        "id": "e42Q0gNVJ6wq"
      },
      "source": [
        "flights['DEPARTURE_TIME'].fillna(flights['SCHEDULED_DEPARTURE'],inplace=True)"
      ],
      "execution_count": null,
      "outputs": []
    },
    {
      "cell_type": "code",
      "metadata": {
        "id": "JQVGfLRlLlZT"
      },
      "source": [
        "flights['DEPARTURE_DELAY'].fillna(flights['DEPARTURE_DELAY'].mean(),inplace=True)\n",
        "flights['TAXI_OUT'].fillna(flights['TAXI_OUT'].mean(),inplace=True)\n",
        "flights['WHEELS_OFF'].fillna(flights['WHEELS_OFF'].mean(),inplace=True)\n",
        "flights['SCHEDULED_TIME'].fillna(flights['SCHEDULED_DEPARTURE'],inplace=True)\n",
        "flights['ELAPSED_TIME'].fillna(flights['ELAPSED_TIME'].mean(),inplace=True)\n",
        "flights['AIR_TIME'].fillna(flights['AIR_TIME'].mean(),inplace=True)\n",
        "flights['WHEELS_ON'].fillna(flights['WHEELS_ON'].mean(),inplace=True)\n",
        "flights['TAXI_IN'].fillna(flights['TAXI_IN'].mean(),inplace=True)\n",
        "flights['ARRIVAL_TIME'].fillna(flights['SCHEDULED_ARRIVAL'],inplace=True)\n",
        "flights['ARRIVAL_DELAY'].fillna(flights['ARRIVAL_DELAY'].mean(),inplace=True)"
      ],
      "execution_count": null,
      "outputs": []
    },
    {
      "cell_type": "markdown",
      "metadata": {
        "id": "V8Aoguh0gLAW"
      },
      "source": [
        "All the null values are filled and hence there are no null values."
      ]
    },
    {
      "cell_type": "code",
      "metadata": {
        "colab": {
          "base_uri": "https://localhost:8080/"
        },
        "id": "a-VEnYhJMSYj",
        "outputId": "ee9a0708-2ff7-43aa-e017-6291948f6195"
      },
      "source": [
        "flights.isnull().sum()"
      ],
      "execution_count": null,
      "outputs": [
        {
          "output_type": "execute_result",
          "data": {
            "text/plain": [
              "YEAR                   0\n",
              "MONTH                  0\n",
              "DAY                    0\n",
              "DAY_OF_WEEK            0\n",
              "AIRLINE                0\n",
              "FLIGHT_NUMBER          0\n",
              "TAIL_NUMBER            0\n",
              "ORIGIN_AIRPORT         0\n",
              "DESTINATION_AIRPORT    0\n",
              "SCHEDULED_DEPARTURE    0\n",
              "DEPARTURE_TIME         0\n",
              "DEPARTURE_DELAY        0\n",
              "TAXI_OUT               0\n",
              "WHEELS_OFF             0\n",
              "SCHEDULED_TIME         0\n",
              "ELAPSED_TIME           0\n",
              "AIR_TIME               0\n",
              "DISTANCE               0\n",
              "WHEELS_ON              0\n",
              "TAXI_IN                0\n",
              "SCHEDULED_ARRIVAL      0\n",
              "ARRIVAL_TIME           0\n",
              "ARRIVAL_DELAY          0\n",
              "DIVERTED               0\n",
              "CANCELLED              0\n",
              "dtype: int64"
            ]
          },
          "metadata": {
            "tags": []
          },
          "execution_count": 14
        }
      ]
    },
    {
      "cell_type": "markdown",
      "metadata": {
        "id": "BE2X0IFD6Rd6"
      },
      "source": [
        "changing the data type of date from object to Date"
      ]
    },
    {
      "cell_type": "code",
      "metadata": {
        "id": "eQnCSQrVMZub"
      },
      "source": [
        "flights['DATE'] = ''\n",
        "flights['DATE'] = pd.to_datetime(flights[['YEAR', 'MONTH', 'DAY']])"
      ],
      "execution_count": null,
      "outputs": []
    },
    {
      "cell_type": "code",
      "metadata": {
        "colab": {
          "base_uri": "https://localhost:8080/"
        },
        "id": "KhidXkldrbE2",
        "outputId": "4d78a491-726d-4024-c979-3f0ba6783919"
      },
      "source": [
        "flights.DATE"
      ],
      "execution_count": null,
      "outputs": [
        {
          "output_type": "execute_result",
          "data": {
            "text/plain": [
              "0         2015-01-01\n",
              "1         2015-01-01\n",
              "2         2015-01-01\n",
              "3         2015-01-01\n",
              "4         2015-01-01\n",
              "             ...    \n",
              "5819074   2015-12-31\n",
              "5819075   2015-12-31\n",
              "5819076   2015-12-31\n",
              "5819077   2015-12-31\n",
              "5819078   2015-12-31\n",
              "Name: DATE, Length: 5819079, dtype: datetime64[ns]"
            ]
          },
          "metadata": {
            "tags": []
          },
          "execution_count": 13
        }
      ]
    },
    {
      "cell_type": "code",
      "metadata": {
        "colab": {
          "base_uri": "https://localhost:8080/",
          "height": 609
        },
        "id": "4NSDXIX4Mv3Y",
        "outputId": "c71d7da4-b931-4dbe-f939-3478f1c8a712"
      },
      "source": [
        "flights"
      ],
      "execution_count": null,
      "outputs": [
        {
          "output_type": "execute_result",
          "data": {
            "text/html": [
              "<div>\n",
              "<style scoped>\n",
              "    .dataframe tbody tr th:only-of-type {\n",
              "        vertical-align: middle;\n",
              "    }\n",
              "\n",
              "    .dataframe tbody tr th {\n",
              "        vertical-align: top;\n",
              "    }\n",
              "\n",
              "    .dataframe thead th {\n",
              "        text-align: right;\n",
              "    }\n",
              "</style>\n",
              "<table border=\"1\" class=\"dataframe\">\n",
              "  <thead>\n",
              "    <tr style=\"text-align: right;\">\n",
              "      <th></th>\n",
              "      <th>YEAR</th>\n",
              "      <th>MONTH</th>\n",
              "      <th>DAY</th>\n",
              "      <th>DAY_OF_WEEK</th>\n",
              "      <th>AIRLINE</th>\n",
              "      <th>FLIGHT_NUMBER</th>\n",
              "      <th>TAIL_NUMBER</th>\n",
              "      <th>ORIGIN_AIRPORT</th>\n",
              "      <th>DESTINATION_AIRPORT</th>\n",
              "      <th>SCHEDULED_DEPARTURE</th>\n",
              "      <th>DEPARTURE_TIME</th>\n",
              "      <th>DEPARTURE_DELAY</th>\n",
              "      <th>TAXI_OUT</th>\n",
              "      <th>WHEELS_OFF</th>\n",
              "      <th>SCHEDULED_TIME</th>\n",
              "      <th>ELAPSED_TIME</th>\n",
              "      <th>AIR_TIME</th>\n",
              "      <th>DISTANCE</th>\n",
              "      <th>WHEELS_ON</th>\n",
              "      <th>TAXI_IN</th>\n",
              "      <th>SCHEDULED_ARRIVAL</th>\n",
              "      <th>ARRIVAL_TIME</th>\n",
              "      <th>ARRIVAL_DELAY</th>\n",
              "      <th>DIVERTED</th>\n",
              "      <th>CANCELLED</th>\n",
              "      <th>DATE</th>\n",
              "    </tr>\n",
              "  </thead>\n",
              "  <tbody>\n",
              "    <tr>\n",
              "      <th>0</th>\n",
              "      <td>2015</td>\n",
              "      <td>1</td>\n",
              "      <td>1</td>\n",
              "      <td>4</td>\n",
              "      <td>AS</td>\n",
              "      <td>98</td>\n",
              "      <td>N407AS</td>\n",
              "      <td>ANC</td>\n",
              "      <td>SEA</td>\n",
              "      <td>5</td>\n",
              "      <td>2354.0</td>\n",
              "      <td>-11.0</td>\n",
              "      <td>21.0</td>\n",
              "      <td>15.0</td>\n",
              "      <td>205.0</td>\n",
              "      <td>194.0</td>\n",
              "      <td>169.0</td>\n",
              "      <td>1448</td>\n",
              "      <td>404.0</td>\n",
              "      <td>4.0</td>\n",
              "      <td>430</td>\n",
              "      <td>408.0</td>\n",
              "      <td>-22.0</td>\n",
              "      <td>0</td>\n",
              "      <td>0</td>\n",
              "      <td>2015-01-01</td>\n",
              "    </tr>\n",
              "    <tr>\n",
              "      <th>1</th>\n",
              "      <td>2015</td>\n",
              "      <td>1</td>\n",
              "      <td>1</td>\n",
              "      <td>4</td>\n",
              "      <td>AA</td>\n",
              "      <td>2336</td>\n",
              "      <td>N3KUAA</td>\n",
              "      <td>LAX</td>\n",
              "      <td>PBI</td>\n",
              "      <td>10</td>\n",
              "      <td>2.0</td>\n",
              "      <td>-8.0</td>\n",
              "      <td>12.0</td>\n",
              "      <td>14.0</td>\n",
              "      <td>280.0</td>\n",
              "      <td>279.0</td>\n",
              "      <td>263.0</td>\n",
              "      <td>2330</td>\n",
              "      <td>737.0</td>\n",
              "      <td>4.0</td>\n",
              "      <td>750</td>\n",
              "      <td>741.0</td>\n",
              "      <td>-9.0</td>\n",
              "      <td>0</td>\n",
              "      <td>0</td>\n",
              "      <td>2015-01-01</td>\n",
              "    </tr>\n",
              "    <tr>\n",
              "      <th>2</th>\n",
              "      <td>2015</td>\n",
              "      <td>1</td>\n",
              "      <td>1</td>\n",
              "      <td>4</td>\n",
              "      <td>US</td>\n",
              "      <td>840</td>\n",
              "      <td>N171US</td>\n",
              "      <td>SFO</td>\n",
              "      <td>CLT</td>\n",
              "      <td>20</td>\n",
              "      <td>18.0</td>\n",
              "      <td>-2.0</td>\n",
              "      <td>16.0</td>\n",
              "      <td>34.0</td>\n",
              "      <td>286.0</td>\n",
              "      <td>293.0</td>\n",
              "      <td>266.0</td>\n",
              "      <td>2296</td>\n",
              "      <td>800.0</td>\n",
              "      <td>11.0</td>\n",
              "      <td>806</td>\n",
              "      <td>811.0</td>\n",
              "      <td>5.0</td>\n",
              "      <td>0</td>\n",
              "      <td>0</td>\n",
              "      <td>2015-01-01</td>\n",
              "    </tr>\n",
              "    <tr>\n",
              "      <th>3</th>\n",
              "      <td>2015</td>\n",
              "      <td>1</td>\n",
              "      <td>1</td>\n",
              "      <td>4</td>\n",
              "      <td>AA</td>\n",
              "      <td>258</td>\n",
              "      <td>N3HYAA</td>\n",
              "      <td>LAX</td>\n",
              "      <td>MIA</td>\n",
              "      <td>20</td>\n",
              "      <td>15.0</td>\n",
              "      <td>-5.0</td>\n",
              "      <td>15.0</td>\n",
              "      <td>30.0</td>\n",
              "      <td>285.0</td>\n",
              "      <td>281.0</td>\n",
              "      <td>258.0</td>\n",
              "      <td>2342</td>\n",
              "      <td>748.0</td>\n",
              "      <td>8.0</td>\n",
              "      <td>805</td>\n",
              "      <td>756.0</td>\n",
              "      <td>-9.0</td>\n",
              "      <td>0</td>\n",
              "      <td>0</td>\n",
              "      <td>2015-01-01</td>\n",
              "    </tr>\n",
              "    <tr>\n",
              "      <th>4</th>\n",
              "      <td>2015</td>\n",
              "      <td>1</td>\n",
              "      <td>1</td>\n",
              "      <td>4</td>\n",
              "      <td>AS</td>\n",
              "      <td>135</td>\n",
              "      <td>N527AS</td>\n",
              "      <td>SEA</td>\n",
              "      <td>ANC</td>\n",
              "      <td>25</td>\n",
              "      <td>24.0</td>\n",
              "      <td>-1.0</td>\n",
              "      <td>11.0</td>\n",
              "      <td>35.0</td>\n",
              "      <td>235.0</td>\n",
              "      <td>215.0</td>\n",
              "      <td>199.0</td>\n",
              "      <td>1448</td>\n",
              "      <td>254.0</td>\n",
              "      <td>5.0</td>\n",
              "      <td>320</td>\n",
              "      <td>259.0</td>\n",
              "      <td>-21.0</td>\n",
              "      <td>0</td>\n",
              "      <td>0</td>\n",
              "      <td>2015-01-01</td>\n",
              "    </tr>\n",
              "    <tr>\n",
              "      <th>...</th>\n",
              "      <td>...</td>\n",
              "      <td>...</td>\n",
              "      <td>...</td>\n",
              "      <td>...</td>\n",
              "      <td>...</td>\n",
              "      <td>...</td>\n",
              "      <td>...</td>\n",
              "      <td>...</td>\n",
              "      <td>...</td>\n",
              "      <td>...</td>\n",
              "      <td>...</td>\n",
              "      <td>...</td>\n",
              "      <td>...</td>\n",
              "      <td>...</td>\n",
              "      <td>...</td>\n",
              "      <td>...</td>\n",
              "      <td>...</td>\n",
              "      <td>...</td>\n",
              "      <td>...</td>\n",
              "      <td>...</td>\n",
              "      <td>...</td>\n",
              "      <td>...</td>\n",
              "      <td>...</td>\n",
              "      <td>...</td>\n",
              "      <td>...</td>\n",
              "      <td>...</td>\n",
              "    </tr>\n",
              "    <tr>\n",
              "      <th>5819074</th>\n",
              "      <td>2015</td>\n",
              "      <td>12</td>\n",
              "      <td>31</td>\n",
              "      <td>4</td>\n",
              "      <td>B6</td>\n",
              "      <td>688</td>\n",
              "      <td>N657JB</td>\n",
              "      <td>LAX</td>\n",
              "      <td>BOS</td>\n",
              "      <td>2359</td>\n",
              "      <td>2355.0</td>\n",
              "      <td>-4.0</td>\n",
              "      <td>22.0</td>\n",
              "      <td>17.0</td>\n",
              "      <td>320.0</td>\n",
              "      <td>298.0</td>\n",
              "      <td>272.0</td>\n",
              "      <td>2611</td>\n",
              "      <td>749.0</td>\n",
              "      <td>4.0</td>\n",
              "      <td>819</td>\n",
              "      <td>753.0</td>\n",
              "      <td>-26.0</td>\n",
              "      <td>0</td>\n",
              "      <td>0</td>\n",
              "      <td>2015-12-31</td>\n",
              "    </tr>\n",
              "    <tr>\n",
              "      <th>5819075</th>\n",
              "      <td>2015</td>\n",
              "      <td>12</td>\n",
              "      <td>31</td>\n",
              "      <td>4</td>\n",
              "      <td>B6</td>\n",
              "      <td>745</td>\n",
              "      <td>N828JB</td>\n",
              "      <td>JFK</td>\n",
              "      <td>PSE</td>\n",
              "      <td>2359</td>\n",
              "      <td>2355.0</td>\n",
              "      <td>-4.0</td>\n",
              "      <td>17.0</td>\n",
              "      <td>12.0</td>\n",
              "      <td>227.0</td>\n",
              "      <td>215.0</td>\n",
              "      <td>195.0</td>\n",
              "      <td>1617</td>\n",
              "      <td>427.0</td>\n",
              "      <td>3.0</td>\n",
              "      <td>446</td>\n",
              "      <td>430.0</td>\n",
              "      <td>-16.0</td>\n",
              "      <td>0</td>\n",
              "      <td>0</td>\n",
              "      <td>2015-12-31</td>\n",
              "    </tr>\n",
              "    <tr>\n",
              "      <th>5819076</th>\n",
              "      <td>2015</td>\n",
              "      <td>12</td>\n",
              "      <td>31</td>\n",
              "      <td>4</td>\n",
              "      <td>B6</td>\n",
              "      <td>1503</td>\n",
              "      <td>N913JB</td>\n",
              "      <td>JFK</td>\n",
              "      <td>SJU</td>\n",
              "      <td>2359</td>\n",
              "      <td>2350.0</td>\n",
              "      <td>-9.0</td>\n",
              "      <td>17.0</td>\n",
              "      <td>7.0</td>\n",
              "      <td>221.0</td>\n",
              "      <td>222.0</td>\n",
              "      <td>197.0</td>\n",
              "      <td>1598</td>\n",
              "      <td>424.0</td>\n",
              "      <td>8.0</td>\n",
              "      <td>440</td>\n",
              "      <td>432.0</td>\n",
              "      <td>-8.0</td>\n",
              "      <td>0</td>\n",
              "      <td>0</td>\n",
              "      <td>2015-12-31</td>\n",
              "    </tr>\n",
              "    <tr>\n",
              "      <th>5819077</th>\n",
              "      <td>2015</td>\n",
              "      <td>12</td>\n",
              "      <td>31</td>\n",
              "      <td>4</td>\n",
              "      <td>B6</td>\n",
              "      <td>333</td>\n",
              "      <td>N527JB</td>\n",
              "      <td>MCO</td>\n",
              "      <td>SJU</td>\n",
              "      <td>2359</td>\n",
              "      <td>2353.0</td>\n",
              "      <td>-6.0</td>\n",
              "      <td>10.0</td>\n",
              "      <td>3.0</td>\n",
              "      <td>161.0</td>\n",
              "      <td>157.0</td>\n",
              "      <td>144.0</td>\n",
              "      <td>1189</td>\n",
              "      <td>327.0</td>\n",
              "      <td>3.0</td>\n",
              "      <td>340</td>\n",
              "      <td>330.0</td>\n",
              "      <td>-10.0</td>\n",
              "      <td>0</td>\n",
              "      <td>0</td>\n",
              "      <td>2015-12-31</td>\n",
              "    </tr>\n",
              "    <tr>\n",
              "      <th>5819078</th>\n",
              "      <td>2015</td>\n",
              "      <td>12</td>\n",
              "      <td>31</td>\n",
              "      <td>4</td>\n",
              "      <td>B6</td>\n",
              "      <td>839</td>\n",
              "      <td>N534JB</td>\n",
              "      <td>JFK</td>\n",
              "      <td>BQN</td>\n",
              "      <td>2359</td>\n",
              "      <td>14.0</td>\n",
              "      <td>15.0</td>\n",
              "      <td>14.0</td>\n",
              "      <td>28.0</td>\n",
              "      <td>221.0</td>\n",
              "      <td>208.0</td>\n",
              "      <td>189.0</td>\n",
              "      <td>1576</td>\n",
              "      <td>437.0</td>\n",
              "      <td>5.0</td>\n",
              "      <td>440</td>\n",
              "      <td>442.0</td>\n",
              "      <td>2.0</td>\n",
              "      <td>0</td>\n",
              "      <td>0</td>\n",
              "      <td>2015-12-31</td>\n",
              "    </tr>\n",
              "  </tbody>\n",
              "</table>\n",
              "<p>5819079 rows × 26 columns</p>\n",
              "</div>"
            ],
            "text/plain": [
              "         YEAR  MONTH  DAY  ...  DIVERTED CANCELLED       DATE\n",
              "0        2015      1    1  ...         0         0 2015-01-01\n",
              "1        2015      1    1  ...         0         0 2015-01-01\n",
              "2        2015      1    1  ...         0         0 2015-01-01\n",
              "3        2015      1    1  ...         0         0 2015-01-01\n",
              "4        2015      1    1  ...         0         0 2015-01-01\n",
              "...       ...    ...  ...  ...       ...       ...        ...\n",
              "5819074  2015     12   31  ...         0         0 2015-12-31\n",
              "5819075  2015     12   31  ...         0         0 2015-12-31\n",
              "5819076  2015     12   31  ...         0         0 2015-12-31\n",
              "5819077  2015     12   31  ...         0         0 2015-12-31\n",
              "5819078  2015     12   31  ...         0         0 2015-12-31\n",
              "\n",
              "[5819079 rows x 26 columns]"
            ]
          },
          "metadata": {
            "tags": []
          },
          "execution_count": 17
        }
      ]
    },
    {
      "cell_type": "markdown",
      "metadata": {
        "id": "D_1_u0nOrHIk"
      },
      "source": [
        "Correlation matrix"
      ]
    },
    {
      "cell_type": "code",
      "metadata": {
        "colab": {
          "base_uri": "https://localhost:8080/"
        },
        "id": "8I_DP3nQZWcZ",
        "outputId": "28d1daaf-45c1-40b4-c1d1-d0037f0f2757"
      },
      "source": [
        "corr_matrix=flights.corr()\n",
        "print(corr_matrix)"
      ],
      "execution_count": null,
      "outputs": [
        {
          "output_type": "stream",
          "text": [
            "                     YEAR     MONTH  ...  DIVERTED  CANCELLED\n",
            "YEAR                  NaN       NaN  ...       NaN        NaN\n",
            "MONTH                 NaN  1.000000  ... -0.000991  -0.055043\n",
            "DAY                   NaN  0.008874  ...  0.001981  -0.003537\n",
            "DAY_OF_WEEK           NaN -0.007847  ... -0.001442  -0.022230\n",
            "FLIGHT_NUMBER         NaN -0.020746  ...  0.003802   0.037895\n",
            "SCHEDULED_DEPARTURE   NaN  0.000207  ... -0.000752   0.011752\n",
            "DEPARTURE_TIME        NaN -0.004085  ...  0.001425   0.008055\n",
            "DEPARTURE_DELAY       NaN -0.021994  ...  0.022963   0.033099\n",
            "TAXI_OUT              NaN -0.013117  ...  0.012251   0.005062\n",
            "WHEELS_OFF            NaN -0.004946  ...  0.001667   0.004805\n",
            "SCHEDULED_TIME        NaN  0.010784  ...  0.014012  -0.027827\n",
            "ELAPSED_TIME          NaN  0.001871  ...       NaN        NaN\n",
            "AIR_TIME              NaN  0.003379  ...       NaN        NaN\n",
            "DISTANCE              NaN  0.011437  ...  0.012896  -0.032853\n",
            "WHEELS_ON             NaN -0.008917  ...  0.006098        NaN\n",
            "TAXI_IN               NaN  0.002095  ...  0.022348        NaN\n",
            "SCHEDULED_ARRIVAL     NaN -0.010121  ...  0.004820   0.007763\n",
            "ARRIVAL_TIME          NaN -0.009133  ...  0.004771        NaN\n",
            "ARRIVAL_DELAY         NaN -0.036793  ...       NaN        NaN\n",
            "DIVERTED              NaN -0.000991  ...  1.000000  -0.006407\n",
            "CANCELLED             NaN -0.055043  ... -0.006407   1.000000\n",
            "\n",
            "[21 rows x 21 columns]\n"
          ],
          "name": "stdout"
        }
      ]
    },
    {
      "cell_type": "markdown",
      "metadata": {
        "id": "Az68x9A6rvV4"
      },
      "source": [
        "Plotting the Heatmap"
      ]
    },
    {
      "cell_type": "code",
      "metadata": {
        "colab": {
          "base_uri": "https://localhost:8080/",
          "height": 402
        },
        "id": "we53JVNKZKjj",
        "outputId": "0611c9a3-c378-4ad3-a6d4-9726987b0113"
      },
      "source": [
        "sns.heatmap(corr_matrix)"
      ],
      "execution_count": null,
      "outputs": [
        {
          "output_type": "execute_result",
          "data": {
            "text/plain": [
              "<matplotlib.axes._subplots.AxesSubplot at 0x7f992777a0d0>"
            ]
          },
          "metadata": {
            "tags": []
          },
          "execution_count": 21
        },
        {
          "output_type": "display_data",
          "data": {
            "image/png": "[encoded data removed]",
            "text/plain": [
              "<Figure size 432x288 with 2 Axes>"
            ]
          },
          "metadata": {
            "tags": [],
            "needs_background": "light"
          }
        }
      ]
    },
    {
      "cell_type": "markdown",
      "metadata": {
        "id": "C8nYTtPANI6V"
      },
      "source": [
        "Dropping the columns that are not relevant for prediction"
      ]
    },
    {
      "cell_type": "code",
      "metadata": {
        "colab": {
          "base_uri": "https://localhost:8080/"
        },
        "id": "hNfCsBwANGxC",
        "outputId": "f952e14f-f128-4c2c-be78-d2e1a5b22edf"
      },
      "source": [
        "flights = flights.drop([\"AIRLINE\",\"FLIGHT_NUMBER\",\"TAIL_NUMBER\",\"DEPARTURE_TIME\",\"DEPARTURE_DELAY\",\"TAXI_OUT\", \n",
        "                            \"WHEELS_OFF\",\"SCHEDULED_TIME\",\"ELAPSED_TIME\",\"AIR_TIME\",\"DISTANCE\",\"WHEELS_ON\",\"TAXI_IN\", \n",
        "                            \"SCHEDULED_ARRIVAL\",\"ARRIVAL_TIME\",\"DIVERTED\",\"AIR_TIME\",\"CANCELLED\"], axis = 1)\n",
        "\n",
        "flights.info()"
      ],
      "execution_count": null,
      "outputs": [
        {
          "output_type": "stream",
          "text": [
            "<class 'pandas.core.frame.DataFrame'>\n",
            "RangeIndex: 5819079 entries, 0 to 5819078\n",
            "Data columns (total 9 columns):\n",
            " #   Column               Dtype         \n",
            "---  ------               -----         \n",
            " 0   YEAR                 int64         \n",
            " 1   MONTH                int64         \n",
            " 2   DAY                  int64         \n",
            " 3   DAY_OF_WEEK          int64         \n",
            " 4   ORIGIN_AIRPORT       object        \n",
            " 5   DESTINATION_AIRPORT  object        \n",
            " 6   SCHEDULED_DEPARTURE  int64         \n",
            " 7   ARRIVAL_DELAY        float64       \n",
            " 8   DATE                 datetime64[ns]\n",
            "dtypes: datetime64[ns](1), float64(1), int64(5), object(2)\n",
            "memory usage: 399.6+ MB\n"
          ],
          "name": "stdout"
        }
      ]
    },
    {
      "cell_type": "code",
      "metadata": {
        "colab": {
          "base_uri": "https://localhost:8080/",
          "height": 204
        },
        "id": "y1c2RTzdPXoS",
        "outputId": "bc250575-b4ec-4fcd-9130-6a8cd3b1784a"
      },
      "source": [
        "flights.head()"
      ],
      "execution_count": null,
      "outputs": [
        {
          "output_type": "execute_result",
          "data": {
            "text/html": [
              "<div>\n",
              "<style scoped>\n",
              "    .dataframe tbody tr th:only-of-type {\n",
              "        vertical-align: middle;\n",
              "    }\n",
              "\n",
              "    .dataframe tbody tr th {\n",
              "        vertical-align: top;\n",
              "    }\n",
              "\n",
              "    .dataframe thead th {\n",
              "        text-align: right;\n",
              "    }\n",
              "</style>\n",
              "<table border=\"1\" class=\"dataframe\">\n",
              "  <thead>\n",
              "    <tr style=\"text-align: right;\">\n",
              "      <th></th>\n",
              "      <th>YEAR</th>\n",
              "      <th>MONTH</th>\n",
              "      <th>DAY</th>\n",
              "      <th>DAY_OF_WEEK</th>\n",
              "      <th>ORIGIN_AIRPORT</th>\n",
              "      <th>DESTINATION_AIRPORT</th>\n",
              "      <th>SCHEDULED_DEPARTURE</th>\n",
              "      <th>ARRIVAL_DELAY</th>\n",
              "      <th>DATE</th>\n",
              "    </tr>\n",
              "  </thead>\n",
              "  <tbody>\n",
              "    <tr>\n",
              "      <th>0</th>\n",
              "      <td>2015</td>\n",
              "      <td>1</td>\n",
              "      <td>1</td>\n",
              "      <td>4</td>\n",
              "      <td>ANC</td>\n",
              "      <td>SEA</td>\n",
              "      <td>5</td>\n",
              "      <td>-22.0</td>\n",
              "      <td>2015-01-01</td>\n",
              "    </tr>\n",
              "    <tr>\n",
              "      <th>1</th>\n",
              "      <td>2015</td>\n",
              "      <td>1</td>\n",
              "      <td>1</td>\n",
              "      <td>4</td>\n",
              "      <td>LAX</td>\n",
              "      <td>PBI</td>\n",
              "      <td>10</td>\n",
              "      <td>-9.0</td>\n",
              "      <td>2015-01-01</td>\n",
              "    </tr>\n",
              "    <tr>\n",
              "      <th>2</th>\n",
              "      <td>2015</td>\n",
              "      <td>1</td>\n",
              "      <td>1</td>\n",
              "      <td>4</td>\n",
              "      <td>SFO</td>\n",
              "      <td>CLT</td>\n",
              "      <td>20</td>\n",
              "      <td>5.0</td>\n",
              "      <td>2015-01-01</td>\n",
              "    </tr>\n",
              "    <tr>\n",
              "      <th>3</th>\n",
              "      <td>2015</td>\n",
              "      <td>1</td>\n",
              "      <td>1</td>\n",
              "      <td>4</td>\n",
              "      <td>LAX</td>\n",
              "      <td>MIA</td>\n",
              "      <td>20</td>\n",
              "      <td>-9.0</td>\n",
              "      <td>2015-01-01</td>\n",
              "    </tr>\n",
              "    <tr>\n",
              "      <th>4</th>\n",
              "      <td>2015</td>\n",
              "      <td>1</td>\n",
              "      <td>1</td>\n",
              "      <td>4</td>\n",
              "      <td>SEA</td>\n",
              "      <td>ANC</td>\n",
              "      <td>25</td>\n",
              "      <td>-21.0</td>\n",
              "      <td>2015-01-01</td>\n",
              "    </tr>\n",
              "  </tbody>\n",
              "</table>\n",
              "</div>"
            ],
            "text/plain": [
              "   YEAR  MONTH  DAY  ...  SCHEDULED_DEPARTURE ARRIVAL_DELAY       DATE\n",
              "0  2015      1    1  ...                    5         -22.0 2015-01-01\n",
              "1  2015      1    1  ...                   10          -9.0 2015-01-01\n",
              "2  2015      1    1  ...                   20           5.0 2015-01-01\n",
              "3  2015      1    1  ...                   20          -9.0 2015-01-01\n",
              "4  2015      1    1  ...                   25         -21.0 2015-01-01\n",
              "\n",
              "[5 rows x 9 columns]"
            ]
          },
          "metadata": {
            "tags": []
          },
          "execution_count": 15
        }
      ]
    },
    {
      "cell_type": "code",
      "metadata": {
        "id": "M5SytjUgP3f_"
      },
      "source": [
        ""
      ],
      "execution_count": null,
      "outputs": []
    },
    {
      "cell_type": "markdown",
      "metadata": {
        "id": "EbGA305xy79l"
      },
      "source": [
        "Plotting the Box plot to check the outliers."
      ]
    },
    {
      "cell_type": "code",
      "metadata": {
        "id": "MBRHKtHgh0Pv",
        "colab": {
          "base_uri": "https://localhost:8080/",
          "height": 283
        },
        "outputId": "6636c8f4-4343-497d-9e70-506cf317da2a"
      },
      "source": [
        "flights[[\"SCHEDULED_DEPARTURE\",\"ARRIVAL_DELAY\"]].plot.box()"
      ],
      "execution_count": null,
      "outputs": [
        {
          "output_type": "execute_result",
          "data": {
            "text/plain": [
              "<matplotlib.axes._subplots.AxesSubplot at 0x7fc821509d90>"
            ]
          },
          "metadata": {
            "tags": []
          },
          "execution_count": 20
        },
        {
          "output_type": "display_data",
          "data": {
            "image/png": "[encoded data removed]",
            "text/plain": [
              "<Figure size 432x288 with 1 Axes>"
            ]
          },
          "metadata": {
            "tags": [],
            "needs_background": "light"
          }
        }
      ]
    },
    {
      "cell_type": "markdown",
      "metadata": {
        "id": "jbtmwi3Lgl9k"
      },
      "source": [
        "Removing the outliers from the dataset and reshaping the data"
      ]
    },
    {
      "cell_type": "code",
      "metadata": {
        "colab": {
          "base_uri": "https://localhost:8080/"
        },
        "id": "SQ_JT7sEcjNR",
        "outputId": "fd8d9c56-835d-4f94-b83f-c3e2710c44db"
      },
      "source": [
        "Q1 = np.percentile(flights['ARRIVAL_DELAY'], 25, \n",
        "                   interpolation = 'midpoint') \n",
        "  \n",
        "Q3 = np.percentile(flights['ARRIVAL_DELAY'], 75,\n",
        "                   interpolation = 'midpoint') \n",
        "IQR = Q3 - Q1 \n",
        "  \n",
        "print(\"Old Shape: \", flights.shape) \n",
        "  \n",
        "# Upper bound\n",
        "upper = np.where(flights['ARRIVAL_DELAY'] >= (Q3+1.5*IQR))\n",
        "# Lower bound\n",
        "lower = np.where(flights['ARRIVAL_DELAY'] <= (Q1-1.5*IQR))\n",
        "  \n",
        "#Removing the Outliers\n",
        "flights.drop(upper[0], inplace = True)\n",
        "flights.drop(lower[0], inplace = True)\n",
        "  \n",
        "print(\"New Shape: \", flights.shape) "
      ],
      "execution_count": null,
      "outputs": [
        {
          "output_type": "stream",
          "text": [
            "Old Shape:  (5819079, 10)\n",
            "New Shape:  (5819079, 10)\n"
          ],
          "name": "stdout"
        }
      ]
    },
    {
      "cell_type": "markdown",
      "metadata": {
        "id": "hWAeZKOzgunE"
      },
      "source": [
        "Again checking the outliers using the Box Plot"
      ]
    },
    {
      "cell_type": "code",
      "metadata": {
        "colab": {
          "base_uri": "https://localhost:8080/",
          "height": 337
        },
        "id": "-h-1lNFsdl_P",
        "outputId": "eadcf5e8-e14f-4e73-80a7-a18a20f528a2"
      },
      "source": [
        "flights[[\"SCHEDULED_DEPARTURE\",\"ARRIVAL_DELAY\"]].plot.box()"
      ],
      "execution_count": null,
      "outputs": [
        {
          "output_type": "stream",
          "text": [
            "/usr/local/lib/python3.7/dist-packages/numpy/core/_asarray.py:83: VisibleDeprecationWarning: Creating an ndarray from ragged nested sequences (which is a list-or-tuple of lists-or-tuples-or ndarrays with different lengths or shapes) is deprecated. If you meant to do this, you must specify 'dtype=object' when creating the ndarray\n",
            "  return array(a, dtype, copy=False, order=order)\n"
          ],
          "name": "stderr"
        },
        {
          "output_type": "execute_result",
          "data": {
            "text/plain": [
              "<matplotlib.axes._subplots.AxesSubplot at 0x7f99177a51d0>"
            ]
          },
          "metadata": {
            "tags": []
          },
          "execution_count": 53
        },
        {
          "output_type": "display_data",
          "data": {
            "image/png": "[encoded data removed]",
            "text/plain": [
              "<Figure size 432x288 with 1 Axes>"
            ]
          },
          "metadata": {
            "tags": [],
            "needs_background": "light"
          }
        }
      ]
    },
    {
      "cell_type": "markdown",
      "metadata": {
        "id": "6BE2f1xTeb5u"
      },
      "source": [
        "Outliers are almost removed."
      ]
    },
    {
      "cell_type": "markdown",
      "metadata": {
        "id": "JGkD1BBp1_Ri"
      },
      "source": [
        "Plot percentage delay by month"
      ]
    },
    {
      "cell_type": "code",
      "metadata": {
        "colab": {
          "base_uri": "https://localhost:8080/",
          "height": 281
        },
        "id": "4Ko-r64yUb6e",
        "outputId": "ec14d71b-1b37-481c-b9f9-9feeb6c35d24"
      },
      "source": [
        "month_count= flights[\"MONTH\"].value_counts()\n",
        "month_count = month_count.sort_index()\n",
        "month = np.array([\"Jan\", \"Feb\", \"Mar\", \"Apr\", \"May\", \"Jun\", \"Jul\", \"Aug\", \"Sep\", \"Oct\", \"Nov\", \"Dec\"])\n",
        "y_pos=np.arange(len(month))\n",
        "\n",
        "fig=plt.figure()\n",
        "ax=fig.add_subplot(111)\n",
        "ax.bar(month,month_count,align='center',alpha=0.5,color='cyan')\n",
        "ax.set_facecolor('gray')\n",
        "plt.xticks(y_pos,month)\n",
        "plt.ylabel('Flight Counts')\n",
        "plt.title('Flight Counts by Month')\n",
        "plt.show()"
      ],
      "execution_count": null,
      "outputs": [
        {
          "output_type": "display_data",
          "data": {
            "image/png": "[encoded data removed]",
            "text/plain": [
              "<Figure size 432x288 with 1 Axes>"
            ]
          },
          "metadata": {
            "tags": [],
            "needs_background": "light"
          }
        }
      ]
    },
    {
      "cell_type": "markdown",
      "metadata": {
        "id": "EzgOQARg13Pf"
      },
      "source": [
        "Plot percentage delay by Day"
      ]
    },
    {
      "cell_type": "code",
      "metadata": {
        "colab": {
          "base_uri": "https://localhost:8080/",
          "height": 329
        },
        "id": "ILo8lIYeeIUv",
        "outputId": "cfabeb66-810d-4305-f7f1-0ef6c72a6334"
      },
      "source": [
        "day_count= flights[\"DAY_OF_WEEK\"].value_counts()\n",
        "day_count = day_count.sort_index()\n",
        "day= np.array([\"Monday\",\"Tuesday\",\"Wednesday\",\"Thursday\",\"Friday\",\"Saturday\",\"Sunday\"])\n",
        "y_pos=np.arange(len(day))\n",
        "\n",
        "fig=plt.figure()\n",
        "ax=fig.add_subplot(111)\n",
        "ax.bar(day,day_count,align='center',alpha=0.5,color='cyan')\n",
        "ax.set_facecolor('gray')\n",
        "plt.xticks(y_pos, day,rotation=90)\n",
        "plt.ylabel('Flight Counts')\n",
        "plt.title('Flight Counts by Day')\n",
        "plt.show()"
      ],
      "execution_count": null,
      "outputs": [
        {
          "output_type": "display_data",
          "data": {
            "image/png": "[encoded data removed]",
            "text/plain": [
              "<Figure size 432x288 with 1 Axes>"
            ]
          },
          "metadata": {
            "tags": [],
            "needs_background": "light"
          }
        }
      ]
    },
    {
      "cell_type": "markdown",
      "metadata": {
        "id": "OmDxVEd82Fbo"
      },
      "source": [
        " Which months had the highest percentage of departure and arrival delays?"
      ]
    },
    {
      "cell_type": "markdown",
      "metadata": {
        "id": "aJ-GDz9Jg-jh"
      },
      "source": [
        "Plotting Histogram for numerical data to chek the distribution of the data in different columns."
      ]
    },
    {
      "cell_type": "code",
      "metadata": {
        "id": "7UVwVMxOzh2t",
        "colab": {
          "base_uri": "https://localhost:8080/",
          "height": 351
        },
        "outputId": "317d9cc3-ad0a-4f0a-f59a-23c55b25738b"
      },
      "source": [
        "\n",
        "sns.distplot( flights['ARRIVAL_DELAY'])\n",
        "\n"
      ],
      "execution_count": null,
      "outputs": [
        {
          "output_type": "stream",
          "text": [
            "/usr/local/lib/python3.7/dist-packages/seaborn/distributions.py:2557: FutureWarning: `distplot` is a deprecated function and will be removed in a future version. Please adapt your code to use either `displot` (a figure-level function with similar flexibility) or `histplot` (an axes-level function for histograms).\n",
            "  warnings.warn(msg, FutureWarning)\n"
          ],
          "name": "stderr"
        },
        {
          "output_type": "execute_result",
          "data": {
            "text/plain": [
              "<matplotlib.axes._subplots.AxesSubplot at 0x7f99174ae6d0>"
            ]
          },
          "metadata": {
            "tags": []
          },
          "execution_count": 58
        },
        {
          "output_type": "display_data",
          "data": {
            "image/png": "[encoded data removed]",
            "text/plain": [
              "<Figure size 432x288 with 1 Axes>"
            ]
          },
          "metadata": {
            "tags": [],
            "needs_background": "light"
          }
        }
      ]
    },
    {
      "cell_type": "code",
      "metadata": {
        "colab": {
          "base_uri": "https://localhost:8080/",
          "height": 352
        },
        "id": "_stfW3oyk73h",
        "outputId": "d8b6bbce-2c05-45fe-fe32-cd3907200b82"
      },
      "source": [
        "sns.distplot( flights['SCHEDULED_DEPARTURE'])"
      ],
      "execution_count": null,
      "outputs": [
        {
          "output_type": "stream",
          "text": [
            "/usr/local/lib/python3.7/dist-packages/seaborn/distributions.py:2557: FutureWarning: `distplot` is a deprecated function and will be removed in a future version. Please adapt your code to use either `displot` (a figure-level function with similar flexibility) or `histplot` (an axes-level function for histograms).\n",
            "  warnings.warn(msg, FutureWarning)\n"
          ],
          "name": "stderr"
        },
        {
          "output_type": "execute_result",
          "data": {
            "text/plain": [
              "<matplotlib.axes._subplots.AxesSubplot at 0x7f99174a5250>"
            ]
          },
          "metadata": {
            "tags": []
          },
          "execution_count": 59
        },
        {
          "output_type": "display_data",
          "data": {
            "image/png": "[encoded data removed]",
            "text/plain": [
              "<Figure size 432x288 with 1 Axes>"
            ]
          },
          "metadata": {
            "tags": [],
            "needs_background": "light"
          }
        }
      ]
    },
    {
      "cell_type": "markdown",
      "metadata": {
        "id": "c1TdPfhihQ1Z"
      },
      "source": [
        "Here we find that most of the columns are normally distributed."
      ]
    },
    {
      "cell_type": "markdown",
      "metadata": {
        "id": "uNkXzDYPhZzV"
      },
      "source": [
        "Plotting the bar graph for categorical data to check the distribution."
      ]
    },
    {
      "cell_type": "markdown",
      "metadata": {
        "id": "2_ChbyuR6nAm"
      },
      "source": [
        "New feature generation as RESULT using ARRIVAL_DELAY"
      ]
    },
    {
      "cell_type": "code",
      "metadata": {
        "colab": {
          "base_uri": "https://localhost:8080/",
          "height": 204
        },
        "id": "CmozuajtQ6nA",
        "outputId": "bb10ccb1-bf22-4d96-83a5-d8da8387344e"
      },
      "source": [
        "#FEATURE GENERATION FROM ARRIVAL_DELAY, USING IF ELSE STATEMENT:\n",
        "flights['RESULT']=flights['ARRIVAL_DELAY'].apply(lambda x: 1 if x>15 else 0)\n",
        "flights.head()"
      ],
      "execution_count": null,
      "outputs": [
        {
          "output_type": "execute_result",
          "data": {
            "text/html": [
              "<div>\n",
              "<style scoped>\n",
              "    .dataframe tbody tr th:only-of-type {\n",
              "        vertical-align: middle;\n",
              "    }\n",
              "\n",
              "    .dataframe tbody tr th {\n",
              "        vertical-align: top;\n",
              "    }\n",
              "\n",
              "    .dataframe thead th {\n",
              "        text-align: right;\n",
              "    }\n",
              "</style>\n",
              "<table border=\"1\" class=\"dataframe\">\n",
              "  <thead>\n",
              "    <tr style=\"text-align: right;\">\n",
              "      <th></th>\n",
              "      <th>YEAR</th>\n",
              "      <th>MONTH</th>\n",
              "      <th>DAY</th>\n",
              "      <th>DAY_OF_WEEK</th>\n",
              "      <th>ORIGIN_AIRPORT</th>\n",
              "      <th>DESTINATION_AIRPORT</th>\n",
              "      <th>SCHEDULED_DEPARTURE</th>\n",
              "      <th>ARRIVAL_DELAY</th>\n",
              "      <th>DATE</th>\n",
              "      <th>RESULT</th>\n",
              "    </tr>\n",
              "  </thead>\n",
              "  <tbody>\n",
              "    <tr>\n",
              "      <th>0</th>\n",
              "      <td>2015</td>\n",
              "      <td>1</td>\n",
              "      <td>1</td>\n",
              "      <td>4</td>\n",
              "      <td>ANC</td>\n",
              "      <td>SEA</td>\n",
              "      <td>5</td>\n",
              "      <td>-22.0</td>\n",
              "      <td>2015-01-01</td>\n",
              "      <td>0</td>\n",
              "    </tr>\n",
              "    <tr>\n",
              "      <th>1</th>\n",
              "      <td>2015</td>\n",
              "      <td>1</td>\n",
              "      <td>1</td>\n",
              "      <td>4</td>\n",
              "      <td>LAX</td>\n",
              "      <td>PBI</td>\n",
              "      <td>10</td>\n",
              "      <td>-9.0</td>\n",
              "      <td>2015-01-01</td>\n",
              "      <td>0</td>\n",
              "    </tr>\n",
              "    <tr>\n",
              "      <th>2</th>\n",
              "      <td>2015</td>\n",
              "      <td>1</td>\n",
              "      <td>1</td>\n",
              "      <td>4</td>\n",
              "      <td>SFO</td>\n",
              "      <td>CLT</td>\n",
              "      <td>20</td>\n",
              "      <td>5.0</td>\n",
              "      <td>2015-01-01</td>\n",
              "      <td>0</td>\n",
              "    </tr>\n",
              "    <tr>\n",
              "      <th>3</th>\n",
              "      <td>2015</td>\n",
              "      <td>1</td>\n",
              "      <td>1</td>\n",
              "      <td>4</td>\n",
              "      <td>LAX</td>\n",
              "      <td>MIA</td>\n",
              "      <td>20</td>\n",
              "      <td>-9.0</td>\n",
              "      <td>2015-01-01</td>\n",
              "      <td>0</td>\n",
              "    </tr>\n",
              "    <tr>\n",
              "      <th>4</th>\n",
              "      <td>2015</td>\n",
              "      <td>1</td>\n",
              "      <td>1</td>\n",
              "      <td>4</td>\n",
              "      <td>SEA</td>\n",
              "      <td>ANC</td>\n",
              "      <td>25</td>\n",
              "      <td>-21.0</td>\n",
              "      <td>2015-01-01</td>\n",
              "      <td>0</td>\n",
              "    </tr>\n",
              "  </tbody>\n",
              "</table>\n",
              "</div>"
            ],
            "text/plain": [
              "   YEAR  MONTH  DAY  ...  ARRIVAL_DELAY       DATE RESULT\n",
              "0  2015      1    1  ...          -22.0 2015-01-01      0\n",
              "1  2015      1    1  ...           -9.0 2015-01-01      0\n",
              "2  2015      1    1  ...            5.0 2015-01-01      0\n",
              "3  2015      1    1  ...           -9.0 2015-01-01      0\n",
              "4  2015      1    1  ...          -21.0 2015-01-01      0\n",
              "\n",
              "[5 rows x 10 columns]"
            ]
          },
          "metadata": {
            "tags": []
          },
          "execution_count": 15
        }
      ]
    },
    {
      "cell_type": "code",
      "metadata": {
        "colab": {
          "base_uri": "https://localhost:8080/"
        },
        "id": "Pd8E_w8-Q8CK",
        "outputId": "a12bb551-207f-4330-fc97-e356a2a4b8ad"
      },
      "source": [
        "flights.RESULT.value_counts()"
      ],
      "execution_count": null,
      "outputs": [
        {
          "output_type": "execute_result",
          "data": {
            "text/plain": [
              "0    4795581\n",
              "1    1023498\n",
              "Name: RESULT, dtype: int64"
            ]
          },
          "metadata": {
            "tags": []
          },
          "execution_count": 22
        }
      ]
    },
    {
      "cell_type": "code",
      "metadata": {
        "colab": {
          "base_uri": "https://localhost:8080/"
        },
        "id": "96XL9Oe9RFvj",
        "outputId": "4dab1059-44ac-4859-bc98-160ee0ee1c89"
      },
      "source": [
        "flights.SCHEDULED_DEPARTURE.value_counts()"
      ],
      "execution_count": null,
      "outputs": [
        {
          "output_type": "execute_result",
          "data": {
            "text/plain": [
              "600    109943\n",
              "700     82910\n",
              "800     51875\n",
              "630     39473\n",
              "900     39419\n",
              "        ...  \n",
              "345         1\n",
              "344         1\n",
              "337         1\n",
              "303         1\n",
              "358         1\n",
              "Name: SCHEDULED_DEPARTURE, Length: 1321, dtype: int64"
            ]
          },
          "metadata": {
            "tags": []
          },
          "execution_count": 23
        }
      ]
    },
    {
      "cell_type": "markdown",
      "metadata": {
        "id": "58kYuXx0lSZp"
      },
      "source": [
        "**EXploratory Data Analysis ,Data Cleaning and Pre-processing for Flights dataset is complete.**"
      ]
    },
    {
      "cell_type": "markdown",
      "metadata": {
        "id": "1y586Z5ble_j"
      },
      "source": [
        "**Exploratory Data Analysis of Weather2 dataset.**"
      ]
    },
    {
      "cell_type": "code",
      "metadata": {
        "colab": {
          "base_uri": "https://localhost:8080/",
          "height": 1000
        },
        "id": "Bq5ZCXBVRitg",
        "outputId": "8377771b-09c5-4ee6-ee1f-005a08f26cdd"
      },
      "source": [
        "weather2=pd.read_csv(\"weather2.csv\")\n",
        "weather2.info()\n",
        "weather2.head()"
      ],
      "execution_count": null,
      "outputs": [
        {
          "output_type": "stream",
          "text": [
            "<class 'pandas.core.frame.DataFrame'>\n",
            "RangeIndex: 730 entries, 0 to 729\n",
            "Data columns (total 23 columns):\n",
            " #   Column   Non-Null Count  Dtype  \n",
            "---  ------   --------------  -----  \n",
            " 0   STATION  730 non-null    object \n",
            " 1   NAME     730 non-null    object \n",
            " 2   DATE     730 non-null    object \n",
            " 3   AWND     730 non-null    float64\n",
            " 4   PGTM     0 non-null      float64\n",
            " 5   PRCP     730 non-null    float64\n",
            " 6   SNOW     365 non-null    float64\n",
            " 7   SNWD     365 non-null    float64\n",
            " 8   TAVG     730 non-null    int64  \n",
            " 9   TMAX     730 non-null    int64  \n",
            " 10  TMIN     730 non-null    int64  \n",
            " 11  WDF2     730 non-null    int64  \n",
            " 12  WDF5     725 non-null    float64\n",
            " 13  WSF2     730 non-null    float64\n",
            " 14  WSF5     725 non-null    float64\n",
            " 15  WT01     240 non-null    float64\n",
            " 16  WT02     8 non-null      float64\n",
            " 17  WT03     50 non-null     float64\n",
            " 18  WT04     4 non-null      float64\n",
            " 19  WT05     0 non-null      float64\n",
            " 20  WT06     4 non-null      float64\n",
            " 21  WT08     143 non-null    float64\n",
            " 22  WT09     5 non-null      float64\n",
            "dtypes: float64(16), int64(4), object(3)\n",
            "memory usage: 131.3+ KB\n"
          ],
          "name": "stdout"
        },
        {
          "output_type": "execute_result",
          "data": {
            "text/html": [
              "<div>\n",
              "<style scoped>\n",
              "    .dataframe tbody tr th:only-of-type {\n",
              "        vertical-align: middle;\n",
              "    }\n",
              "\n",
              "    .dataframe tbody tr th {\n",
              "        vertical-align: top;\n",
              "    }\n",
              "\n",
              "    .dataframe thead th {\n",
              "        text-align: right;\n",
              "    }\n",
              "</style>\n",
              "<table border=\"1\" class=\"dataframe\">\n",
              "  <thead>\n",
              "    <tr style=\"text-align: right;\">\n",
              "      <th></th>\n",
              "      <th>STATION</th>\n",
              "      <th>NAME</th>\n",
              "      <th>DATE</th>\n",
              "      <th>AWND</th>\n",
              "      <th>PGTM</th>\n",
              "      <th>PRCP</th>\n",
              "      <th>SNOW</th>\n",
              "      <th>SNWD</th>\n",
              "      <th>TAVG</th>\n",
              "      <th>TMAX</th>\n",
              "      <th>TMIN</th>\n",
              "      <th>WDF2</th>\n",
              "      <th>WDF5</th>\n",
              "      <th>WSF2</th>\n",
              "      <th>WSF5</th>\n",
              "      <th>WT01</th>\n",
              "      <th>WT02</th>\n",
              "      <th>WT03</th>\n",
              "      <th>WT04</th>\n",
              "      <th>WT05</th>\n",
              "      <th>WT06</th>\n",
              "      <th>WT08</th>\n",
              "      <th>WT09</th>\n",
              "    </tr>\n",
              "  </thead>\n",
              "  <tbody>\n",
              "    <tr>\n",
              "      <th>0</th>\n",
              "      <td>USW00014922</td>\n",
              "      <td>MINNEAPOLIS ST. PAUL INTERNATIONAL AIRPORT, MN US</td>\n",
              "      <td>2015-01-01</td>\n",
              "      <td>10.51</td>\n",
              "      <td>NaN</td>\n",
              "      <td>0.00</td>\n",
              "      <td>0.0</td>\n",
              "      <td>3.1</td>\n",
              "      <td>18</td>\n",
              "      <td>30</td>\n",
              "      <td>11</td>\n",
              "      <td>330</td>\n",
              "      <td>330.0</td>\n",
              "      <td>19.9</td>\n",
              "      <td>25.9</td>\n",
              "      <td>NaN</td>\n",
              "      <td>NaN</td>\n",
              "      <td>NaN</td>\n",
              "      <td>NaN</td>\n",
              "      <td>NaN</td>\n",
              "      <td>NaN</td>\n",
              "      <td>NaN</td>\n",
              "      <td>NaN</td>\n",
              "    </tr>\n",
              "    <tr>\n",
              "      <th>1</th>\n",
              "      <td>USW00014922</td>\n",
              "      <td>MINNEAPOLIS ST. PAUL INTERNATIONAL AIRPORT, MN US</td>\n",
              "      <td>2015-01-02</td>\n",
              "      <td>6.93</td>\n",
              "      <td>NaN</td>\n",
              "      <td>0.00</td>\n",
              "      <td>0.0</td>\n",
              "      <td>3.1</td>\n",
              "      <td>17</td>\n",
              "      <td>28</td>\n",
              "      <td>6</td>\n",
              "      <td>160</td>\n",
              "      <td>160.0</td>\n",
              "      <td>16.1</td>\n",
              "      <td>19.0</td>\n",
              "      <td>NaN</td>\n",
              "      <td>NaN</td>\n",
              "      <td>NaN</td>\n",
              "      <td>NaN</td>\n",
              "      <td>NaN</td>\n",
              "      <td>NaN</td>\n",
              "      <td>NaN</td>\n",
              "      <td>NaN</td>\n",
              "    </tr>\n",
              "    <tr>\n",
              "      <th>2</th>\n",
              "      <td>USW00014922</td>\n",
              "      <td>MINNEAPOLIS ST. PAUL INTERNATIONAL AIRPORT, MN US</td>\n",
              "      <td>2015-01-03</td>\n",
              "      <td>12.53</td>\n",
              "      <td>NaN</td>\n",
              "      <td>0.00</td>\n",
              "      <td>0.1</td>\n",
              "      <td>3.1</td>\n",
              "      <td>26</td>\n",
              "      <td>33</td>\n",
              "      <td>12</td>\n",
              "      <td>350</td>\n",
              "      <td>340.0</td>\n",
              "      <td>29.1</td>\n",
              "      <td>35.1</td>\n",
              "      <td>1.0</td>\n",
              "      <td>NaN</td>\n",
              "      <td>NaN</td>\n",
              "      <td>NaN</td>\n",
              "      <td>NaN</td>\n",
              "      <td>NaN</td>\n",
              "      <td>1.0</td>\n",
              "      <td>1.0</td>\n",
              "    </tr>\n",
              "    <tr>\n",
              "      <th>3</th>\n",
              "      <td>USW00014922</td>\n",
              "      <td>MINNEAPOLIS ST. PAUL INTERNATIONAL AIRPORT, MN US</td>\n",
              "      <td>2015-01-04</td>\n",
              "      <td>16.11</td>\n",
              "      <td>NaN</td>\n",
              "      <td>0.00</td>\n",
              "      <td>0.0</td>\n",
              "      <td>3.1</td>\n",
              "      <td>5</td>\n",
              "      <td>12</td>\n",
              "      <td>-7</td>\n",
              "      <td>340</td>\n",
              "      <td>340.0</td>\n",
              "      <td>25.9</td>\n",
              "      <td>34.0</td>\n",
              "      <td>NaN</td>\n",
              "      <td>NaN</td>\n",
              "      <td>NaN</td>\n",
              "      <td>NaN</td>\n",
              "      <td>NaN</td>\n",
              "      <td>NaN</td>\n",
              "      <td>NaN</td>\n",
              "      <td>NaN</td>\n",
              "    </tr>\n",
              "    <tr>\n",
              "      <th>4</th>\n",
              "      <td>USW00014922</td>\n",
              "      <td>MINNEAPOLIS ST. PAUL INTERNATIONAL AIRPORT, MN US</td>\n",
              "      <td>2015-01-05</td>\n",
              "      <td>7.16</td>\n",
              "      <td>NaN</td>\n",
              "      <td>0.06</td>\n",
              "      <td>0.5</td>\n",
              "      <td>3.1</td>\n",
              "      <td>-7</td>\n",
              "      <td>1</td>\n",
              "      <td>-11</td>\n",
              "      <td>240</td>\n",
              "      <td>280.0</td>\n",
              "      <td>15.0</td>\n",
              "      <td>19.0</td>\n",
              "      <td>1.0</td>\n",
              "      <td>NaN</td>\n",
              "      <td>NaN</td>\n",
              "      <td>NaN</td>\n",
              "      <td>NaN</td>\n",
              "      <td>NaN</td>\n",
              "      <td>1.0</td>\n",
              "      <td>NaN</td>\n",
              "    </tr>\n",
              "  </tbody>\n",
              "</table>\n",
              "</div>"
            ],
            "text/plain": [
              "       STATION                                               NAME  ... WT08  WT09\n",
              "0  USW00014922  MINNEAPOLIS ST. PAUL INTERNATIONAL AIRPORT, MN US  ...  NaN   NaN\n",
              "1  USW00014922  MINNEAPOLIS ST. PAUL INTERNATIONAL AIRPORT, MN US  ...  NaN   NaN\n",
              "2  USW00014922  MINNEAPOLIS ST. PAUL INTERNATIONAL AIRPORT, MN US  ...  1.0   1.0\n",
              "3  USW00014922  MINNEAPOLIS ST. PAUL INTERNATIONAL AIRPORT, MN US  ...  NaN   NaN\n",
              "4  USW00014922  MINNEAPOLIS ST. PAUL INTERNATIONAL AIRPORT, MN US  ...  1.0   NaN\n",
              "\n",
              "[5 rows x 23 columns]"
            ]
          },
          "metadata": {
            "tags": []
          },
          "execution_count": 16
        }
      ]
    },
    {
      "cell_type": "code",
      "metadata": {
        "colab": {
          "base_uri": "https://localhost:8080/"
        },
        "id": "BSJmiFLadJI6",
        "outputId": "b2fb3aa9-da6d-4c28-8691-1f1bd8a78bb3"
      },
      "source": [
        "weather2.shape"
      ],
      "execution_count": null,
      "outputs": [
        {
          "output_type": "execute_result",
          "data": {
            "text/plain": [
              "(730, 23)"
            ]
          },
          "metadata": {
            "tags": []
          },
          "execution_count": 25
        }
      ]
    },
    {
      "cell_type": "code",
      "metadata": {
        "id": "b0FrNjrHcpdy"
      },
      "source": [
        "# fuction to find missing value percetnage\n",
        "def findmissingval():\n",
        "    df_missing=pd.DataFrame((weather2.isnull().sum()  / weather2.shape[0] *100).round(3),columns=['Percentage'])\n",
        "    return df_missing    "
      ],
      "execution_count": null,
      "outputs": []
    },
    {
      "cell_type": "code",
      "metadata": {
        "colab": {
          "base_uri": "https://localhost:8080/",
          "height": 762
        },
        "id": "mCy8uKcddCvv",
        "outputId": "3cc04abd-231d-4d58-e795-edf1d8daa300"
      },
      "source": [
        "# find out the percentage of missing value in each column\n",
        "df_missing=findmissingval()\n",
        "df_missing.sort_values(by='Percentage',ascending=False)"
      ],
      "execution_count": null,
      "outputs": [
        {
          "output_type": "execute_result",
          "data": {
            "text/html": [
              "<div>\n",
              "<style scoped>\n",
              "    .dataframe tbody tr th:only-of-type {\n",
              "        vertical-align: middle;\n",
              "    }\n",
              "\n",
              "    .dataframe tbody tr th {\n",
              "        vertical-align: top;\n",
              "    }\n",
              "\n",
              "    .dataframe thead th {\n",
              "        text-align: right;\n",
              "    }\n",
              "</style>\n",
              "<table border=\"1\" class=\"dataframe\">\n",
              "  <thead>\n",
              "    <tr style=\"text-align: right;\">\n",
              "      <th></th>\n",
              "      <th>Percentage</th>\n",
              "    </tr>\n",
              "  </thead>\n",
              "  <tbody>\n",
              "    <tr>\n",
              "      <th>PGTM</th>\n",
              "      <td>100.000</td>\n",
              "    </tr>\n",
              "    <tr>\n",
              "      <th>WT05</th>\n",
              "      <td>100.000</td>\n",
              "    </tr>\n",
              "    <tr>\n",
              "      <th>WT06</th>\n",
              "      <td>99.452</td>\n",
              "    </tr>\n",
              "    <tr>\n",
              "      <th>WT04</th>\n",
              "      <td>99.452</td>\n",
              "    </tr>\n",
              "    <tr>\n",
              "      <th>WT09</th>\n",
              "      <td>99.315</td>\n",
              "    </tr>\n",
              "    <tr>\n",
              "      <th>WT02</th>\n",
              "      <td>98.904</td>\n",
              "    </tr>\n",
              "    <tr>\n",
              "      <th>WT03</th>\n",
              "      <td>93.151</td>\n",
              "    </tr>\n",
              "    <tr>\n",
              "      <th>WT08</th>\n",
              "      <td>80.411</td>\n",
              "    </tr>\n",
              "    <tr>\n",
              "      <th>WT01</th>\n",
              "      <td>67.123</td>\n",
              "    </tr>\n",
              "    <tr>\n",
              "      <th>SNOW</th>\n",
              "      <td>50.000</td>\n",
              "    </tr>\n",
              "    <tr>\n",
              "      <th>SNWD</th>\n",
              "      <td>50.000</td>\n",
              "    </tr>\n",
              "    <tr>\n",
              "      <th>WSF5</th>\n",
              "      <td>0.685</td>\n",
              "    </tr>\n",
              "    <tr>\n",
              "      <th>WDF5</th>\n",
              "      <td>0.685</td>\n",
              "    </tr>\n",
              "    <tr>\n",
              "      <th>STATION</th>\n",
              "      <td>0.000</td>\n",
              "    </tr>\n",
              "    <tr>\n",
              "      <th>WSF2</th>\n",
              "      <td>0.000</td>\n",
              "    </tr>\n",
              "    <tr>\n",
              "      <th>NAME</th>\n",
              "      <td>0.000</td>\n",
              "    </tr>\n",
              "    <tr>\n",
              "      <th>TMIN</th>\n",
              "      <td>0.000</td>\n",
              "    </tr>\n",
              "    <tr>\n",
              "      <th>TMAX</th>\n",
              "      <td>0.000</td>\n",
              "    </tr>\n",
              "    <tr>\n",
              "      <th>TAVG</th>\n",
              "      <td>0.000</td>\n",
              "    </tr>\n",
              "    <tr>\n",
              "      <th>PRCP</th>\n",
              "      <td>0.000</td>\n",
              "    </tr>\n",
              "    <tr>\n",
              "      <th>AWND</th>\n",
              "      <td>0.000</td>\n",
              "    </tr>\n",
              "    <tr>\n",
              "      <th>DATE</th>\n",
              "      <td>0.000</td>\n",
              "    </tr>\n",
              "    <tr>\n",
              "      <th>WDF2</th>\n",
              "      <td>0.000</td>\n",
              "    </tr>\n",
              "  </tbody>\n",
              "</table>\n",
              "</div>"
            ],
            "text/plain": [
              "         Percentage\n",
              "PGTM        100.000\n",
              "WT05        100.000\n",
              "WT06         99.452\n",
              "WT04         99.452\n",
              "WT09         99.315\n",
              "WT02         98.904\n",
              "WT03         93.151\n",
              "WT08         80.411\n",
              "WT01         67.123\n",
              "SNOW         50.000\n",
              "SNWD         50.000\n",
              "WSF5          0.685\n",
              "WDF5          0.685\n",
              "STATION       0.000\n",
              "WSF2          0.000\n",
              "NAME          0.000\n",
              "TMIN          0.000\n",
              "TMAX          0.000\n",
              "TAVG          0.000\n",
              "PRCP          0.000\n",
              "AWND          0.000\n",
              "DATE          0.000\n",
              "WDF2          0.000"
            ]
          },
          "metadata": {
            "tags": []
          },
          "execution_count": 18
        }
      ]
    },
    {
      "cell_type": "code",
      "metadata": {
        "colab": {
          "base_uri": "https://localhost:8080/"
        },
        "id": "jYf1FfC-dVFI",
        "outputId": "ad2b801e-1572-4edd-ebd7-4a9b729300d0"
      },
      "source": [
        "# select columns having more than 40% missing values.\n",
        "columnstodrop=df_missing[df_missing['Percentage'] > 40]\n",
        "columnstodrop.index"
      ],
      "execution_count": null,
      "outputs": [
        {
          "output_type": "execute_result",
          "data": {
            "text/plain": [
              "Index(['PGTM', 'SNOW', 'SNWD', 'WT01', 'WT02', 'WT03', 'WT04', 'WT05', 'WT06',\n",
              "       'WT08', 'WT09'],\n",
              "      dtype='object')"
            ]
          },
          "metadata": {
            "tags": []
          },
          "execution_count": 19
        }
      ]
    },
    {
      "cell_type": "code",
      "metadata": {
        "id": "Jw4Jy43WdeN_"
      },
      "source": [
        "# drop the columns which having more than 40% missing values\n",
        "weather2=weather2.drop(columnstodrop.index,axis=1)"
      ],
      "execution_count": null,
      "outputs": []
    },
    {
      "cell_type": "code",
      "metadata": {
        "colab": {
          "base_uri": "https://localhost:8080/",
          "height": 421
        },
        "id": "R0oawWg3dmh2",
        "outputId": "c8eeae71-d024-4770-d2b6-fe61452d123b"
      },
      "source": [
        "# find out the percentage of missing value in each column\n",
        "df_missing=findmissingval()\n",
        "df_missing.sort_values(by='Percentage',ascending=False)"
      ],
      "execution_count": null,
      "outputs": [
        {
          "output_type": "execute_result",
          "data": {
            "text/html": [
              "<div>\n",
              "<style scoped>\n",
              "    .dataframe tbody tr th:only-of-type {\n",
              "        vertical-align: middle;\n",
              "    }\n",
              "\n",
              "    .dataframe tbody tr th {\n",
              "        vertical-align: top;\n",
              "    }\n",
              "\n",
              "    .dataframe thead th {\n",
              "        text-align: right;\n",
              "    }\n",
              "</style>\n",
              "<table border=\"1\" class=\"dataframe\">\n",
              "  <thead>\n",
              "    <tr style=\"text-align: right;\">\n",
              "      <th></th>\n",
              "      <th>Percentage</th>\n",
              "    </tr>\n",
              "  </thead>\n",
              "  <tbody>\n",
              "    <tr>\n",
              "      <th>WDF5</th>\n",
              "      <td>0.685</td>\n",
              "    </tr>\n",
              "    <tr>\n",
              "      <th>WSF5</th>\n",
              "      <td>0.685</td>\n",
              "    </tr>\n",
              "    <tr>\n",
              "      <th>STATION</th>\n",
              "      <td>0.000</td>\n",
              "    </tr>\n",
              "    <tr>\n",
              "      <th>NAME</th>\n",
              "      <td>0.000</td>\n",
              "    </tr>\n",
              "    <tr>\n",
              "      <th>DATE</th>\n",
              "      <td>0.000</td>\n",
              "    </tr>\n",
              "    <tr>\n",
              "      <th>AWND</th>\n",
              "      <td>0.000</td>\n",
              "    </tr>\n",
              "    <tr>\n",
              "      <th>PRCP</th>\n",
              "      <td>0.000</td>\n",
              "    </tr>\n",
              "    <tr>\n",
              "      <th>TAVG</th>\n",
              "      <td>0.000</td>\n",
              "    </tr>\n",
              "    <tr>\n",
              "      <th>TMAX</th>\n",
              "      <td>0.000</td>\n",
              "    </tr>\n",
              "    <tr>\n",
              "      <th>TMIN</th>\n",
              "      <td>0.000</td>\n",
              "    </tr>\n",
              "    <tr>\n",
              "      <th>WDF2</th>\n",
              "      <td>0.000</td>\n",
              "    </tr>\n",
              "    <tr>\n",
              "      <th>WSF2</th>\n",
              "      <td>0.000</td>\n",
              "    </tr>\n",
              "  </tbody>\n",
              "</table>\n",
              "</div>"
            ],
            "text/plain": [
              "         Percentage\n",
              "WDF5          0.685\n",
              "WSF5          0.685\n",
              "STATION       0.000\n",
              "NAME          0.000\n",
              "DATE          0.000\n",
              "AWND          0.000\n",
              "PRCP          0.000\n",
              "TAVG          0.000\n",
              "TMAX          0.000\n",
              "TMIN          0.000\n",
              "WDF2          0.000\n",
              "WSF2          0.000"
            ]
          },
          "metadata": {
            "tags": []
          },
          "execution_count": 21
        }
      ]
    },
    {
      "cell_type": "code",
      "metadata": {
        "colab": {
          "base_uri": "https://localhost:8080/"
        },
        "id": "SwBySKxVd-MN",
        "outputId": "46e3bd0c-7b26-49fc-e59e-39f5eec90a85"
      },
      "source": [
        "weather2.info()"
      ],
      "execution_count": null,
      "outputs": [
        {
          "output_type": "stream",
          "text": [
            "<class 'pandas.core.frame.DataFrame'>\n",
            "RangeIndex: 730 entries, 0 to 729\n",
            "Data columns (total 12 columns):\n",
            " #   Column   Non-Null Count  Dtype  \n",
            "---  ------   --------------  -----  \n",
            " 0   STATION  730 non-null    object \n",
            " 1   NAME     730 non-null    object \n",
            " 2   DATE     730 non-null    object \n",
            " 3   AWND     730 non-null    float64\n",
            " 4   PRCP     730 non-null    float64\n",
            " 5   TAVG     730 non-null    int64  \n",
            " 6   TMAX     730 non-null    int64  \n",
            " 7   TMIN     730 non-null    int64  \n",
            " 8   WDF2     730 non-null    int64  \n",
            " 9   WDF5     725 non-null    float64\n",
            " 10  WSF2     730 non-null    float64\n",
            " 11  WSF5     725 non-null    float64\n",
            "dtypes: float64(5), int64(4), object(3)\n",
            "memory usage: 68.6+ KB\n"
          ],
          "name": "stdout"
        }
      ]
    },
    {
      "cell_type": "code",
      "metadata": {
        "colab": {
          "base_uri": "https://localhost:8080/"
        },
        "id": "tjk2GPHleJ33",
        "outputId": "65350c4b-d337-4704-d08d-f70fc6080256"
      },
      "source": [
        "weather2.isnull().sum()"
      ],
      "execution_count": null,
      "outputs": [
        {
          "output_type": "execute_result",
          "data": {
            "text/plain": [
              "STATION    0\n",
              "NAME       0\n",
              "DATE       0\n",
              "AWND       0\n",
              "PRCP       0\n",
              "TAVG       0\n",
              "TMAX       0\n",
              "TMIN       0\n",
              "WDF2       0\n",
              "WDF5       5\n",
              "WSF2       0\n",
              "WSF5       5\n",
              "dtype: int64"
            ]
          },
          "metadata": {
            "tags": []
          },
          "execution_count": 24
        }
      ]
    },
    {
      "cell_type": "markdown",
      "metadata": {
        "id": "Fi9Ea0Hl6_b4"
      },
      "source": [
        "Filling the NA values with mean"
      ]
    },
    {
      "cell_type": "code",
      "metadata": {
        "id": "CwDZV4HSeLF_"
      },
      "source": [
        "weather2['WSF5'].fillna(weather2['WSF5'].mean(),inplace=True)\n",
        "weather2['WDF5'].fillna(weather2['WDF5'].mean(),inplace=True)"
      ],
      "execution_count": null,
      "outputs": []
    },
    {
      "cell_type": "code",
      "metadata": {
        "colab": {
          "base_uri": "https://localhost:8080/"
        },
        "id": "IMPh_39MenKM",
        "outputId": "de2a3469-420b-4f0e-f578-73e14914fd61"
      },
      "source": [
        "weather2.isnull().sum()"
      ],
      "execution_count": null,
      "outputs": [
        {
          "output_type": "execute_result",
          "data": {
            "text/plain": [
              "STATION    0\n",
              "NAME       0\n",
              "DATE       0\n",
              "AWND       0\n",
              "PRCP       0\n",
              "TAVG       0\n",
              "TMAX       0\n",
              "TMIN       0\n",
              "WDF2       0\n",
              "WDF5       0\n",
              "WSF2       0\n",
              "WSF5       0\n",
              "dtype: int64"
            ]
          },
          "metadata": {
            "tags": []
          },
          "execution_count": 23
        }
      ]
    },
    {
      "cell_type": "code",
      "metadata": {
        "colab": {
          "base_uri": "https://localhost:8080/",
          "height": 419
        },
        "id": "3BDP_riheu7H",
        "outputId": "df0e85ed-fd47-4e6a-9adb-fe4689eb5de7"
      },
      "source": [
        "weather2"
      ],
      "execution_count": null,
      "outputs": [
        {
          "output_type": "execute_result",
          "data": {
            "text/html": [
              "<div>\n",
              "<style scoped>\n",
              "    .dataframe tbody tr th:only-of-type {\n",
              "        vertical-align: middle;\n",
              "    }\n",
              "\n",
              "    .dataframe tbody tr th {\n",
              "        vertical-align: top;\n",
              "    }\n",
              "\n",
              "    .dataframe thead th {\n",
              "        text-align: right;\n",
              "    }\n",
              "</style>\n",
              "<table border=\"1\" class=\"dataframe\">\n",
              "  <thead>\n",
              "    <tr style=\"text-align: right;\">\n",
              "      <th></th>\n",
              "      <th>STATION</th>\n",
              "      <th>NAME</th>\n",
              "      <th>DATE</th>\n",
              "      <th>AWND</th>\n",
              "      <th>PRCP</th>\n",
              "      <th>TAVG</th>\n",
              "      <th>TMAX</th>\n",
              "      <th>TMIN</th>\n",
              "      <th>WDF2</th>\n",
              "      <th>WDF5</th>\n",
              "      <th>WSF2</th>\n",
              "      <th>WSF5</th>\n",
              "    </tr>\n",
              "  </thead>\n",
              "  <tbody>\n",
              "    <tr>\n",
              "      <th>0</th>\n",
              "      <td>USW00014922</td>\n",
              "      <td>MINNEAPOLIS ST. PAUL INTERNATIONAL AIRPORT, MN US</td>\n",
              "      <td>2015-01-01</td>\n",
              "      <td>10.51</td>\n",
              "      <td>0.00</td>\n",
              "      <td>18</td>\n",
              "      <td>30</td>\n",
              "      <td>11</td>\n",
              "      <td>330</td>\n",
              "      <td>330.0</td>\n",
              "      <td>19.9</td>\n",
              "      <td>25.9</td>\n",
              "    </tr>\n",
              "    <tr>\n",
              "      <th>1</th>\n",
              "      <td>USW00014922</td>\n",
              "      <td>MINNEAPOLIS ST. PAUL INTERNATIONAL AIRPORT, MN US</td>\n",
              "      <td>2015-01-02</td>\n",
              "      <td>6.93</td>\n",
              "      <td>0.00</td>\n",
              "      <td>17</td>\n",
              "      <td>28</td>\n",
              "      <td>6</td>\n",
              "      <td>160</td>\n",
              "      <td>160.0</td>\n",
              "      <td>16.1</td>\n",
              "      <td>19.0</td>\n",
              "    </tr>\n",
              "    <tr>\n",
              "      <th>2</th>\n",
              "      <td>USW00014922</td>\n",
              "      <td>MINNEAPOLIS ST. PAUL INTERNATIONAL AIRPORT, MN US</td>\n",
              "      <td>2015-01-03</td>\n",
              "      <td>12.53</td>\n",
              "      <td>0.00</td>\n",
              "      <td>26</td>\n",
              "      <td>33</td>\n",
              "      <td>12</td>\n",
              "      <td>350</td>\n",
              "      <td>340.0</td>\n",
              "      <td>29.1</td>\n",
              "      <td>35.1</td>\n",
              "    </tr>\n",
              "    <tr>\n",
              "      <th>3</th>\n",
              "      <td>USW00014922</td>\n",
              "      <td>MINNEAPOLIS ST. PAUL INTERNATIONAL AIRPORT, MN US</td>\n",
              "      <td>2015-01-04</td>\n",
              "      <td>16.11</td>\n",
              "      <td>0.00</td>\n",
              "      <td>5</td>\n",
              "      <td>12</td>\n",
              "      <td>-7</td>\n",
              "      <td>340</td>\n",
              "      <td>340.0</td>\n",
              "      <td>25.9</td>\n",
              "      <td>34.0</td>\n",
              "    </tr>\n",
              "    <tr>\n",
              "      <th>4</th>\n",
              "      <td>USW00014922</td>\n",
              "      <td>MINNEAPOLIS ST. PAUL INTERNATIONAL AIRPORT, MN US</td>\n",
              "      <td>2015-01-05</td>\n",
              "      <td>7.16</td>\n",
              "      <td>0.06</td>\n",
              "      <td>-7</td>\n",
              "      <td>1</td>\n",
              "      <td>-11</td>\n",
              "      <td>240</td>\n",
              "      <td>280.0</td>\n",
              "      <td>15.0</td>\n",
              "      <td>19.0</td>\n",
              "    </tr>\n",
              "    <tr>\n",
              "      <th>...</th>\n",
              "      <td>...</td>\n",
              "      <td>...</td>\n",
              "      <td>...</td>\n",
              "      <td>...</td>\n",
              "      <td>...</td>\n",
              "      <td>...</td>\n",
              "      <td>...</td>\n",
              "      <td>...</td>\n",
              "      <td>...</td>\n",
              "      <td>...</td>\n",
              "      <td>...</td>\n",
              "      <td>...</td>\n",
              "    </tr>\n",
              "    <tr>\n",
              "      <th>725</th>\n",
              "      <td>USW00023234</td>\n",
              "      <td>SAN FRANCISCO INTERNATIONAL AIRPORT, CA US</td>\n",
              "      <td>2015-12-27</td>\n",
              "      <td>4.47</td>\n",
              "      <td>0.01</td>\n",
              "      <td>42</td>\n",
              "      <td>48</td>\n",
              "      <td>34</td>\n",
              "      <td>90</td>\n",
              "      <td>90.0</td>\n",
              "      <td>15.0</td>\n",
              "      <td>17.0</td>\n",
              "    </tr>\n",
              "    <tr>\n",
              "      <th>726</th>\n",
              "      <td>USW00023234</td>\n",
              "      <td>SAN FRANCISCO INTERNATIONAL AIRPORT, CA US</td>\n",
              "      <td>2015-12-28</td>\n",
              "      <td>5.14</td>\n",
              "      <td>0.11</td>\n",
              "      <td>44</td>\n",
              "      <td>48</td>\n",
              "      <td>41</td>\n",
              "      <td>10</td>\n",
              "      <td>10.0</td>\n",
              "      <td>13.0</td>\n",
              "      <td>15.0</td>\n",
              "    </tr>\n",
              "    <tr>\n",
              "      <th>727</th>\n",
              "      <td>USW00023234</td>\n",
              "      <td>SAN FRANCISCO INTERNATIONAL AIRPORT, CA US</td>\n",
              "      <td>2015-12-29</td>\n",
              "      <td>2.91</td>\n",
              "      <td>0.00</td>\n",
              "      <td>44</td>\n",
              "      <td>54</td>\n",
              "      <td>36</td>\n",
              "      <td>250</td>\n",
              "      <td>250.0</td>\n",
              "      <td>12.1</td>\n",
              "      <td>13.0</td>\n",
              "    </tr>\n",
              "    <tr>\n",
              "      <th>728</th>\n",
              "      <td>USW00023234</td>\n",
              "      <td>SAN FRANCISCO INTERNATIONAL AIRPORT, CA US</td>\n",
              "      <td>2015-12-30</td>\n",
              "      <td>6.93</td>\n",
              "      <td>0.01</td>\n",
              "      <td>46</td>\n",
              "      <td>49</td>\n",
              "      <td>40</td>\n",
              "      <td>60</td>\n",
              "      <td>360.0</td>\n",
              "      <td>16.1</td>\n",
              "      <td>18.1</td>\n",
              "    </tr>\n",
              "    <tr>\n",
              "      <th>729</th>\n",
              "      <td>USW00023234</td>\n",
              "      <td>SAN FRANCISCO INTERNATIONAL AIRPORT, CA US</td>\n",
              "      <td>2015-12-31</td>\n",
              "      <td>8.05</td>\n",
              "      <td>0.00</td>\n",
              "      <td>46</td>\n",
              "      <td>51</td>\n",
              "      <td>39</td>\n",
              "      <td>80</td>\n",
              "      <td>70.0</td>\n",
              "      <td>17.0</td>\n",
              "      <td>19.9</td>\n",
              "    </tr>\n",
              "  </tbody>\n",
              "</table>\n",
              "<p>730 rows × 12 columns</p>\n",
              "</div>"
            ],
            "text/plain": [
              "         STATION                                               NAME  ...  WSF2  WSF5\n",
              "0    USW00014922  MINNEAPOLIS ST. PAUL INTERNATIONAL AIRPORT, MN US  ...  19.9  25.9\n",
              "1    USW00014922  MINNEAPOLIS ST. PAUL INTERNATIONAL AIRPORT, MN US  ...  16.1  19.0\n",
              "2    USW00014922  MINNEAPOLIS ST. PAUL INTERNATIONAL AIRPORT, MN US  ...  29.1  35.1\n",
              "3    USW00014922  MINNEAPOLIS ST. PAUL INTERNATIONAL AIRPORT, MN US  ...  25.9  34.0\n",
              "4    USW00014922  MINNEAPOLIS ST. PAUL INTERNATIONAL AIRPORT, MN US  ...  15.0  19.0\n",
              "..           ...                                                ...  ...   ...   ...\n",
              "725  USW00023234         SAN FRANCISCO INTERNATIONAL AIRPORT, CA US  ...  15.0  17.0\n",
              "726  USW00023234         SAN FRANCISCO INTERNATIONAL AIRPORT, CA US  ...  13.0  15.0\n",
              "727  USW00023234         SAN FRANCISCO INTERNATIONAL AIRPORT, CA US  ...  12.1  13.0\n",
              "728  USW00023234         SAN FRANCISCO INTERNATIONAL AIRPORT, CA US  ...  16.1  18.1\n",
              "729  USW00023234         SAN FRANCISCO INTERNATIONAL AIRPORT, CA US  ...  17.0  19.9\n",
              "\n",
              "[730 rows x 12 columns]"
            ]
          },
          "metadata": {
            "tags": []
          },
          "execution_count": 24
        }
      ]
    },
    {
      "cell_type": "code",
      "metadata": {
        "colab": {
          "base_uri": "https://localhost:8080/"
        },
        "id": "_LSjRkVneyQQ",
        "outputId": "99906913-892d-4e1a-fec8-dc657bc4583c"
      },
      "source": [
        "weather2.DATE"
      ],
      "execution_count": null,
      "outputs": [
        {
          "output_type": "execute_result",
          "data": {
            "text/plain": [
              "0      2015-01-01\n",
              "1      2015-01-02\n",
              "2      2015-01-03\n",
              "3      2015-01-04\n",
              "4      2015-01-05\n",
              "          ...    \n",
              "725    2015-12-27\n",
              "726    2015-12-28\n",
              "727    2015-12-29\n",
              "728    2015-12-30\n",
              "729    2015-12-31\n",
              "Name: DATE, Length: 730, dtype: object"
            ]
          },
          "metadata": {
            "tags": []
          },
          "execution_count": 25
        }
      ]
    },
    {
      "cell_type": "markdown",
      "metadata": {
        "id": "gKrDvsF37GUA"
      },
      "source": [
        "Changing data type of Date"
      ]
    },
    {
      "cell_type": "code",
      "metadata": {
        "id": "dEhM6B-2e4YD"
      },
      "source": [
        "weather2.DATE=pd.to_datetime(weather2.DATE)"
      ],
      "execution_count": null,
      "outputs": []
    },
    {
      "cell_type": "code",
      "metadata": {
        "colab": {
          "base_uri": "https://localhost:8080/"
        },
        "id": "N_oFvN3ffoop",
        "outputId": "0ead536a-f5ff-47d5-900b-5560b26ca76c"
      },
      "source": [
        "weather2.DATE"
      ],
      "execution_count": null,
      "outputs": [
        {
          "output_type": "execute_result",
          "data": {
            "text/plain": [
              "0     2015-01-01\n",
              "1     2015-01-02\n",
              "2     2015-01-03\n",
              "3     2015-01-04\n",
              "4     2015-01-05\n",
              "         ...    \n",
              "725   2015-12-27\n",
              "726   2015-12-28\n",
              "727   2015-12-29\n",
              "728   2015-12-30\n",
              "729   2015-12-31\n",
              "Name: DATE, Length: 730, dtype: datetime64[ns]"
            ]
          },
          "metadata": {
            "tags": []
          },
          "execution_count": 30
        }
      ]
    },
    {
      "cell_type": "markdown",
      "metadata": {
        "id": "G5O4h3Og7Mta"
      },
      "source": [
        "Correlation matrix"
      ]
    },
    {
      "cell_type": "code",
      "metadata": {
        "colab": {
          "base_uri": "https://localhost:8080/",
          "height": 328
        },
        "id": "WorjC4YufsT1",
        "outputId": "b8474cbe-607b-4d09-d20c-bc64a0b7aaff"
      },
      "source": [
        "weather2.corr()"
      ],
      "execution_count": null,
      "outputs": [
        {
          "output_type": "execute_result",
          "data": {
            "text/html": [
              "<div>\n",
              "<style scoped>\n",
              "    .dataframe tbody tr th:only-of-type {\n",
              "        vertical-align: middle;\n",
              "    }\n",
              "\n",
              "    .dataframe tbody tr th {\n",
              "        vertical-align: top;\n",
              "    }\n",
              "\n",
              "    .dataframe thead th {\n",
              "        text-align: right;\n",
              "    }\n",
              "</style>\n",
              "<table border=\"1\" class=\"dataframe\">\n",
              "  <thead>\n",
              "    <tr style=\"text-align: right;\">\n",
              "      <th></th>\n",
              "      <th>AWND</th>\n",
              "      <th>PRCP</th>\n",
              "      <th>TAVG</th>\n",
              "      <th>TMAX</th>\n",
              "      <th>TMIN</th>\n",
              "      <th>WDF2</th>\n",
              "      <th>WDF5</th>\n",
              "      <th>WSF2</th>\n",
              "      <th>WSF5</th>\n",
              "    </tr>\n",
              "  </thead>\n",
              "  <tbody>\n",
              "    <tr>\n",
              "      <th>AWND</th>\n",
              "      <td>1.000000</td>\n",
              "      <td>0.165168</td>\n",
              "      <td>0.004242</td>\n",
              "      <td>-0.052196</td>\n",
              "      <td>0.013884</td>\n",
              "      <td>0.242926</td>\n",
              "      <td>0.237208</td>\n",
              "      <td>0.827231</td>\n",
              "      <td>0.805701</td>\n",
              "    </tr>\n",
              "    <tr>\n",
              "      <th>PRCP</th>\n",
              "      <td>0.165168</td>\n",
              "      <td>1.000000</td>\n",
              "      <td>0.100297</td>\n",
              "      <td>0.046136</td>\n",
              "      <td>0.092046</td>\n",
              "      <td>-0.004805</td>\n",
              "      <td>-0.066093</td>\n",
              "      <td>0.181120</td>\n",
              "      <td>0.217675</td>\n",
              "    </tr>\n",
              "    <tr>\n",
              "      <th>TAVG</th>\n",
              "      <td>0.004242</td>\n",
              "      <td>0.100297</td>\n",
              "      <td>1.000000</td>\n",
              "      <td>0.972330</td>\n",
              "      <td>0.980515</td>\n",
              "      <td>0.031644</td>\n",
              "      <td>0.020421</td>\n",
              "      <td>0.125823</td>\n",
              "      <td>0.093233</td>\n",
              "    </tr>\n",
              "    <tr>\n",
              "      <th>TMAX</th>\n",
              "      <td>-0.052196</td>\n",
              "      <td>0.046136</td>\n",
              "      <td>0.972330</td>\n",
              "      <td>1.000000</td>\n",
              "      <td>0.937867</td>\n",
              "      <td>0.040049</td>\n",
              "      <td>0.031257</td>\n",
              "      <td>0.100894</td>\n",
              "      <td>0.062419</td>\n",
              "    </tr>\n",
              "    <tr>\n",
              "      <th>TMIN</th>\n",
              "      <td>0.013884</td>\n",
              "      <td>0.092046</td>\n",
              "      <td>0.980515</td>\n",
              "      <td>0.937867</td>\n",
              "      <td>1.000000</td>\n",
              "      <td>0.029573</td>\n",
              "      <td>0.025529</td>\n",
              "      <td>0.123546</td>\n",
              "      <td>0.083146</td>\n",
              "    </tr>\n",
              "    <tr>\n",
              "      <th>WDF2</th>\n",
              "      <td>0.242926</td>\n",
              "      <td>-0.004805</td>\n",
              "      <td>0.031644</td>\n",
              "      <td>0.040049</td>\n",
              "      <td>0.029573</td>\n",
              "      <td>1.000000</td>\n",
              "      <td>0.696509</td>\n",
              "      <td>0.365704</td>\n",
              "      <td>0.317931</td>\n",
              "    </tr>\n",
              "    <tr>\n",
              "      <th>WDF5</th>\n",
              "      <td>0.237208</td>\n",
              "      <td>-0.066093</td>\n",
              "      <td>0.020421</td>\n",
              "      <td>0.031257</td>\n",
              "      <td>0.025529</td>\n",
              "      <td>0.696509</td>\n",
              "      <td>1.000000</td>\n",
              "      <td>0.351077</td>\n",
              "      <td>0.256581</td>\n",
              "    </tr>\n",
              "    <tr>\n",
              "      <th>WSF2</th>\n",
              "      <td>0.827231</td>\n",
              "      <td>0.181120</td>\n",
              "      <td>0.125823</td>\n",
              "      <td>0.100894</td>\n",
              "      <td>0.123546</td>\n",
              "      <td>0.365704</td>\n",
              "      <td>0.351077</td>\n",
              "      <td>1.000000</td>\n",
              "      <td>0.933398</td>\n",
              "    </tr>\n",
              "    <tr>\n",
              "      <th>WSF5</th>\n",
              "      <td>0.805701</td>\n",
              "      <td>0.217675</td>\n",
              "      <td>0.093233</td>\n",
              "      <td>0.062419</td>\n",
              "      <td>0.083146</td>\n",
              "      <td>0.317931</td>\n",
              "      <td>0.256581</td>\n",
              "      <td>0.933398</td>\n",
              "      <td>1.000000</td>\n",
              "    </tr>\n",
              "  </tbody>\n",
              "</table>\n",
              "</div>"
            ],
            "text/plain": [
              "          AWND      PRCP      TAVG  ...      WDF5      WSF2      WSF5\n",
              "AWND  1.000000  0.165168  0.004242  ...  0.237208  0.827231  0.805701\n",
              "PRCP  0.165168  1.000000  0.100297  ... -0.066093  0.181120  0.217675\n",
              "TAVG  0.004242  0.100297  1.000000  ...  0.020421  0.125823  0.093233\n",
              "TMAX -0.052196  0.046136  0.972330  ...  0.031257  0.100894  0.062419\n",
              "TMIN  0.013884  0.092046  0.980515  ...  0.025529  0.123546  0.083146\n",
              "WDF2  0.242926 -0.004805  0.031644  ...  0.696509  0.365704  0.317931\n",
              "WDF5  0.237208 -0.066093  0.020421  ...  1.000000  0.351077  0.256581\n",
              "WSF2  0.827231  0.181120  0.125823  ...  0.351077  1.000000  0.933398\n",
              "WSF5  0.805701  0.217675  0.093233  ...  0.256581  0.933398  1.000000\n",
              "\n",
              "[9 rows x 9 columns]"
            ]
          },
          "metadata": {
            "tags": []
          },
          "execution_count": 31
        }
      ]
    },
    {
      "cell_type": "markdown",
      "metadata": {
        "id": "8PflbCTj7RfS"
      },
      "source": [
        "Heatmap"
      ]
    },
    {
      "cell_type": "code",
      "metadata": {
        "colab": {
          "base_uri": "https://localhost:8080/",
          "height": 286
        },
        "id": "L_XDaQZHgCVY",
        "outputId": "e5738e44-7772-4994-c87a-9514c4870526"
      },
      "source": [
        "sns.heatmap(weather2.corr())"
      ],
      "execution_count": null,
      "outputs": [
        {
          "output_type": "execute_result",
          "data": {
            "text/plain": [
              "<matplotlib.axes._subplots.AxesSubplot at 0x7f8fb70a05d0>"
            ]
          },
          "metadata": {
            "tags": []
          },
          "execution_count": 32
        },
        {
          "output_type": "display_data",
          "data": {
            "image/png": "[encoded data removed]",
            "text/plain": [
              "<Figure size 432x288 with 2 Axes>"
            ]
          },
          "metadata": {
            "tags": [],
            "needs_background": "light"
          }
        }
      ]
    },
    {
      "cell_type": "markdown",
      "metadata": {
        "id": "oTBd_4jjp1eE"
      },
      "source": [
        "Plotting Scatter matrix to see the relationships between two variables."
      ]
    },
    {
      "cell_type": "code",
      "metadata": {
        "colab": {
          "base_uri": "https://localhost:8080/",
          "height": 1000
        },
        "id": "iUYBUkwkpUPE",
        "outputId": "f251e0dc-a089-48ca-a769-ee6179803253"
      },
      "source": [
        "pd.plotting.scatter_matrix(weather2)"
      ],
      "execution_count": null,
      "outputs": [
        {
          "output_type": "execute_result",
          "data": {
            "text/plain": [
              "array([[<matplotlib.axes._subplots.AxesSubplot object at 0x7f9919422110>,\n",
              "        <matplotlib.axes._subplots.AxesSubplot object at 0x7f99193feb50>,\n",
              "        <matplotlib.axes._subplots.AxesSubplot object at 0x7f99190c5650>,\n",
              "        <matplotlib.axes._subplots.AxesSubplot object at 0x7f991729de50>,\n",
              "        <matplotlib.axes._subplots.AxesSubplot object at 0x7f99175609d0>,\n",
              "        <matplotlib.axes._subplots.AxesSubplot object at 0x7f9917543fd0>,\n",
              "        <matplotlib.axes._subplots.AxesSubplot object at 0x7f9917590610>,\n",
              "        <matplotlib.axes._subplots.AxesSubplot object at 0x7f9917178110>,\n",
              "        <matplotlib.axes._subplots.AxesSubplot object at 0x7f9917178150>],\n",
              "       [<matplotlib.axes._subplots.AxesSubplot object at 0x7f99171ac8d0>,\n",
              "        <matplotlib.axes._subplots.AxesSubplot object at 0x7f9917124510>,\n",
              "        <matplotlib.axes._subplots.AxesSubplot object at 0x7f99170d8b90>,\n",
              "        <matplotlib.axes._subplots.AxesSubplot object at 0x7f991709d250>,\n",
              "        <matplotlib.axes._subplots.AxesSubplot object at 0x7f99170538d0>,\n",
              "        <matplotlib.axes._subplots.AxesSubplot object at 0x7f9917009f50>,\n",
              "        <matplotlib.axes._subplots.AxesSubplot object at 0x7f9916fca610>,\n",
              "        <matplotlib.axes._subplots.AxesSubplot object at 0x7f9916f81c90>,\n",
              "        <matplotlib.axes._subplots.AxesSubplot object at 0x7f9916f43350>],\n",
              "       [<matplotlib.axes._subplots.AxesSubplot object at 0x7f9916ef89d0>,\n",
              "        <matplotlib.axes._subplots.AxesSubplot object at 0x7f9916f24b90>,\n",
              "        <matplotlib.axes._subplots.AxesSubplot object at 0x7f9916ef1710>,\n",
              "        <matplotlib.axes._subplots.AxesSubplot object at 0x7f9916ea6d90>,\n",
              "        <matplotlib.axes._subplots.AxesSubplot object at 0x7f9916e6b550>,\n",
              "        <matplotlib.axes._subplots.AxesSubplot object at 0x7f9916e22c50>,\n",
              "        <matplotlib.axes._subplots.AxesSubplot object at 0x7f9916de9410>,\n",
              "        <matplotlib.axes._subplots.AxesSubplot object at 0x7f9916da07d0>,\n",
              "        <matplotlib.axes._subplots.AxesSubplot object at 0x7f9916d54e50>],\n",
              "       [<matplotlib.axes._subplots.AxesSubplot object at 0x7f9916d17510>,\n",
              "        <matplotlib.axes._subplots.AxesSubplot object at 0x7f9916ccbb90>,\n",
              "        <matplotlib.axes._subplots.AxesSubplot object at 0x7f9916c85fd0>,\n",
              "        <matplotlib.axes._subplots.AxesSubplot object at 0x7f9916c465d0>,\n",
              "        <matplotlib.axes._subplots.AxesSubplot object at 0x7f9916bfcb50>,\n",
              "        <matplotlib.axes._subplots.AxesSubplot object at 0x7f9916bc0110>,\n",
              "        <matplotlib.axes._subplots.AxesSubplot object at 0x7f9916b76690>,\n",
              "        <matplotlib.axes._subplots.AxesSubplot object at 0x7f9916ba9c10>,\n",
              "        <matplotlib.axes._subplots.AxesSubplot object at 0x7f9916b6b1d0>],\n",
              "       [<matplotlib.axes._subplots.AxesSubplot object at 0x7f9916b21750>,\n",
              "        <matplotlib.axes._subplots.AxesSubplot object at 0x7f9916ad8cd0>,\n",
              "        <matplotlib.axes._subplots.AxesSubplot object at 0x7f9916a9a290>,\n",
              "        <matplotlib.axes._subplots.AxesSubplot object at 0x7f9916a4d810>,\n",
              "        <matplotlib.axes._subplots.AxesSubplot object at 0x7f9916a03d90>,\n",
              "        <matplotlib.axes._subplots.AxesSubplot object at 0x7f99169c5350>,\n",
              "        <matplotlib.axes._subplots.AxesSubplot object at 0x7f991697b8d0>,\n",
              "        <matplotlib.axes._subplots.AxesSubplot object at 0x7f99169afe50>,\n",
              "        <matplotlib.axes._subplots.AxesSubplot object at 0x7f99168f3410>],\n",
              "       [<matplotlib.axes._subplots.AxesSubplot object at 0x7f9919127150>,\n",
              "        <matplotlib.axes._subplots.AxesSubplot object at 0x7f99171cd910>,\n",
              "        <matplotlib.axes._subplots.AxesSubplot object at 0x7f9917063590>,\n",
              "        <matplotlib.axes._subplots.AxesSubplot object at 0x7f9916e3be90>,\n",
              "        <matplotlib.axes._subplots.AxesSubplot object at 0x7f99175df0d0>,\n",
              "        <matplotlib.axes._subplots.AxesSubplot object at 0x7f9916818f90>,\n",
              "        <matplotlib.axes._subplots.AxesSubplot object at 0x7f99167d9650>,\n",
              "        <matplotlib.axes._subplots.AxesSubplot object at 0x7f991678ecd0>,\n",
              "        <matplotlib.axes._subplots.AxesSubplot object at 0x7f9916751390>],\n",
              "       [<matplotlib.axes._subplots.AxesSubplot object at 0x7f9916707a10>,\n",
              "        <matplotlib.axes._subplots.AxesSubplot object at 0x7f99166c90d0>,\n",
              "        <matplotlib.axes._subplots.AxesSubplot object at 0x7f991667f750>,\n",
              "        <matplotlib.axes._subplots.AxesSubplot object at 0x7f9916634dd0>,\n",
              "        <matplotlib.axes._subplots.AxesSubplot object at 0x7f99165f7490>,\n",
              "        <matplotlib.axes._subplots.AxesSubplot object at 0x7f991662eb10>,\n",
              "        <matplotlib.axes._subplots.AxesSubplot object at 0x7f99165ef1d0>,\n",
              "        <matplotlib.axes._subplots.AxesSubplot object at 0x7f99165a4850>,\n",
              "        <matplotlib.axes._subplots.AxesSubplot object at 0x7f991655ced0>],\n",
              "       [<matplotlib.axes._subplots.AxesSubplot object at 0x7f991651e590>,\n",
              "        <matplotlib.axes._subplots.AxesSubplot object at 0x7f99164d2c10>,\n",
              "        <matplotlib.axes._subplots.AxesSubplot object at 0x7f99164962d0>,\n",
              "        <matplotlib.axes._subplots.AxesSubplot object at 0x7f991644b950>,\n",
              "        <matplotlib.axes._subplots.AxesSubplot object at 0x7f99163f6b10>,\n",
              "        <matplotlib.axes._subplots.AxesSubplot object at 0x7f99163c2690>,\n",
              "        <matplotlib.axes._subplots.AxesSubplot object at 0x7f9916379d10>,\n",
              "        <matplotlib.axes._subplots.AxesSubplot object at 0x7f991633e3d0>,\n",
              "        <matplotlib.axes._subplots.AxesSubplot object at 0x7f99162f3a50>],\n",
              "       [<matplotlib.axes._subplots.AxesSubplot object at 0x7f99162b6110>,\n",
              "        <matplotlib.axes._subplots.AxesSubplot object at 0x7f99162eb790>,\n",
              "        <matplotlib.axes._subplots.AxesSubplot object at 0x7f99162a2e10>,\n",
              "        <matplotlib.axes._subplots.AxesSubplot object at 0x7f991625be90>,\n",
              "        <matplotlib.axes._subplots.AxesSubplot object at 0x7f991621f450>,\n",
              "        <matplotlib.axes._subplots.AxesSubplot object at 0x7f99161d49d0>,\n",
              "        <matplotlib.axes._subplots.AxesSubplot object at 0x7f9916189f50>,\n",
              "        <matplotlib.axes._subplots.AxesSubplot object at 0x7f991614c510>,\n",
              "        <matplotlib.axes._subplots.AxesSubplot object at 0x7f9916102a90>]],\n",
              "      dtype=object)"
            ]
          },
          "metadata": {
            "tags": []
          },
          "execution_count": 62
        },
        {
          "output_type": "display_data",
          "data": {
            "image/png": "[encoded data removed]",
            "text/plain": [
              "<Figure size 432x288 with 81 Axes>"
            ]
          },
          "metadata": {
            "tags": [],
            "needs_background": "light"
          }
        }
      ]
    },
    {
      "cell_type": "markdown",
      "metadata": {
        "id": "innowzKl7VXa"
      },
      "source": [
        "Box plot "
      ]
    },
    {
      "cell_type": "code",
      "metadata": {
        "colab": {
          "base_uri": "https://localhost:8080/",
          "height": 282
        },
        "id": "3caPP-BVgGqG",
        "outputId": "72221a7a-e244-4175-b7d7-2ed7ecd163db"
      },
      "source": [
        "weather2[['AWND', 'PRCP', 'TAVG', 'TMAX', 'TMIN']].plot.box()"
      ],
      "execution_count": null,
      "outputs": [
        {
          "output_type": "execute_result",
          "data": {
            "text/plain": [
              "<matplotlib.axes._subplots.AxesSubplot at 0x7f9919808210>"
            ]
          },
          "metadata": {
            "tags": []
          },
          "execution_count": 47
        },
        {
          "output_type": "display_data",
          "data": {
            "image/png": "[encoded data removed]",
            "text/plain": [
              "<Figure size 432x288 with 1 Axes>"
            ]
          },
          "metadata": {
            "tags": [],
            "needs_background": "light"
          }
        }
      ]
    },
    {
      "cell_type": "code",
      "metadata": {
        "colab": {
          "base_uri": "https://localhost:8080/",
          "height": 1000
        },
        "id": "Rrj3sar1gOgG",
        "outputId": "0bf58215-9ad5-43b3-b378-5836bf226b37"
      },
      "source": [
        "f, axes = plt.subplots(3, 3, figsize=(25,25))\n",
        "sns.distplot( weather2['WSF5'],ax=axes[0, 0])\n",
        "sns.distplot( weather2['AWND'], ax=axes[0, 1])\n",
        "sns.distplot( weather2['TMAX'], ax=axes[0, 2])\n",
        "sns.distplot( weather2['TMIN'], ax=axes[1, 0])\n",
        "sns.distplot( weather2['TAVG'], ax=axes[1, 1])\n",
        "sns.distplot( weather2['PRCP'], ax=axes[1, 2])\n",
        "sns.distplot( weather2['WDF2'], ax=axes[2, 0])\n",
        "sns.distplot( weather2['WDF5'], ax=axes[2, 1])\n",
        "sns.distplot( weather2['WSF2'], ax=axes[2, 2])"
      ],
      "execution_count": null,
      "outputs": [
        {
          "output_type": "stream",
          "text": [
            "/usr/local/lib/python3.7/dist-packages/seaborn/distributions.py:2557: FutureWarning: `distplot` is a deprecated function and will be removed in a future version. Please adapt your code to use either `displot` (a figure-level function with similar flexibility) or `histplot` (an axes-level function for histograms).\n",
            "  warnings.warn(msg, FutureWarning)\n",
            "/usr/local/lib/python3.7/dist-packages/seaborn/distributions.py:2557: FutureWarning: `distplot` is a deprecated function and will be removed in a future version. Please adapt your code to use either `displot` (a figure-level function with similar flexibility) or `histplot` (an axes-level function for histograms).\n",
            "  warnings.warn(msg, FutureWarning)\n",
            "/usr/local/lib/python3.7/dist-packages/seaborn/distributions.py:2557: FutureWarning: `distplot` is a deprecated function and will be removed in a future version. Please adapt your code to use either `displot` (a figure-level function with similar flexibility) or `histplot` (an axes-level function for histograms).\n",
            "  warnings.warn(msg, FutureWarning)\n",
            "/usr/local/lib/python3.7/dist-packages/seaborn/distributions.py:2557: FutureWarning: `distplot` is a deprecated function and will be removed in a future version. Please adapt your code to use either `displot` (a figure-level function with similar flexibility) or `histplot` (an axes-level function for histograms).\n",
            "  warnings.warn(msg, FutureWarning)\n",
            "/usr/local/lib/python3.7/dist-packages/seaborn/distributions.py:2557: FutureWarning: `distplot` is a deprecated function and will be removed in a future version. Please adapt your code to use either `displot` (a figure-level function with similar flexibility) or `histplot` (an axes-level function for histograms).\n",
            "  warnings.warn(msg, FutureWarning)\n",
            "/usr/local/lib/python3.7/dist-packages/seaborn/distributions.py:2557: FutureWarning: `distplot` is a deprecated function and will be removed in a future version. Please adapt your code to use either `displot` (a figure-level function with similar flexibility) or `histplot` (an axes-level function for histograms).\n",
            "  warnings.warn(msg, FutureWarning)\n",
            "/usr/local/lib/python3.7/dist-packages/seaborn/distributions.py:2557: FutureWarning: `distplot` is a deprecated function and will be removed in a future version. Please adapt your code to use either `displot` (a figure-level function with similar flexibility) or `histplot` (an axes-level function for histograms).\n",
            "  warnings.warn(msg, FutureWarning)\n",
            "/usr/local/lib/python3.7/dist-packages/seaborn/distributions.py:2557: FutureWarning: `distplot` is a deprecated function and will be removed in a future version. Please adapt your code to use either `displot` (a figure-level function with similar flexibility) or `histplot` (an axes-level function for histograms).\n",
            "  warnings.warn(msg, FutureWarning)\n",
            "/usr/local/lib/python3.7/dist-packages/seaborn/distributions.py:2557: FutureWarning: `distplot` is a deprecated function and will be removed in a future version. Please adapt your code to use either `displot` (a figure-level function with similar flexibility) or `histplot` (an axes-level function for histograms).\n",
            "  warnings.warn(msg, FutureWarning)\n"
          ],
          "name": "stderr"
        },
        {
          "output_type": "execute_result",
          "data": {
            "text/plain": [
              "<matplotlib.axes._subplots.AxesSubplot at 0x7f991947ccd0>"
            ]
          },
          "metadata": {
            "tags": []
          },
          "execution_count": 48
        },
        {
          "output_type": "display_data",
          "data": {
            "image/png": "[encoded data removed]",
            "text/plain": [
              "<Figure size 1800x1800 with 9 Axes>"
            ]
          },
          "metadata": {
            "tags": [],
            "needs_background": "light"
          }
        }
      ]
    },
    {
      "cell_type": "code",
      "metadata": {
        "id": "F0vcseS_oqy4"
      },
      "source": [
        ""
      ],
      "execution_count": null,
      "outputs": []
    },
    {
      "cell_type": "markdown",
      "metadata": {
        "id": "uOtqR9dvlw79"
      },
      "source": [
        "**Exploratory Data Analysis ,Data Cleaning and Pre-processing for weather2 dataset is complete.**"
      ]
    },
    {
      "cell_type": "markdown",
      "metadata": {
        "id": "dCjKef3M7Z3c"
      },
      "source": [
        "Taking random sample from flights dataset"
      ]
    },
    {
      "cell_type": "code",
      "metadata": {
        "id": "qPSaMx8mnwIz"
      },
      "source": [
        "f=flights.sample(1000)"
      ],
      "execution_count": null,
      "outputs": []
    },
    {
      "cell_type": "markdown",
      "metadata": {
        "id": "pxXQG-re7htx"
      },
      "source": [
        "Merging the two dataset using DATE feature"
      ]
    },
    {
      "cell_type": "code",
      "metadata": {
        "id": "Hg7bM1l-r9T9"
      },
      "source": [
        "f1=pd.merge(f,weather2,on='DATE',how='inner')"
      ],
      "execution_count": null,
      "outputs": []
    },
    {
      "cell_type": "code",
      "metadata": {
        "colab": {
          "base_uri": "https://localhost:8080/",
          "height": 1000
        },
        "id": "iWUfqoqhr-6c",
        "outputId": "e047a685-5ab1-4c5c-9771-aa3276581b01"
      },
      "source": [
        "f1"
      ],
      "execution_count": null,
      "outputs": [
        {
          "output_type": "execute_result",
          "data": {
            "text/html": [
              "<div>\n",
              "<style scoped>\n",
              "    .dataframe tbody tr th:only-of-type {\n",
              "        vertical-align: middle;\n",
              "    }\n",
              "\n",
              "    .dataframe tbody tr th {\n",
              "        vertical-align: top;\n",
              "    }\n",
              "\n",
              "    .dataframe thead th {\n",
              "        text-align: right;\n",
              "    }\n",
              "</style>\n",
              "<table border=\"1\" class=\"dataframe\">\n",
              "  <thead>\n",
              "    <tr style=\"text-align: right;\">\n",
              "      <th></th>\n",
              "      <th>YEAR</th>\n",
              "      <th>MONTH</th>\n",
              "      <th>DAY</th>\n",
              "      <th>DAY_OF_WEEK</th>\n",
              "      <th>ORIGIN_AIRPORT</th>\n",
              "      <th>DESTINATION_AIRPORT</th>\n",
              "      <th>SCHEDULED_DEPARTURE</th>\n",
              "      <th>ARRIVAL_DELAY</th>\n",
              "      <th>DATE</th>\n",
              "      <th>RESULT</th>\n",
              "      <th>STATION</th>\n",
              "      <th>NAME</th>\n",
              "      <th>AWND</th>\n",
              "      <th>PRCP</th>\n",
              "      <th>TAVG</th>\n",
              "      <th>TMAX</th>\n",
              "      <th>TMIN</th>\n",
              "      <th>WDF2</th>\n",
              "      <th>WDF5</th>\n",
              "      <th>WSF2</th>\n",
              "      <th>WSF5</th>\n",
              "    </tr>\n",
              "  </thead>\n",
              "  <tbody>\n",
              "    <tr>\n",
              "      <th>0</th>\n",
              "      <td>2015</td>\n",
              "      <td>3</td>\n",
              "      <td>2</td>\n",
              "      <td>1</td>\n",
              "      <td>ORD</td>\n",
              "      <td>MSP</td>\n",
              "      <td>648</td>\n",
              "      <td>-6.0</td>\n",
              "      <td>2015-03-02</td>\n",
              "      <td>0</td>\n",
              "      <td>USW00014922</td>\n",
              "      <td>MINNEAPOLIS ST. PAUL INTERNATIONAL AIRPORT, MN US</td>\n",
              "      <td>8.05</td>\n",
              "      <td>0.00</td>\n",
              "      <td>19</td>\n",
              "      <td>26</td>\n",
              "      <td>9</td>\n",
              "      <td>150</td>\n",
              "      <td>140.0</td>\n",
              "      <td>15.0</td>\n",
              "      <td>19.0</td>\n",
              "    </tr>\n",
              "    <tr>\n",
              "      <th>1</th>\n",
              "      <td>2015</td>\n",
              "      <td>3</td>\n",
              "      <td>2</td>\n",
              "      <td>1</td>\n",
              "      <td>ORD</td>\n",
              "      <td>MSP</td>\n",
              "      <td>648</td>\n",
              "      <td>-6.0</td>\n",
              "      <td>2015-03-02</td>\n",
              "      <td>0</td>\n",
              "      <td>USW00023234</td>\n",
              "      <td>SAN FRANCISCO INTERNATIONAL AIRPORT, CA US</td>\n",
              "      <td>7.16</td>\n",
              "      <td>0.00</td>\n",
              "      <td>56</td>\n",
              "      <td>61</td>\n",
              "      <td>50</td>\n",
              "      <td>270</td>\n",
              "      <td>210.0</td>\n",
              "      <td>18.1</td>\n",
              "      <td>25.1</td>\n",
              "    </tr>\n",
              "    <tr>\n",
              "      <th>2</th>\n",
              "      <td>2015</td>\n",
              "      <td>3</td>\n",
              "      <td>2</td>\n",
              "      <td>1</td>\n",
              "      <td>BOS</td>\n",
              "      <td>IAD</td>\n",
              "      <td>947</td>\n",
              "      <td>-5.0</td>\n",
              "      <td>2015-03-02</td>\n",
              "      <td>0</td>\n",
              "      <td>USW00014922</td>\n",
              "      <td>MINNEAPOLIS ST. PAUL INTERNATIONAL AIRPORT, MN US</td>\n",
              "      <td>8.05</td>\n",
              "      <td>0.00</td>\n",
              "      <td>19</td>\n",
              "      <td>26</td>\n",
              "      <td>9</td>\n",
              "      <td>150</td>\n",
              "      <td>140.0</td>\n",
              "      <td>15.0</td>\n",
              "      <td>19.0</td>\n",
              "    </tr>\n",
              "    <tr>\n",
              "      <th>3</th>\n",
              "      <td>2015</td>\n",
              "      <td>3</td>\n",
              "      <td>2</td>\n",
              "      <td>1</td>\n",
              "      <td>BOS</td>\n",
              "      <td>IAD</td>\n",
              "      <td>947</td>\n",
              "      <td>-5.0</td>\n",
              "      <td>2015-03-02</td>\n",
              "      <td>0</td>\n",
              "      <td>USW00023234</td>\n",
              "      <td>SAN FRANCISCO INTERNATIONAL AIRPORT, CA US</td>\n",
              "      <td>7.16</td>\n",
              "      <td>0.00</td>\n",
              "      <td>56</td>\n",
              "      <td>61</td>\n",
              "      <td>50</td>\n",
              "      <td>270</td>\n",
              "      <td>210.0</td>\n",
              "      <td>18.1</td>\n",
              "      <td>25.1</td>\n",
              "    </tr>\n",
              "    <tr>\n",
              "      <th>4</th>\n",
              "      <td>2015</td>\n",
              "      <td>3</td>\n",
              "      <td>2</td>\n",
              "      <td>1</td>\n",
              "      <td>VLD</td>\n",
              "      <td>ATL</td>\n",
              "      <td>1025</td>\n",
              "      <td>98.0</td>\n",
              "      <td>2015-03-02</td>\n",
              "      <td>1</td>\n",
              "      <td>USW00014922</td>\n",
              "      <td>MINNEAPOLIS ST. PAUL INTERNATIONAL AIRPORT, MN US</td>\n",
              "      <td>8.05</td>\n",
              "      <td>0.00</td>\n",
              "      <td>19</td>\n",
              "      <td>26</td>\n",
              "      <td>9</td>\n",
              "      <td>150</td>\n",
              "      <td>140.0</td>\n",
              "      <td>15.0</td>\n",
              "      <td>19.0</td>\n",
              "    </tr>\n",
              "    <tr>\n",
              "      <th>...</th>\n",
              "      <td>...</td>\n",
              "      <td>...</td>\n",
              "      <td>...</td>\n",
              "      <td>...</td>\n",
              "      <td>...</td>\n",
              "      <td>...</td>\n",
              "      <td>...</td>\n",
              "      <td>...</td>\n",
              "      <td>...</td>\n",
              "      <td>...</td>\n",
              "      <td>...</td>\n",
              "      <td>...</td>\n",
              "      <td>...</td>\n",
              "      <td>...</td>\n",
              "      <td>...</td>\n",
              "      <td>...</td>\n",
              "      <td>...</td>\n",
              "      <td>...</td>\n",
              "      <td>...</td>\n",
              "      <td>...</td>\n",
              "      <td>...</td>\n",
              "    </tr>\n",
              "    <tr>\n",
              "      <th>1995</th>\n",
              "      <td>2015</td>\n",
              "      <td>1</td>\n",
              "      <td>9</td>\n",
              "      <td>5</td>\n",
              "      <td>EGE</td>\n",
              "      <td>DFW</td>\n",
              "      <td>1359</td>\n",
              "      <td>16.0</td>\n",
              "      <td>2015-01-09</td>\n",
              "      <td>1</td>\n",
              "      <td>USW00023234</td>\n",
              "      <td>SAN FRANCISCO INTERNATIONAL AIRPORT, CA US</td>\n",
              "      <td>3.58</td>\n",
              "      <td>0.00</td>\n",
              "      <td>54</td>\n",
              "      <td>63</td>\n",
              "      <td>51</td>\n",
              "      <td>290</td>\n",
              "      <td>290.0</td>\n",
              "      <td>13.0</td>\n",
              "      <td>16.1</td>\n",
              "    </tr>\n",
              "    <tr>\n",
              "      <th>1996</th>\n",
              "      <td>2015</td>\n",
              "      <td>4</td>\n",
              "      <td>21</td>\n",
              "      <td>2</td>\n",
              "      <td>ATL</td>\n",
              "      <td>MCO</td>\n",
              "      <td>540</td>\n",
              "      <td>-16.0</td>\n",
              "      <td>2015-04-21</td>\n",
              "      <td>0</td>\n",
              "      <td>USW00014922</td>\n",
              "      <td>MINNEAPOLIS ST. PAUL INTERNATIONAL AIRPORT, MN US</td>\n",
              "      <td>19.91</td>\n",
              "      <td>0.03</td>\n",
              "      <td>38</td>\n",
              "      <td>41</td>\n",
              "      <td>34</td>\n",
              "      <td>310</td>\n",
              "      <td>290.0</td>\n",
              "      <td>29.1</td>\n",
              "      <td>38.9</td>\n",
              "    </tr>\n",
              "    <tr>\n",
              "      <th>1997</th>\n",
              "      <td>2015</td>\n",
              "      <td>4</td>\n",
              "      <td>21</td>\n",
              "      <td>2</td>\n",
              "      <td>ATL</td>\n",
              "      <td>MCO</td>\n",
              "      <td>540</td>\n",
              "      <td>-16.0</td>\n",
              "      <td>2015-04-21</td>\n",
              "      <td>0</td>\n",
              "      <td>USW00023234</td>\n",
              "      <td>SAN FRANCISCO INTERNATIONAL AIRPORT, CA US</td>\n",
              "      <td>10.51</td>\n",
              "      <td>0.00</td>\n",
              "      <td>56</td>\n",
              "      <td>59</td>\n",
              "      <td>54</td>\n",
              "      <td>230</td>\n",
              "      <td>220.0</td>\n",
              "      <td>21.0</td>\n",
              "      <td>25.1</td>\n",
              "    </tr>\n",
              "    <tr>\n",
              "      <th>1998</th>\n",
              "      <td>2015</td>\n",
              "      <td>12</td>\n",
              "      <td>24</td>\n",
              "      <td>4</td>\n",
              "      <td>DTW</td>\n",
              "      <td>DFW</td>\n",
              "      <td>1513</td>\n",
              "      <td>-17.0</td>\n",
              "      <td>2015-12-24</td>\n",
              "      <td>0</td>\n",
              "      <td>USW00014922</td>\n",
              "      <td>MINNEAPOLIS ST. PAUL INTERNATIONAL AIRPORT, MN US</td>\n",
              "      <td>10.51</td>\n",
              "      <td>0.00</td>\n",
              "      <td>26</td>\n",
              "      <td>27</td>\n",
              "      <td>23</td>\n",
              "      <td>260</td>\n",
              "      <td>270.0</td>\n",
              "      <td>25.1</td>\n",
              "      <td>32.0</td>\n",
              "    </tr>\n",
              "    <tr>\n",
              "      <th>1999</th>\n",
              "      <td>2015</td>\n",
              "      <td>12</td>\n",
              "      <td>24</td>\n",
              "      <td>4</td>\n",
              "      <td>DTW</td>\n",
              "      <td>DFW</td>\n",
              "      <td>1513</td>\n",
              "      <td>-17.0</td>\n",
              "      <td>2015-12-24</td>\n",
              "      <td>0</td>\n",
              "      <td>USW00023234</td>\n",
              "      <td>SAN FRANCISCO INTERNATIONAL AIRPORT, CA US</td>\n",
              "      <td>13.42</td>\n",
              "      <td>0.13</td>\n",
              "      <td>50</td>\n",
              "      <td>53</td>\n",
              "      <td>45</td>\n",
              "      <td>290</td>\n",
              "      <td>280.0</td>\n",
              "      <td>25.9</td>\n",
              "      <td>35.1</td>\n",
              "    </tr>\n",
              "  </tbody>\n",
              "</table>\n",
              "<p>2000 rows × 21 columns</p>\n",
              "</div>"
            ],
            "text/plain": [
              "      YEAR  MONTH  DAY  DAY_OF_WEEK  ... WDF2   WDF5  WSF2  WSF5\n",
              "0     2015      3    2            1  ...  150  140.0  15.0  19.0\n",
              "1     2015      3    2            1  ...  270  210.0  18.1  25.1\n",
              "2     2015      3    2            1  ...  150  140.0  15.0  19.0\n",
              "3     2015      3    2            1  ...  270  210.0  18.1  25.1\n",
              "4     2015      3    2            1  ...  150  140.0  15.0  19.0\n",
              "...    ...    ...  ...          ...  ...  ...    ...   ...   ...\n",
              "1995  2015      1    9            5  ...  290  290.0  13.0  16.1\n",
              "1996  2015      4   21            2  ...  310  290.0  29.1  38.9\n",
              "1997  2015      4   21            2  ...  230  220.0  21.0  25.1\n",
              "1998  2015     12   24            4  ...  260  270.0  25.1  32.0\n",
              "1999  2015     12   24            4  ...  290  280.0  25.9  35.1\n",
              "\n",
              "[2000 rows x 21 columns]"
            ]
          },
          "metadata": {
            "tags": []
          },
          "execution_count": 35
        }
      ]
    },
    {
      "cell_type": "code",
      "metadata": {
        "colab": {
          "base_uri": "https://localhost:8080/"
        },
        "id": "yeIfPBX_yTQy",
        "outputId": "09492fbb-6d0e-48e7-b2d5-4175be084532"
      },
      "source": [
        "f1.info()"
      ],
      "execution_count": null,
      "outputs": [
        {
          "output_type": "stream",
          "text": [
            "<class 'pandas.core.frame.DataFrame'>\n",
            "Int64Index: 2000 entries, 0 to 1999\n",
            "Data columns (total 21 columns):\n",
            " #   Column               Non-Null Count  Dtype         \n",
            "---  ------               --------------  -----         \n",
            " 0   YEAR                 2000 non-null   int64         \n",
            " 1   MONTH                2000 non-null   int64         \n",
            " 2   DAY                  2000 non-null   int64         \n",
            " 3   DAY_OF_WEEK          2000 non-null   int64         \n",
            " 4   ORIGIN_AIRPORT       2000 non-null   object        \n",
            " 5   DESTINATION_AIRPORT  2000 non-null   object        \n",
            " 6   SCHEDULED_DEPARTURE  2000 non-null   int64         \n",
            " 7   ARRIVAL_DELAY        2000 non-null   float64       \n",
            " 8   DATE                 2000 non-null   datetime64[ns]\n",
            " 9   RESULT               2000 non-null   int64         \n",
            " 10  STATION              2000 non-null   object        \n",
            " 11  NAME                 2000 non-null   object        \n",
            " 12  AWND                 2000 non-null   float64       \n",
            " 13  PRCP                 2000 non-null   float64       \n",
            " 14  TAVG                 2000 non-null   int64         \n",
            " 15  TMAX                 2000 non-null   int64         \n",
            " 16  TMIN                 2000 non-null   int64         \n",
            " 17  WDF2                 2000 non-null   int64         \n",
            " 18  WDF5                 2000 non-null   float64       \n",
            " 19  WSF2                 2000 non-null   float64       \n",
            " 20  WSF5                 2000 non-null   float64       \n",
            "dtypes: datetime64[ns](1), float64(6), int64(10), object(4)\n",
            "memory usage: 343.8+ KB\n"
          ],
          "name": "stdout"
        }
      ]
    },
    {
      "cell_type": "markdown",
      "metadata": {
        "id": "ux1idE1v7q44"
      },
      "source": [
        "Dropping irrelevant features for better prediction"
      ]
    },
    {
      "cell_type": "code",
      "metadata": {
        "id": "JkKGY2XwycIc"
      },
      "source": [
        "f1.drop(['YEAR','MONTH','DAY','DATE','ORIGIN_AIRPORT','DESTINATION_AIRPORT','STATION','NAME','DAY_OF_WEEK'],axis=1,inplace=True)"
      ],
      "execution_count": null,
      "outputs": []
    },
    {
      "cell_type": "code",
      "metadata": {
        "id": "kiPdOg3WttuI",
        "colab": {
          "base_uri": "https://localhost:8080/"
        },
        "outputId": "82633d4e-804a-474a-d446-901646d0a12a"
      },
      "source": [
        "f1.isnull().sum()"
      ],
      "execution_count": null,
      "outputs": [
        {
          "output_type": "execute_result",
          "data": {
            "text/plain": [
              "SCHEDULED_DEPARTURE    0\n",
              "ARRIVAL_DELAY          0\n",
              "RESULT                 0\n",
              "AWND                   0\n",
              "PRCP                   0\n",
              "TAVG                   0\n",
              "TMAX                   0\n",
              "TMIN                   0\n",
              "WDF2                   0\n",
              "WDF5                   0\n",
              "WSF2                   0\n",
              "WSF5                   0\n",
              "dtype: int64"
            ]
          },
          "metadata": {
            "tags": []
          },
          "execution_count": 37
        }
      ]
    },
    {
      "cell_type": "markdown",
      "metadata": {
        "id": "V7n4ADRwx1G-"
      },
      "source": [
        "Importing relevant libraries for model building"
      ]
    },
    {
      "cell_type": "code",
      "metadata": {
        "id": "92nliaJc1aP-"
      },
      "source": [
        "from sklearn.model_selection import train_test_split\n",
        "from sklearn.linear_model import LogisticRegression\n",
        "from sklearn.tree import DecisionTreeRegressor\n",
        "from sklearn.ensemble import RandomForestRegressor\n",
        "from sklearn.metrics import mean_absolute_error,mean_squared_error,r2_score\n",
        "from sklearn.preprocessing import MinMaxScaler\n",
        "import math"
      ],
      "execution_count": null,
      "outputs": []
    },
    {
      "cell_type": "markdown",
      "metadata": {
        "id": "X3E85Zpf71UY"
      },
      "source": [
        "selecting the independent variables"
      ]
    },
    {
      "cell_type": "code",
      "metadata": {
        "id": "H5kNB2-z2fFA"
      },
      "source": [
        "x=f1.drop('RESULT',axis=1)"
      ],
      "execution_count": null,
      "outputs": []
    },
    {
      "cell_type": "code",
      "metadata": {
        "id": "LCB9Tm4y2hBA",
        "colab": {
          "base_uri": "https://localhost:8080/"
        },
        "outputId": "f848db04-9013-404f-c420-ab6fa014e970"
      },
      "source": [
        "x.shape"
      ],
      "execution_count": null,
      "outputs": [
        {
          "output_type": "execute_result",
          "data": {
            "text/plain": [
              "(2000, 11)"
            ]
          },
          "metadata": {
            "tags": []
          },
          "execution_count": 40
        }
      ]
    },
    {
      "cell_type": "markdown",
      "metadata": {
        "id": "Mdq0Cz4Z77vj"
      },
      "source": [
        "Selecting the dependent variable"
      ]
    },
    {
      "cell_type": "code",
      "metadata": {
        "id": "dYBLhlkoz_il"
      },
      "source": [
        "y=f1.RESULT"
      ],
      "execution_count": null,
      "outputs": []
    },
    {
      "cell_type": "markdown",
      "metadata": {
        "id": "lbkmYTbF8CXl"
      },
      "source": [
        "Scaling the dataset"
      ]
    },
    {
      "cell_type": "code",
      "metadata": {
        "id": "bWDOSzCRpOb-"
      },
      "source": [
        "scaler=MinMaxScaler(feature_range=(0,1))\n",
        "x=scaler.fit_transform(x)"
      ],
      "execution_count": null,
      "outputs": []
    },
    {
      "cell_type": "code",
      "metadata": {
        "colab": {
          "base_uri": "https://localhost:8080/",
          "height": 386
        },
        "id": "SE81GZzVXC_B",
        "outputId": "7cdb57c1-8ee5-4554-f534-3f1f877acb4f"
      },
      "source": [
        "sns.displot(y)"
      ],
      "execution_count": null,
      "outputs": [
        {
          "output_type": "execute_result",
          "data": {
            "text/plain": [
              "<seaborn.axisgrid.FacetGrid at 0x7f8fb6915bd0>"
            ]
          },
          "metadata": {
            "tags": []
          },
          "execution_count": 43
        },
        {
          "output_type": "display_data",
          "data": {
            "image/png": "[encoded data removed]",
            "text/plain": [
              "<Figure size 360x360 with 1 Axes>"
            ]
          },
          "metadata": {
            "tags": [],
            "needs_background": "light"
          }
        }
      ]
    },
    {
      "cell_type": "code",
      "metadata": {
        "id": "5vFAK5Brr4fR",
        "colab": {
          "base_uri": "https://localhost:8080/"
        },
        "outputId": "5cc433e4-36e8-43e8-d27c-629e361f73f3"
      },
      "source": [
        "x"
      ],
      "execution_count": null,
      "outputs": [
        {
          "output_type": "execute_result",
          "data": {
            "text/plain": [
              "array([[0.26218197, 0.10989011, 0.30185497, ..., 0.37142857, 0.25187032,\n",
              "        0.22830189],\n",
              "       [0.26218197, 0.10989011, 0.2643339 , ..., 0.57142857, 0.32917706,\n",
              "        0.34339623],\n",
              "       [0.39111686, 0.11263736, 0.30185497, ..., 0.37142857, 0.25187032,\n",
              "        0.22830189],\n",
              "       ...,\n",
              "       [0.21561018, 0.08241758, 0.40556492, ..., 0.6       , 0.40149626,\n",
              "        0.34339623],\n",
              "       [0.63518758, 0.07967033, 0.40556492, ..., 0.74285714, 0.50374065,\n",
              "        0.47358491],\n",
              "       [0.63518758, 0.07967033, 0.52824621, ..., 0.77142857, 0.52369077,\n",
              "        0.53207547]])"
            ]
          },
          "metadata": {
            "tags": []
          },
          "execution_count": 44
        }
      ]
    },
    {
      "cell_type": "markdown",
      "metadata": {
        "id": "XK14WRhx1La9"
      },
      "source": [
        "Splitting into training and test dataset"
      ]
    },
    {
      "cell_type": "code",
      "metadata": {
        "id": "xHiqDHrI02NB"
      },
      "source": [
        "X_train,X_test,Y_train,Y_test = train_test_split(x,y,test_size=0.3,random_state=100)"
      ],
      "execution_count": null,
      "outputs": []
    },
    {
      "cell_type": "markdown",
      "metadata": {
        "id": "573llSTp2Hd9"
      },
      "source": [
        "Here model1 , model2 and model3 represents Logistic Regression , Decision Tree and Random Forest models respectively."
      ]
    },
    {
      "cell_type": "code",
      "metadata": {
        "id": "xh8rnq3027zf"
      },
      "source": [
        "model1=LogisticRegression()\n",
        "model2=DecisionTreeRegressor()\n",
        "model3=RandomForestRegressor()"
      ],
      "execution_count": null,
      "outputs": []
    },
    {
      "cell_type": "markdown",
      "metadata": {
        "id": "OporgXy12qsP"
      },
      "source": [
        "Training the models"
      ]
    },
    {
      "cell_type": "code",
      "metadata": {
        "colab": {
          "base_uri": "https://localhost:8080/"
        },
        "id": "QzqF9ETi4sDh",
        "outputId": "85766103-d6f2-4560-c2c3-ad7f4319fa62"
      },
      "source": [
        "model1.fit(X_train,Y_train)"
      ],
      "execution_count": null,
      "outputs": [
        {
          "output_type": "execute_result",
          "data": {
            "text/plain": [
              "LogisticRegression(C=1.0, class_weight=None, dual=False, fit_intercept=True,\n",
              "                   intercept_scaling=1, l1_ratio=None, max_iter=100,\n",
              "                   multi_class='auto', n_jobs=None, penalty='l2',\n",
              "                   random_state=None, solver='lbfgs', tol=0.0001, verbose=0,\n",
              "                   warm_start=False)"
            ]
          },
          "metadata": {
            "tags": []
          },
          "execution_count": 36
        }
      ]
    },
    {
      "cell_type": "code",
      "metadata": {
        "colab": {
          "base_uri": "https://localhost:8080/"
        },
        "id": "OkAoliLb4rep",
        "outputId": "c2406a37-626b-40af-ba5e-30837e054c10"
      },
      "source": [
        "model2.fit(X_train,Y_train)"
      ],
      "execution_count": null,
      "outputs": [
        {
          "output_type": "execute_result",
          "data": {
            "text/plain": [
              "DecisionTreeRegressor(ccp_alpha=0.0, criterion='mse', max_depth=None,\n",
              "                      max_features=None, max_leaf_nodes=None,\n",
              "                      min_impurity_decrease=0.0, min_impurity_split=None,\n",
              "                      min_samples_leaf=1, min_samples_split=2,\n",
              "                      min_weight_fraction_leaf=0.0, presort='deprecated',\n",
              "                      random_state=None, splitter='best')"
            ]
          },
          "metadata": {
            "tags": []
          },
          "execution_count": 37
        }
      ]
    },
    {
      "cell_type": "code",
      "metadata": {
        "colab": {
          "base_uri": "https://localhost:8080/"
        },
        "id": "JCTb0lqZuuhx",
        "outputId": "d3bfd494-bbb8-46bb-dd50-e2eec969a242"
      },
      "source": [
        "model3.fit(X_train,Y_train)"
      ],
      "execution_count": null,
      "outputs": [
        {
          "output_type": "execute_result",
          "data": {
            "text/plain": [
              "RandomForestRegressor(bootstrap=True, ccp_alpha=0.0, criterion='mse',\n",
              "                      max_depth=None, max_features='auto', max_leaf_nodes=None,\n",
              "                      max_samples=None, min_impurity_decrease=0.0,\n",
              "                      min_impurity_split=None, min_samples_leaf=1,\n",
              "                      min_samples_split=2, min_weight_fraction_leaf=0.0,\n",
              "                      n_estimators=100, n_jobs=None, oob_score=False,\n",
              "                      random_state=None, verbose=0, warm_start=False)"
            ]
          },
          "metadata": {
            "tags": []
          },
          "execution_count": 38
        }
      ]
    },
    {
      "cell_type": "markdown",
      "metadata": {
        "id": "6jHJ2Qna5Asr"
      },
      "source": [
        "Predicting the values"
      ]
    },
    {
      "cell_type": "code",
      "metadata": {
        "id": "GHTrYJgnwI1U"
      },
      "source": [
        "pred1=model1.predict(X_test)"
      ],
      "execution_count": null,
      "outputs": []
    },
    {
      "cell_type": "code",
      "metadata": {
        "id": "NENRCnPSwpba"
      },
      "source": [
        "pred2=model2.predict(X_test)"
      ],
      "execution_count": null,
      "outputs": []
    },
    {
      "cell_type": "code",
      "metadata": {
        "id": "p_IXy_LYwzcW"
      },
      "source": [
        "pred3=model3.predict(X_test)"
      ],
      "execution_count": null,
      "outputs": []
    },
    {
      "cell_type": "markdown",
      "metadata": {
        "id": "4ME-roUE5Mtx"
      },
      "source": [
        "Importing relevant libraries for model accuracy"
      ]
    },
    {
      "cell_type": "code",
      "metadata": {
        "id": "L0vAAwwSZZDl"
      },
      "source": [
        "from sklearn.metrics import confusion_matrix\n",
        "from sklearn.metrics import precision_score,recall_score,f1_score,roc_auc_score,roc_curve,accuracy_score"
      ],
      "execution_count": null,
      "outputs": []
    },
    {
      "cell_type": "markdown",
      "metadata": {
        "id": "6BRNziLTxt34"
      },
      "source": [
        "Confusion matrix for logistic regression"
      ]
    },
    {
      "cell_type": "code",
      "metadata": {
        "colab": {
          "base_uri": "https://localhost:8080/"
        },
        "id": "yZCGwYyiaHEI",
        "outputId": "af5ceedb-20a7-4c7b-ea4b-9c76cda775d0"
      },
      "source": [
        "print(\"Confusion matrix for logistic regression:\")\n",
        "confusion_matrix(Y_test,pred1)"
      ],
      "execution_count": null,
      "outputs": [
        {
          "output_type": "stream",
          "text": [
            "Confusion matrix for logistic regression:\n"
          ],
          "name": "stdout"
        },
        {
          "output_type": "execute_result",
          "data": {
            "text/plain": [
              "array([[480,   0],\n",
              "       [ 78,  42]])"
            ]
          },
          "metadata": {
            "tags": []
          },
          "execution_count": 43
        }
      ]
    },
    {
      "cell_type": "markdown",
      "metadata": {
        "id": "kLXoVYpjx0PL"
      },
      "source": [
        "Accuracy check for logistic regression"
      ]
    },
    {
      "cell_type": "code",
      "metadata": {
        "id": "313aW9_VUpOZ",
        "colab": {
          "base_uri": "https://localhost:8080/"
        },
        "outputId": "abca181d-4dda-4ead-edb6-3f83439d4549"
      },
      "source": [
        "accuracy=0\n",
        "for i in range(len(pred1)):\n",
        "  if pred1[i]==Y_test.iloc[i]:\n",
        "    accuracy +=1\n",
        "Accuracy = accuracy/(len(pred1))\n",
        "print(\"Accuracy for logistic regression model:\",Accuracy) \n",
        "print(\"Accuracy_score for logistic regression model\",accuracy_score(Y_test,pred1))\n",
        "print(\"roc auc score for logistic regression model\",roc_auc_score(Y_test,pred1))\n",
        "print('precision score for logistic regression model is:',precision_score(Y_test,pred1))\n",
        "print(\"recall score for logistic regression model:\",recall_score(Y_test,pred1))\n",
        "print(\"f1 score for logistic regression model:\",f1_score(Y_test,pred1))"
      ],
      "execution_count": null,
      "outputs": [
        {
          "output_type": "stream",
          "text": [
            "Accuracy for logistic regression model: 0.87\n",
            "Accuracy_score for logistic regression model 0.87\n",
            "roc auc score for logistic regression model 0.675\n",
            "precision score for logistic regression model is: 1.0\n",
            "recall score for logistic regression model: 0.35\n",
            "f1 score for logistic regression model: 0.5185185185185185\n"
          ],
          "name": "stdout"
        }
      ]
    },
    {
      "cell_type": "markdown",
      "metadata": {
        "id": "oR7yC7MX0elZ"
      },
      "source": [
        "Confusion Matrix for Decision Tree model"
      ]
    },
    {
      "cell_type": "code",
      "metadata": {
        "colab": {
          "base_uri": "https://localhost:8080/"
        },
        "id": "CFfI2VUY0ZD0",
        "outputId": "d9d01d77-13d7-42f7-9943-23ad7c8c9979"
      },
      "source": [
        "print(\"Confusion matrix for Decision Tree Model:\")\n",
        "confusion_matrix(Y_test,pred1)"
      ],
      "execution_count": null,
      "outputs": [
        {
          "output_type": "stream",
          "text": [
            "Confusion matrix for Decision Tree Model:\n"
          ],
          "name": "stdout"
        },
        {
          "output_type": "execute_result",
          "data": {
            "text/plain": [
              "array([[480,   0],\n",
              "       [ 78,  42]])"
            ]
          },
          "metadata": {
            "tags": []
          },
          "execution_count": 45
        }
      ]
    },
    {
      "cell_type": "markdown",
      "metadata": {
        "id": "qbrKYrvZ0Mdf"
      },
      "source": [
        "Accuracy check for Decision Tree model"
      ]
    },
    {
      "cell_type": "code",
      "metadata": {
        "colab": {
          "base_uri": "https://localhost:8080/"
        },
        "id": "mtkV_tVqr0e2",
        "outputId": "9337f611-991c-4c93-e039-dbf5b78c3d48"
      },
      "source": [
        "accuracy2=0\n",
        "for i in range(len(pred2)):\n",
        "  if pred2[i]==Y_test.iloc[i]:\n",
        "    accuracy2 +=1\n",
        "Accuracy2 = accuracy2/(len(pred2))\n",
        "print(\"Accuracy for Decision tree model:\",Accuracy2) \n",
        "print(\"Accuracy_score for Decision tree model\",accuracy_score(Y_test,pred2))\n",
        "print(\"roc auc score for Decision tree model\",roc_auc_score(Y_test,pred2))\n",
        "print('precision score for Decision tree model:',precision_score(Y_test,pred2))\n",
        "print(\"recall score for Decision tree model:\",recall_score(Y_test,pred2))\n",
        "print(\"f1 score for Decision tree model:\",f1_score(Y_test,pred2))\n"
      ],
      "execution_count": null,
      "outputs": [
        {
          "output_type": "stream",
          "text": [
            "Accuracy for Decision tree model: 1.0\n",
            "Accuracy_score for Decision tree model 1.0\n",
            "roc auc score for Decision tree model 1.0\n",
            "precision score for Decision tree model: 1.0\n",
            "recall score for Decision tree model: 1.0\n",
            "f1 score for Decision tree model: 1.0\n"
          ],
          "name": "stdout"
        }
      ]
    },
    {
      "cell_type": "markdown",
      "metadata": {
        "id": "7AUKuJj50ACL"
      },
      "source": [
        "Accuracy of Random Forest model"
      ]
    },
    {
      "cell_type": "code",
      "metadata": {
        "colab": {
          "base_uri": "https://localhost:8080/"
        },
        "id": "xa6A29YktMDD",
        "outputId": "2ee6b47a-e173-495f-a997-8a6b0f31041a"
      },
      "source": [
        "accuracy3=0\n",
        "for i in range(len(pred3)):\n",
        "  if pred3[i]==Y_test.iloc[i]:\n",
        "    accuracy3 +=1\n",
        "Accuracy3 = accuracy3/(len(pred3)) \n",
        "print(\"Accuracy for Random Forest model:\",Accuracy3) "
      ],
      "execution_count": null,
      "outputs": [
        {
          "output_type": "stream",
          "text": [
            "Accuracy for Random Forest model: 1.0\n"
          ],
          "name": "stdout"
        }
      ]
    },
    {
      "cell_type": "markdown",
      "metadata": {
        "id": "_fhpKBKO3RnF"
      },
      "source": [
        "Saving models to Disk"
      ]
    },
    {
      "cell_type": "code",
      "metadata": {
        "id": "OP7VMcwS1CDp"
      },
      "source": [
        "pickle.dump(model1, open('model.pkl',\"wb\"))"
      ],
      "execution_count": null,
      "outputs": []
    },
    {
      "cell_type": "code",
      "metadata": {
        "id": "SFtWctHKyGX0"
      },
      "source": [
        "pickle.dump(model2, open('model2.pkl',\"wb\"))"
      ],
      "execution_count": null,
      "outputs": []
    },
    {
      "cell_type": "code",
      "metadata": {
        "id": "O6FfMDPo2pwc"
      },
      "source": [
        "pickle.dump(model3, open('model3.pkl',\"wb\"))"
      ],
      "execution_count": null,
      "outputs": []
    },
    {
      "cell_type": "markdown",
      "metadata": {
        "id": "zLQHhYgv5bh-"
      },
      "source": [
        " **Thank you**"
      ]
    },
    {
      "cell_type": "code",
      "metadata": {
        "id": "Ndo0lgGv5hJz"
      },
      "source": [
        ""
      ],
      "execution_count": null,
      "outputs": []
    }
  ]
}