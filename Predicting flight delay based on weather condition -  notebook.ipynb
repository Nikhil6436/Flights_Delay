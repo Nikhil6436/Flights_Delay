{
 "cells": [
  {
   "cell_type": "markdown",
   "metadata": {},
   "source": [
    "# Techncolabs Internship\n",
    "\n",
    "## Project - Predicting Flight Delay Based On Local Weather Data\n",
    "\n",
    "### Introduction\n",
    " - Commercial airlines are a backbone of the worldwide transportation system, bringing significant socioeconomic utility by enabling cheaper and easier long distance travel. After more than half a century of mainstream adoption (especially in the US), airline operations have seen major optimizations, and today function with excellent reliability even in the face of onerous engineering challenges.\n",
    " - Still, the modern passenger is occasionally inconvenienced by aircraft delays, disrupting an otherwise exacting system and causing significant inefficiencies at scale in 2007, 23% of US flights were more than 15 minutes late to depart (federal definition of flight delay), levying an aggregate cost of $32.9bn\n",
    " - suggesting that better understanding of aircraft unfriendly weather could improve airline scheduling and significantly reduce delays."
   ]
  },
  {
   "cell_type": "markdown",
   "metadata": {},
   "source": [
    "### Dataset and Features\n",
    "The US Bureau of Transport Statistics provides data on all domestic flights, including their scheduled and actual departure and takeoff times, date, origin, destination and carrier. We combined this with Local Climatological Data from NOAA to form a joined dataset that includes the closest available weather data at the departure airport along with the standard flight data.\n",
    "The departure airport weather features include temperature, humidity, air pressure, and precipitation type and amount."
   ]
  },
  {
   "cell_type": "markdown",
   "metadata": {},
   "source": [
    "# Reading and Understanding Data"
   ]
  },
  {
   "cell_type": "code",
   "execution_count": 1,
   "metadata": {},
   "outputs": [],
   "source": [
    "# importing libraries\n",
    "import warnings\n",
    "warnings.filterwarnings('ignore')\n",
    "\n",
    "import math\n",
    "import pandas as pd\n",
    "import numpy as np\n",
    "\n",
    "import matplotlib.pyplot as plt\n",
    "import seaborn as sns"
   ]
  },
  {
   "cell_type": "code",
   "execution_count": 2,
   "metadata": {},
   "outputs": [],
   "source": [
    "pd.set_option('display.max_rows', 500) \n",
    "pd.set_option('display.max_columns', 500) \n",
    "pd.set_option('display.width', 1000)"
   ]
  },
  {
   "cell_type": "code",
   "execution_count": 3,
   "metadata": {},
   "outputs": [
    {
     "data": {
      "text/html": [
       "<div>\n",
       "<style scoped>\n",
       "    .dataframe tbody tr th:only-of-type {\n",
       "        vertical-align: middle;\n",
       "    }\n",
       "\n",
       "    .dataframe tbody tr th {\n",
       "        vertical-align: top;\n",
       "    }\n",
       "\n",
       "    .dataframe thead th {\n",
       "        text-align: right;\n",
       "    }\n",
       "</style>\n",
       "<table border=\"1\" class=\"dataframe\">\n",
       "  <thead>\n",
       "    <tr style=\"text-align: right;\">\n",
       "      <th></th>\n",
       "      <th>YEAR</th>\n",
       "      <th>MONTH</th>\n",
       "      <th>DAY</th>\n",
       "      <th>DAY_OF_WEEK</th>\n",
       "      <th>AIRLINE</th>\n",
       "      <th>FLIGHT_NUMBER</th>\n",
       "      <th>TAIL_NUMBER</th>\n",
       "      <th>ORIGIN_AIRPORT</th>\n",
       "      <th>DESTINATION_AIRPORT</th>\n",
       "      <th>SCHEDULED_DEPARTURE</th>\n",
       "      <th>DEPARTURE_TIME</th>\n",
       "      <th>DEPARTURE_DELAY</th>\n",
       "      <th>TAXI_OUT</th>\n",
       "      <th>WHEELS_OFF</th>\n",
       "      <th>SCHEDULED_TIME</th>\n",
       "      <th>ELAPSED_TIME</th>\n",
       "      <th>AIR_TIME</th>\n",
       "      <th>DISTANCE</th>\n",
       "      <th>WHEELS_ON</th>\n",
       "      <th>TAXI_IN</th>\n",
       "      <th>SCHEDULED_ARRIVAL</th>\n",
       "      <th>ARRIVAL_TIME</th>\n",
       "      <th>ARRIVAL_DELAY</th>\n",
       "      <th>DIVERTED</th>\n",
       "      <th>CANCELLED</th>\n",
       "      <th>CANCELLATION_REASON</th>\n",
       "      <th>AIR_SYSTEM_DELAY</th>\n",
       "      <th>SECURITY_DELAY</th>\n",
       "      <th>AIRLINE_DELAY</th>\n",
       "      <th>LATE_AIRCRAFT_DELAY</th>\n",
       "      <th>WEATHER_DELAY</th>\n",
       "    </tr>\n",
       "  </thead>\n",
       "  <tbody>\n",
       "    <tr>\n",
       "      <th>0</th>\n",
       "      <td>2015</td>\n",
       "      <td>1</td>\n",
       "      <td>1</td>\n",
       "      <td>4</td>\n",
       "      <td>AS</td>\n",
       "      <td>98</td>\n",
       "      <td>N407AS</td>\n",
       "      <td>ANC</td>\n",
       "      <td>SEA</td>\n",
       "      <td>5</td>\n",
       "      <td>2354.0</td>\n",
       "      <td>-11.0</td>\n",
       "      <td>21.0</td>\n",
       "      <td>15.0</td>\n",
       "      <td>205.0</td>\n",
       "      <td>194.0</td>\n",
       "      <td>169.0</td>\n",
       "      <td>1448</td>\n",
       "      <td>404.0</td>\n",
       "      <td>4.0</td>\n",
       "      <td>430</td>\n",
       "      <td>408.0</td>\n",
       "      <td>-22.0</td>\n",
       "      <td>0</td>\n",
       "      <td>0</td>\n",
       "      <td>NaN</td>\n",
       "      <td>NaN</td>\n",
       "      <td>NaN</td>\n",
       "      <td>NaN</td>\n",
       "      <td>NaN</td>\n",
       "      <td>NaN</td>\n",
       "    </tr>\n",
       "    <tr>\n",
       "      <th>1</th>\n",
       "      <td>2015</td>\n",
       "      <td>1</td>\n",
       "      <td>1</td>\n",
       "      <td>4</td>\n",
       "      <td>AA</td>\n",
       "      <td>2336</td>\n",
       "      <td>N3KUAA</td>\n",
       "      <td>LAX</td>\n",
       "      <td>PBI</td>\n",
       "      <td>10</td>\n",
       "      <td>2.0</td>\n",
       "      <td>-8.0</td>\n",
       "      <td>12.0</td>\n",
       "      <td>14.0</td>\n",
       "      <td>280.0</td>\n",
       "      <td>279.0</td>\n",
       "      <td>263.0</td>\n",
       "      <td>2330</td>\n",
       "      <td>737.0</td>\n",
       "      <td>4.0</td>\n",
       "      <td>750</td>\n",
       "      <td>741.0</td>\n",
       "      <td>-9.0</td>\n",
       "      <td>0</td>\n",
       "      <td>0</td>\n",
       "      <td>NaN</td>\n",
       "      <td>NaN</td>\n",
       "      <td>NaN</td>\n",
       "      <td>NaN</td>\n",
       "      <td>NaN</td>\n",
       "      <td>NaN</td>\n",
       "    </tr>\n",
       "    <tr>\n",
       "      <th>2</th>\n",
       "      <td>2015</td>\n",
       "      <td>1</td>\n",
       "      <td>1</td>\n",
       "      <td>4</td>\n",
       "      <td>US</td>\n",
       "      <td>840</td>\n",
       "      <td>N171US</td>\n",
       "      <td>SFO</td>\n",
       "      <td>CLT</td>\n",
       "      <td>20</td>\n",
       "      <td>18.0</td>\n",
       "      <td>-2.0</td>\n",
       "      <td>16.0</td>\n",
       "      <td>34.0</td>\n",
       "      <td>286.0</td>\n",
       "      <td>293.0</td>\n",
       "      <td>266.0</td>\n",
       "      <td>2296</td>\n",
       "      <td>800.0</td>\n",
       "      <td>11.0</td>\n",
       "      <td>806</td>\n",
       "      <td>811.0</td>\n",
       "      <td>5.0</td>\n",
       "      <td>0</td>\n",
       "      <td>0</td>\n",
       "      <td>NaN</td>\n",
       "      <td>NaN</td>\n",
       "      <td>NaN</td>\n",
       "      <td>NaN</td>\n",
       "      <td>NaN</td>\n",
       "      <td>NaN</td>\n",
       "    </tr>\n",
       "    <tr>\n",
       "      <th>3</th>\n",
       "      <td>2015</td>\n",
       "      <td>1</td>\n",
       "      <td>1</td>\n",
       "      <td>4</td>\n",
       "      <td>AA</td>\n",
       "      <td>258</td>\n",
       "      <td>N3HYAA</td>\n",
       "      <td>LAX</td>\n",
       "      <td>MIA</td>\n",
       "      <td>20</td>\n",
       "      <td>15.0</td>\n",
       "      <td>-5.0</td>\n",
       "      <td>15.0</td>\n",
       "      <td>30.0</td>\n",
       "      <td>285.0</td>\n",
       "      <td>281.0</td>\n",
       "      <td>258.0</td>\n",
       "      <td>2342</td>\n",
       "      <td>748.0</td>\n",
       "      <td>8.0</td>\n",
       "      <td>805</td>\n",
       "      <td>756.0</td>\n",
       "      <td>-9.0</td>\n",
       "      <td>0</td>\n",
       "      <td>0</td>\n",
       "      <td>NaN</td>\n",
       "      <td>NaN</td>\n",
       "      <td>NaN</td>\n",
       "      <td>NaN</td>\n",
       "      <td>NaN</td>\n",
       "      <td>NaN</td>\n",
       "    </tr>\n",
       "    <tr>\n",
       "      <th>4</th>\n",
       "      <td>2015</td>\n",
       "      <td>1</td>\n",
       "      <td>1</td>\n",
       "      <td>4</td>\n",
       "      <td>AS</td>\n",
       "      <td>135</td>\n",
       "      <td>N527AS</td>\n",
       "      <td>SEA</td>\n",
       "      <td>ANC</td>\n",
       "      <td>25</td>\n",
       "      <td>24.0</td>\n",
       "      <td>-1.0</td>\n",
       "      <td>11.0</td>\n",
       "      <td>35.0</td>\n",
       "      <td>235.0</td>\n",
       "      <td>215.0</td>\n",
       "      <td>199.0</td>\n",
       "      <td>1448</td>\n",
       "      <td>254.0</td>\n",
       "      <td>5.0</td>\n",
       "      <td>320</td>\n",
       "      <td>259.0</td>\n",
       "      <td>-21.0</td>\n",
       "      <td>0</td>\n",
       "      <td>0</td>\n",
       "      <td>NaN</td>\n",
       "      <td>NaN</td>\n",
       "      <td>NaN</td>\n",
       "      <td>NaN</td>\n",
       "      <td>NaN</td>\n",
       "      <td>NaN</td>\n",
       "    </tr>\n",
       "  </tbody>\n",
       "</table>\n",
       "</div>"
      ],
      "text/plain": [
       "   YEAR  MONTH  DAY  DAY_OF_WEEK AIRLINE  FLIGHT_NUMBER TAIL_NUMBER ORIGIN_AIRPORT DESTINATION_AIRPORT  SCHEDULED_DEPARTURE  DEPARTURE_TIME  DEPARTURE_DELAY  TAXI_OUT  WHEELS_OFF  SCHEDULED_TIME  ELAPSED_TIME  AIR_TIME  DISTANCE  WHEELS_ON  TAXI_IN  SCHEDULED_ARRIVAL  ARRIVAL_TIME  ARRIVAL_DELAY  DIVERTED  CANCELLED CANCELLATION_REASON  AIR_SYSTEM_DELAY  SECURITY_DELAY  AIRLINE_DELAY  LATE_AIRCRAFT_DELAY  WEATHER_DELAY\n",
       "0  2015      1    1            4      AS             98      N407AS            ANC                 SEA                    5          2354.0            -11.0      21.0        15.0           205.0         194.0     169.0      1448      404.0      4.0                430         408.0          -22.0         0          0                 NaN               NaN             NaN            NaN                  NaN            NaN\n",
       "1  2015      1    1            4      AA           2336      N3KUAA            LAX                 PBI                   10             2.0             -8.0      12.0        14.0           280.0         279.0     263.0      2330      737.0      4.0                750         741.0           -9.0         0          0                 NaN               NaN             NaN            NaN                  NaN            NaN\n",
       "2  2015      1    1            4      US            840      N171US            SFO                 CLT                   20            18.0             -2.0      16.0        34.0           286.0         293.0     266.0      2296      800.0     11.0                806         811.0            5.0         0          0                 NaN               NaN             NaN            NaN                  NaN            NaN\n",
       "3  2015      1    1            4      AA            258      N3HYAA            LAX                 MIA                   20            15.0             -5.0      15.0        30.0           285.0         281.0     258.0      2342      748.0      8.0                805         756.0           -9.0         0          0                 NaN               NaN             NaN            NaN                  NaN            NaN\n",
       "4  2015      1    1            4      AS            135      N527AS            SEA                 ANC                   25            24.0             -1.0      11.0        35.0           235.0         215.0     199.0      1448      254.0      5.0                320         259.0          -21.0         0          0                 NaN               NaN             NaN            NaN                  NaN            NaN"
      ]
     },
     "execution_count": 3,
     "metadata": {},
     "output_type": "execute_result"
    }
   ],
   "source": [
    "flight_df = pd.read_csv(\"flights.csv\")\n",
    "flight_df.head()"
   ]
  },
  {
   "cell_type": "code",
   "execution_count": 4,
   "metadata": {
    "scrolled": true
   },
   "outputs": [
    {
     "name": "stdout",
     "output_type": "stream",
     "text": [
      "<class 'pandas.core.frame.DataFrame'>\n",
      "RangeIndex: 5819079 entries, 0 to 5819078\n",
      "Data columns (total 31 columns):\n",
      " #   Column               Dtype  \n",
      "---  ------               -----  \n",
      " 0   YEAR                 int64  \n",
      " 1   MONTH                int64  \n",
      " 2   DAY                  int64  \n",
      " 3   DAY_OF_WEEK          int64  \n",
      " 4   AIRLINE              object \n",
      " 5   FLIGHT_NUMBER        int64  \n",
      " 6   TAIL_NUMBER          object \n",
      " 7   ORIGIN_AIRPORT       object \n",
      " 8   DESTINATION_AIRPORT  object \n",
      " 9   SCHEDULED_DEPARTURE  int64  \n",
      " 10  DEPARTURE_TIME       float64\n",
      " 11  DEPARTURE_DELAY      float64\n",
      " 12  TAXI_OUT             float64\n",
      " 13  WHEELS_OFF           float64\n",
      " 14  SCHEDULED_TIME       float64\n",
      " 15  ELAPSED_TIME         float64\n",
      " 16  AIR_TIME             float64\n",
      " 17  DISTANCE             int64  \n",
      " 18  WHEELS_ON            float64\n",
      " 19  TAXI_IN              float64\n",
      " 20  SCHEDULED_ARRIVAL    int64  \n",
      " 21  ARRIVAL_TIME         float64\n",
      " 22  ARRIVAL_DELAY        float64\n",
      " 23  DIVERTED             int64  \n",
      " 24  CANCELLED            int64  \n",
      " 25  CANCELLATION_REASON  object \n",
      " 26  AIR_SYSTEM_DELAY     float64\n",
      " 27  SECURITY_DELAY       float64\n",
      " 28  AIRLINE_DELAY        float64\n",
      " 29  LATE_AIRCRAFT_DELAY  float64\n",
      " 30  WEATHER_DELAY        float64\n",
      "dtypes: float64(16), int64(10), object(5)\n",
      "memory usage: 1.3+ GB\n"
     ]
    }
   ],
   "source": [
    "flight_df.info()"
   ]
  },
  {
   "cell_type": "code",
   "execution_count": 5,
   "metadata": {
    "scrolled": true
   },
   "outputs": [
    {
     "data": {
      "text/plain": [
       "YEAR                         0\n",
       "MONTH                        0\n",
       "DAY                          0\n",
       "DAY_OF_WEEK                  0\n",
       "AIRLINE                      0\n",
       "FLIGHT_NUMBER                0\n",
       "TAIL_NUMBER              14721\n",
       "ORIGIN_AIRPORT               0\n",
       "DESTINATION_AIRPORT          0\n",
       "SCHEDULED_DEPARTURE          0\n",
       "DEPARTURE_TIME           86153\n",
       "DEPARTURE_DELAY          86153\n",
       "TAXI_OUT                 89047\n",
       "WHEELS_OFF               89047\n",
       "SCHEDULED_TIME               6\n",
       "ELAPSED_TIME            105071\n",
       "AIR_TIME                105071\n",
       "DISTANCE                     0\n",
       "WHEELS_ON                92513\n",
       "TAXI_IN                  92513\n",
       "SCHEDULED_ARRIVAL            0\n",
       "ARRIVAL_TIME             92513\n",
       "ARRIVAL_DELAY           105071\n",
       "DIVERTED                     0\n",
       "CANCELLED                    0\n",
       "CANCELLATION_REASON    5729195\n",
       "AIR_SYSTEM_DELAY       4755640\n",
       "SECURITY_DELAY         4755640\n",
       "AIRLINE_DELAY          4755640\n",
       "LATE_AIRCRAFT_DELAY    4755640\n",
       "WEATHER_DELAY          4755640\n",
       "dtype: int64"
      ]
     },
     "execution_count": 5,
     "metadata": {},
     "output_type": "execute_result"
    }
   ],
   "source": [
    "flight_df.isnull().sum()"
   ]
  },
  {
   "cell_type": "markdown",
   "metadata": {},
   "source": [
    "# Find out Missing Percentage of each feature\n",
    "## Drop the columns having missing percentage greater than 40%"
   ]
  },
  {
   "cell_type": "code",
   "execution_count": 6,
   "metadata": {},
   "outputs": [],
   "source": [
    "# fuction to find missing value percetnage\n",
    "def findmissingval():\n",
    "    df_missing=pd.DataFrame((flight_df.isnull().sum()  / flight_df.shape[0] *100).round(3),columns=['Percentage'])\n",
    "    return df_missing    "
   ]
  },
  {
   "cell_type": "code",
   "execution_count": 7,
   "metadata": {
    "scrolled": true
   },
   "outputs": [
    {
     "data": {
      "text/html": [
       "<div>\n",
       "<style scoped>\n",
       "    .dataframe tbody tr th:only-of-type {\n",
       "        vertical-align: middle;\n",
       "    }\n",
       "\n",
       "    .dataframe tbody tr th {\n",
       "        vertical-align: top;\n",
       "    }\n",
       "\n",
       "    .dataframe thead th {\n",
       "        text-align: right;\n",
       "    }\n",
       "</style>\n",
       "<table border=\"1\" class=\"dataframe\">\n",
       "  <thead>\n",
       "    <tr style=\"text-align: right;\">\n",
       "      <th></th>\n",
       "      <th>Percentage</th>\n",
       "    </tr>\n",
       "  </thead>\n",
       "  <tbody>\n",
       "    <tr>\n",
       "      <th>CANCELLATION_REASON</th>\n",
       "      <td>98.455</td>\n",
       "    </tr>\n",
       "    <tr>\n",
       "      <th>WEATHER_DELAY</th>\n",
       "      <td>81.725</td>\n",
       "    </tr>\n",
       "    <tr>\n",
       "      <th>LATE_AIRCRAFT_DELAY</th>\n",
       "      <td>81.725</td>\n",
       "    </tr>\n",
       "    <tr>\n",
       "      <th>AIRLINE_DELAY</th>\n",
       "      <td>81.725</td>\n",
       "    </tr>\n",
       "    <tr>\n",
       "      <th>SECURITY_DELAY</th>\n",
       "      <td>81.725</td>\n",
       "    </tr>\n",
       "    <tr>\n",
       "      <th>AIR_SYSTEM_DELAY</th>\n",
       "      <td>81.725</td>\n",
       "    </tr>\n",
       "    <tr>\n",
       "      <th>AIR_TIME</th>\n",
       "      <td>1.806</td>\n",
       "    </tr>\n",
       "    <tr>\n",
       "      <th>ARRIVAL_DELAY</th>\n",
       "      <td>1.806</td>\n",
       "    </tr>\n",
       "    <tr>\n",
       "      <th>ELAPSED_TIME</th>\n",
       "      <td>1.806</td>\n",
       "    </tr>\n",
       "    <tr>\n",
       "      <th>WHEELS_ON</th>\n",
       "      <td>1.590</td>\n",
       "    </tr>\n",
       "    <tr>\n",
       "      <th>TAXI_IN</th>\n",
       "      <td>1.590</td>\n",
       "    </tr>\n",
       "    <tr>\n",
       "      <th>ARRIVAL_TIME</th>\n",
       "      <td>1.590</td>\n",
       "    </tr>\n",
       "    <tr>\n",
       "      <th>TAXI_OUT</th>\n",
       "      <td>1.530</td>\n",
       "    </tr>\n",
       "    <tr>\n",
       "      <th>WHEELS_OFF</th>\n",
       "      <td>1.530</td>\n",
       "    </tr>\n",
       "    <tr>\n",
       "      <th>DEPARTURE_DELAY</th>\n",
       "      <td>1.481</td>\n",
       "    </tr>\n",
       "    <tr>\n",
       "      <th>DEPARTURE_TIME</th>\n",
       "      <td>1.481</td>\n",
       "    </tr>\n",
       "    <tr>\n",
       "      <th>TAIL_NUMBER</th>\n",
       "      <td>0.253</td>\n",
       "    </tr>\n",
       "    <tr>\n",
       "      <th>SCHEDULED_DEPARTURE</th>\n",
       "      <td>0.000</td>\n",
       "    </tr>\n",
       "    <tr>\n",
       "      <th>CANCELLED</th>\n",
       "      <td>0.000</td>\n",
       "    </tr>\n",
       "    <tr>\n",
       "      <th>DAY</th>\n",
       "      <td>0.000</td>\n",
       "    </tr>\n",
       "    <tr>\n",
       "      <th>DAY_OF_WEEK</th>\n",
       "      <td>0.000</td>\n",
       "    </tr>\n",
       "    <tr>\n",
       "      <th>AIRLINE</th>\n",
       "      <td>0.000</td>\n",
       "    </tr>\n",
       "    <tr>\n",
       "      <th>FLIGHT_NUMBER</th>\n",
       "      <td>0.000</td>\n",
       "    </tr>\n",
       "    <tr>\n",
       "      <th>SCHEDULED_ARRIVAL</th>\n",
       "      <td>0.000</td>\n",
       "    </tr>\n",
       "    <tr>\n",
       "      <th>DIVERTED</th>\n",
       "      <td>0.000</td>\n",
       "    </tr>\n",
       "    <tr>\n",
       "      <th>ORIGIN_AIRPORT</th>\n",
       "      <td>0.000</td>\n",
       "    </tr>\n",
       "    <tr>\n",
       "      <th>DISTANCE</th>\n",
       "      <td>0.000</td>\n",
       "    </tr>\n",
       "    <tr>\n",
       "      <th>DESTINATION_AIRPORT</th>\n",
       "      <td>0.000</td>\n",
       "    </tr>\n",
       "    <tr>\n",
       "      <th>MONTH</th>\n",
       "      <td>0.000</td>\n",
       "    </tr>\n",
       "    <tr>\n",
       "      <th>SCHEDULED_TIME</th>\n",
       "      <td>0.000</td>\n",
       "    </tr>\n",
       "    <tr>\n",
       "      <th>YEAR</th>\n",
       "      <td>0.000</td>\n",
       "    </tr>\n",
       "  </tbody>\n",
       "</table>\n",
       "</div>"
      ],
      "text/plain": [
       "                     Percentage\n",
       "CANCELLATION_REASON      98.455\n",
       "WEATHER_DELAY            81.725\n",
       "LATE_AIRCRAFT_DELAY      81.725\n",
       "AIRLINE_DELAY            81.725\n",
       "SECURITY_DELAY           81.725\n",
       "AIR_SYSTEM_DELAY         81.725\n",
       "AIR_TIME                  1.806\n",
       "ARRIVAL_DELAY             1.806\n",
       "ELAPSED_TIME              1.806\n",
       "WHEELS_ON                 1.590\n",
       "TAXI_IN                   1.590\n",
       "ARRIVAL_TIME              1.590\n",
       "TAXI_OUT                  1.530\n",
       "WHEELS_OFF                1.530\n",
       "DEPARTURE_DELAY           1.481\n",
       "DEPARTURE_TIME            1.481\n",
       "TAIL_NUMBER               0.253\n",
       "SCHEDULED_DEPARTURE       0.000\n",
       "CANCELLED                 0.000\n",
       "DAY                       0.000\n",
       "DAY_OF_WEEK               0.000\n",
       "AIRLINE                   0.000\n",
       "FLIGHT_NUMBER             0.000\n",
       "SCHEDULED_ARRIVAL         0.000\n",
       "DIVERTED                  0.000\n",
       "ORIGIN_AIRPORT            0.000\n",
       "DISTANCE                  0.000\n",
       "DESTINATION_AIRPORT       0.000\n",
       "MONTH                     0.000\n",
       "SCHEDULED_TIME            0.000\n",
       "YEAR                      0.000"
      ]
     },
     "execution_count": 7,
     "metadata": {},
     "output_type": "execute_result"
    }
   ],
   "source": [
    "# find out the percentage of missing value in each column\n",
    "df_missing=findmissingval()\n",
    "df_missing.sort_values(by='Percentage',ascending=False)"
   ]
  },
  {
   "cell_type": "code",
   "execution_count": 8,
   "metadata": {},
   "outputs": [
    {
     "data": {
      "text/plain": [
       "Index(['CANCELLATION_REASON', 'AIR_SYSTEM_DELAY', 'SECURITY_DELAY', 'AIRLINE_DELAY', 'LATE_AIRCRAFT_DELAY', 'WEATHER_DELAY'], dtype='object')"
      ]
     },
     "execution_count": 8,
     "metadata": {},
     "output_type": "execute_result"
    }
   ],
   "source": [
    "# select columns having more than 40% missing values.\n",
    "columnstodrop=df_missing[df_missing['Percentage'] > 40]\n",
    "columnstodrop.index"
   ]
  },
  {
   "cell_type": "code",
   "execution_count": 9,
   "metadata": {},
   "outputs": [],
   "source": [
    "# drop the columns which having more than 40% missing values\n",
    "flight_df=flight_df.drop(columnstodrop.index,axis=1)"
   ]
  },
  {
   "cell_type": "code",
   "execution_count": 10,
   "metadata": {},
   "outputs": [
    {
     "data": {
      "text/html": [
       "<div>\n",
       "<style scoped>\n",
       "    .dataframe tbody tr th:only-of-type {\n",
       "        vertical-align: middle;\n",
       "    }\n",
       "\n",
       "    .dataframe tbody tr th {\n",
       "        vertical-align: top;\n",
       "    }\n",
       "\n",
       "    .dataframe thead th {\n",
       "        text-align: right;\n",
       "    }\n",
       "</style>\n",
       "<table border=\"1\" class=\"dataframe\">\n",
       "  <thead>\n",
       "    <tr style=\"text-align: right;\">\n",
       "      <th></th>\n",
       "      <th>Percentage</th>\n",
       "    </tr>\n",
       "  </thead>\n",
       "  <tbody>\n",
       "    <tr>\n",
       "      <th>ELAPSED_TIME</th>\n",
       "      <td>1.806</td>\n",
       "    </tr>\n",
       "    <tr>\n",
       "      <th>ARRIVAL_DELAY</th>\n",
       "      <td>1.806</td>\n",
       "    </tr>\n",
       "    <tr>\n",
       "      <th>AIR_TIME</th>\n",
       "      <td>1.806</td>\n",
       "    </tr>\n",
       "    <tr>\n",
       "      <th>ARRIVAL_TIME</th>\n",
       "      <td>1.590</td>\n",
       "    </tr>\n",
       "    <tr>\n",
       "      <th>TAXI_IN</th>\n",
       "      <td>1.590</td>\n",
       "    </tr>\n",
       "    <tr>\n",
       "      <th>WHEELS_ON</th>\n",
       "      <td>1.590</td>\n",
       "    </tr>\n",
       "    <tr>\n",
       "      <th>TAXI_OUT</th>\n",
       "      <td>1.530</td>\n",
       "    </tr>\n",
       "    <tr>\n",
       "      <th>WHEELS_OFF</th>\n",
       "      <td>1.530</td>\n",
       "    </tr>\n",
       "    <tr>\n",
       "      <th>DEPARTURE_TIME</th>\n",
       "      <td>1.481</td>\n",
       "    </tr>\n",
       "    <tr>\n",
       "      <th>DEPARTURE_DELAY</th>\n",
       "      <td>1.481</td>\n",
       "    </tr>\n",
       "    <tr>\n",
       "      <th>TAIL_NUMBER</th>\n",
       "      <td>0.253</td>\n",
       "    </tr>\n",
       "    <tr>\n",
       "      <th>DIVERTED</th>\n",
       "      <td>0.000</td>\n",
       "    </tr>\n",
       "    <tr>\n",
       "      <th>SCHEDULED_ARRIVAL</th>\n",
       "      <td>0.000</td>\n",
       "    </tr>\n",
       "    <tr>\n",
       "      <th>DISTANCE</th>\n",
       "      <td>0.000</td>\n",
       "    </tr>\n",
       "    <tr>\n",
       "      <th>YEAR</th>\n",
       "      <td>0.000</td>\n",
       "    </tr>\n",
       "    <tr>\n",
       "      <th>SCHEDULED_TIME</th>\n",
       "      <td>0.000</td>\n",
       "    </tr>\n",
       "    <tr>\n",
       "      <th>MONTH</th>\n",
       "      <td>0.000</td>\n",
       "    </tr>\n",
       "    <tr>\n",
       "      <th>SCHEDULED_DEPARTURE</th>\n",
       "      <td>0.000</td>\n",
       "    </tr>\n",
       "    <tr>\n",
       "      <th>DESTINATION_AIRPORT</th>\n",
       "      <td>0.000</td>\n",
       "    </tr>\n",
       "    <tr>\n",
       "      <th>ORIGIN_AIRPORT</th>\n",
       "      <td>0.000</td>\n",
       "    </tr>\n",
       "    <tr>\n",
       "      <th>FLIGHT_NUMBER</th>\n",
       "      <td>0.000</td>\n",
       "    </tr>\n",
       "    <tr>\n",
       "      <th>AIRLINE</th>\n",
       "      <td>0.000</td>\n",
       "    </tr>\n",
       "    <tr>\n",
       "      <th>DAY_OF_WEEK</th>\n",
       "      <td>0.000</td>\n",
       "    </tr>\n",
       "    <tr>\n",
       "      <th>DAY</th>\n",
       "      <td>0.000</td>\n",
       "    </tr>\n",
       "    <tr>\n",
       "      <th>CANCELLED</th>\n",
       "      <td>0.000</td>\n",
       "    </tr>\n",
       "  </tbody>\n",
       "</table>\n",
       "</div>"
      ],
      "text/plain": [
       "                     Percentage\n",
       "ELAPSED_TIME              1.806\n",
       "ARRIVAL_DELAY             1.806\n",
       "AIR_TIME                  1.806\n",
       "ARRIVAL_TIME              1.590\n",
       "TAXI_IN                   1.590\n",
       "WHEELS_ON                 1.590\n",
       "TAXI_OUT                  1.530\n",
       "WHEELS_OFF                1.530\n",
       "DEPARTURE_TIME            1.481\n",
       "DEPARTURE_DELAY           1.481\n",
       "TAIL_NUMBER               0.253\n",
       "DIVERTED                  0.000\n",
       "SCHEDULED_ARRIVAL         0.000\n",
       "DISTANCE                  0.000\n",
       "YEAR                      0.000\n",
       "SCHEDULED_TIME            0.000\n",
       "MONTH                     0.000\n",
       "SCHEDULED_DEPARTURE       0.000\n",
       "DESTINATION_AIRPORT       0.000\n",
       "ORIGIN_AIRPORT            0.000\n",
       "FLIGHT_NUMBER             0.000\n",
       "AIRLINE                   0.000\n",
       "DAY_OF_WEEK               0.000\n",
       "DAY                       0.000\n",
       "CANCELLED                 0.000"
      ]
     },
     "execution_count": 10,
     "metadata": {},
     "output_type": "execute_result"
    }
   ],
   "source": [
    "# check the missing value percentage \n",
    "df_missing=pd.DataFrame((flight_df.isnull().sum()  / flight_df.shape[0] *100).round(3),columns=['Percentage'])\n",
    "df_missing.sort_values(by='Percentage',ascending=False)"
   ]
  },
  {
   "cell_type": "code",
   "execution_count": 11,
   "metadata": {},
   "outputs": [
    {
     "name": "stdout",
     "output_type": "stream",
     "text": [
      "<class 'pandas.core.frame.DataFrame'>\n",
      "RangeIndex: 5819079 entries, 0 to 5819078\n",
      "Data columns (total 25 columns):\n",
      " #   Column               Dtype  \n",
      "---  ------               -----  \n",
      " 0   YEAR                 int64  \n",
      " 1   MONTH                int64  \n",
      " 2   DAY                  int64  \n",
      " 3   DAY_OF_WEEK          int64  \n",
      " 4   AIRLINE              object \n",
      " 5   FLIGHT_NUMBER        int64  \n",
      " 6   TAIL_NUMBER          object \n",
      " 7   ORIGIN_AIRPORT       object \n",
      " 8   DESTINATION_AIRPORT  object \n",
      " 9   SCHEDULED_DEPARTURE  int64  \n",
      " 10  DEPARTURE_TIME       float64\n",
      " 11  DEPARTURE_DELAY      float64\n",
      " 12  TAXI_OUT             float64\n",
      " 13  WHEELS_OFF           float64\n",
      " 14  SCHEDULED_TIME       float64\n",
      " 15  ELAPSED_TIME         float64\n",
      " 16  AIR_TIME             float64\n",
      " 17  DISTANCE             int64  \n",
      " 18  WHEELS_ON            float64\n",
      " 19  TAXI_IN              float64\n",
      " 20  SCHEDULED_ARRIVAL    int64  \n",
      " 21  ARRIVAL_TIME         float64\n",
      " 22  ARRIVAL_DELAY        float64\n",
      " 23  DIVERTED             int64  \n",
      " 24  CANCELLED            int64  \n",
      "dtypes: float64(11), int64(10), object(4)\n",
      "memory usage: 1.1+ GB\n"
     ]
    }
   ],
   "source": [
    "flight_df.info()"
   ]
  },
  {
   "cell_type": "code",
   "execution_count": 12,
   "metadata": {},
   "outputs": [
    {
     "data": {
      "text/plain": [
       "YEAR                        0\n",
       "MONTH                       0\n",
       "DAY                         0\n",
       "DAY_OF_WEEK                 0\n",
       "AIRLINE                     0\n",
       "FLIGHT_NUMBER               0\n",
       "TAIL_NUMBER             14721\n",
       "ORIGIN_AIRPORT              0\n",
       "DESTINATION_AIRPORT         0\n",
       "SCHEDULED_DEPARTURE         0\n",
       "DEPARTURE_TIME          86153\n",
       "DEPARTURE_DELAY         86153\n",
       "TAXI_OUT                89047\n",
       "WHEELS_OFF              89047\n",
       "SCHEDULED_TIME              6\n",
       "ELAPSED_TIME           105071\n",
       "AIR_TIME               105071\n",
       "DISTANCE                    0\n",
       "WHEELS_ON               92513\n",
       "TAXI_IN                 92513\n",
       "SCHEDULED_ARRIVAL           0\n",
       "ARRIVAL_TIME            92513\n",
       "ARRIVAL_DELAY          105071\n",
       "DIVERTED                    0\n",
       "CANCELLED                   0\n",
       "dtype: int64"
      ]
     },
     "execution_count": 12,
     "metadata": {},
     "output_type": "execute_result"
    }
   ],
   "source": [
    "flight_df.isnull().sum()"
   ]
  },
  {
   "cell_type": "code",
   "execution_count": 13,
   "metadata": {},
   "outputs": [
    {
     "data": {
      "text/plain": [
       "0    N480HA\n",
       "dtype: object"
      ]
     },
     "execution_count": 13,
     "metadata": {},
     "output_type": "execute_result"
    }
   ],
   "source": [
    "flight_df.TAIL_NUMBER.mode()"
   ]
  },
  {
   "cell_type": "markdown",
   "metadata": {},
   "source": [
    "# EDA"
   ]
  },
  {
   "cell_type": "code",
   "execution_count": 14,
   "metadata": {},
   "outputs": [],
   "source": [
    "flight_df['TAIL_NUMBER'].fillna('N480HA',inplace=True)"
   ]
  },
  {
   "cell_type": "code",
   "execution_count": 15,
   "metadata": {},
   "outputs": [
    {
     "data": {
      "text/plain": [
       "YEAR                        0\n",
       "MONTH                       0\n",
       "DAY                         0\n",
       "DAY_OF_WEEK                 0\n",
       "AIRLINE                     0\n",
       "FLIGHT_NUMBER               0\n",
       "TAIL_NUMBER                 0\n",
       "ORIGIN_AIRPORT              0\n",
       "DESTINATION_AIRPORT         0\n",
       "SCHEDULED_DEPARTURE         0\n",
       "DEPARTURE_TIME          86153\n",
       "DEPARTURE_DELAY         86153\n",
       "TAXI_OUT                89047\n",
       "WHEELS_OFF              89047\n",
       "SCHEDULED_TIME              6\n",
       "ELAPSED_TIME           105071\n",
       "AIR_TIME               105071\n",
       "DISTANCE                    0\n",
       "WHEELS_ON               92513\n",
       "TAXI_IN                 92513\n",
       "SCHEDULED_ARRIVAL           0\n",
       "ARRIVAL_TIME            92513\n",
       "ARRIVAL_DELAY          105071\n",
       "DIVERTED                    0\n",
       "CANCELLED                   0\n",
       "dtype: int64"
      ]
     },
     "execution_count": 15,
     "metadata": {},
     "output_type": "execute_result"
    }
   ],
   "source": [
    "flight_df.isnull().sum()"
   ]
  },
  {
   "cell_type": "code",
   "execution_count": 16,
   "metadata": {},
   "outputs": [],
   "source": [
    "#FILLNA USING COLUMNS MEAN\n",
    "#flight_df.fillna(flight_df.mean(),inplace=True)"
   ]
  },
  {
   "cell_type": "code",
   "execution_count": 17,
   "metadata": {},
   "outputs": [],
   "source": [
    "flight_df['DEPARTURE_TIME'].fillna(flight_df['SCHEDULED_DEPARTURE'],inplace=True)"
   ]
  },
  {
   "cell_type": "code",
   "execution_count": 18,
   "metadata": {},
   "outputs": [],
   "source": [
    "flight_df['DEPARTURE_DELAY'].fillna(flight_df['DEPARTURE_DELAY'].mean(),inplace=True)"
   ]
  },
  {
   "cell_type": "code",
   "execution_count": 19,
   "metadata": {},
   "outputs": [],
   "source": [
    "flight_df['TAXI_OUT'].fillna(flight_df['TAXI_OUT'].mean(),inplace=True)"
   ]
  },
  {
   "cell_type": "code",
   "execution_count": 20,
   "metadata": {},
   "outputs": [],
   "source": [
    "flight_df['WHEELS_OFF'].fillna(flight_df['WHEELS_OFF'].mean(),inplace=True)"
   ]
  },
  {
   "cell_type": "code",
   "execution_count": 21,
   "metadata": {},
   "outputs": [],
   "source": [
    "flight_df['SCHEDULED_TIME'].fillna(flight_df['SCHEDULED_TIME'],inplace=True)"
   ]
  },
  {
   "cell_type": "code",
   "execution_count": 22,
   "metadata": {},
   "outputs": [],
   "source": [
    "flight_df['ELAPSED_TIME'].fillna(flight_df['ELAPSED_TIME'].mean(),inplace=True)"
   ]
  },
  {
   "cell_type": "code",
   "execution_count": 23,
   "metadata": {},
   "outputs": [],
   "source": [
    "flight_df['AIR_TIME'].fillna(flight_df['AIR_TIME'].mean(),inplace=True)"
   ]
  },
  {
   "cell_type": "code",
   "execution_count": 24,
   "metadata": {},
   "outputs": [],
   "source": [
    "flight_df['WHEELS_ON'].fillna(flight_df['WHEELS_ON'].mean(),inplace=True)"
   ]
  },
  {
   "cell_type": "code",
   "execution_count": 25,
   "metadata": {},
   "outputs": [],
   "source": [
    "flight_df['TAXI_IN'].fillna(flight_df['TAXI_IN'].mean(),inplace=True)"
   ]
  },
  {
   "cell_type": "code",
   "execution_count": 26,
   "metadata": {},
   "outputs": [],
   "source": [
    "flight_df['ARRIVAL_TIME'].fillna(flight_df['SCHEDULED_ARRIVAL'],inplace=True)"
   ]
  },
  {
   "cell_type": "code",
   "execution_count": 27,
   "metadata": {},
   "outputs": [],
   "source": [
    "flight_df['ARRIVAL_DELAY'].fillna(flight_df['ARRIVAL_DELAY'].mean(),inplace=True)"
   ]
  },
  {
   "cell_type": "code",
   "execution_count": 28,
   "metadata": {
    "scrolled": false
   },
   "outputs": [
    {
     "data": {
      "text/plain": [
       "YEAR                   0\n",
       "MONTH                  0\n",
       "DAY                    0\n",
       "DAY_OF_WEEK            0\n",
       "AIRLINE                0\n",
       "FLIGHT_NUMBER          0\n",
       "TAIL_NUMBER            0\n",
       "ORIGIN_AIRPORT         0\n",
       "DESTINATION_AIRPORT    0\n",
       "SCHEDULED_DEPARTURE    0\n",
       "DEPARTURE_TIME         0\n",
       "DEPARTURE_DELAY        0\n",
       "TAXI_OUT               0\n",
       "WHEELS_OFF             0\n",
       "SCHEDULED_TIME         6\n",
       "ELAPSED_TIME           0\n",
       "AIR_TIME               0\n",
       "DISTANCE               0\n",
       "WHEELS_ON              0\n",
       "TAXI_IN                0\n",
       "SCHEDULED_ARRIVAL      0\n",
       "ARRIVAL_TIME           0\n",
       "ARRIVAL_DELAY          0\n",
       "DIVERTED               0\n",
       "CANCELLED              0\n",
       "dtype: int64"
      ]
     },
     "execution_count": 28,
     "metadata": {},
     "output_type": "execute_result"
    }
   ],
   "source": [
    "flight_df.isnull().sum()"
   ]
  },
  {
   "cell_type": "code",
   "execution_count": 29,
   "metadata": {},
   "outputs": [],
   "source": [
    "flight_df['DATE'] = ''\n",
    "flight_df['DATE'] = pd.to_datetime(flight_df[['YEAR', 'MONTH', 'DAY']])"
   ]
  },
  {
   "cell_type": "code",
   "execution_count": 30,
   "metadata": {},
   "outputs": [
    {
     "data": {
      "text/html": [
       "<div>\n",
       "<style scoped>\n",
       "    .dataframe tbody tr th:only-of-type {\n",
       "        vertical-align: middle;\n",
       "    }\n",
       "\n",
       "    .dataframe tbody tr th {\n",
       "        vertical-align: top;\n",
       "    }\n",
       "\n",
       "    .dataframe thead th {\n",
       "        text-align: right;\n",
       "    }\n",
       "</style>\n",
       "<table border=\"1\" class=\"dataframe\">\n",
       "  <thead>\n",
       "    <tr style=\"text-align: right;\">\n",
       "      <th></th>\n",
       "      <th>YEAR</th>\n",
       "      <th>MONTH</th>\n",
       "      <th>DAY</th>\n",
       "      <th>DAY_OF_WEEK</th>\n",
       "      <th>AIRLINE</th>\n",
       "      <th>FLIGHT_NUMBER</th>\n",
       "      <th>TAIL_NUMBER</th>\n",
       "      <th>ORIGIN_AIRPORT</th>\n",
       "      <th>DESTINATION_AIRPORT</th>\n",
       "      <th>SCHEDULED_DEPARTURE</th>\n",
       "      <th>DEPARTURE_TIME</th>\n",
       "      <th>DEPARTURE_DELAY</th>\n",
       "      <th>TAXI_OUT</th>\n",
       "      <th>WHEELS_OFF</th>\n",
       "      <th>SCHEDULED_TIME</th>\n",
       "      <th>ELAPSED_TIME</th>\n",
       "      <th>AIR_TIME</th>\n",
       "      <th>DISTANCE</th>\n",
       "      <th>WHEELS_ON</th>\n",
       "      <th>TAXI_IN</th>\n",
       "      <th>SCHEDULED_ARRIVAL</th>\n",
       "      <th>ARRIVAL_TIME</th>\n",
       "      <th>ARRIVAL_DELAY</th>\n",
       "      <th>DIVERTED</th>\n",
       "      <th>CANCELLED</th>\n",
       "      <th>DATE</th>\n",
       "    </tr>\n",
       "  </thead>\n",
       "  <tbody>\n",
       "    <tr>\n",
       "      <th>0</th>\n",
       "      <td>2015</td>\n",
       "      <td>1</td>\n",
       "      <td>1</td>\n",
       "      <td>4</td>\n",
       "      <td>AS</td>\n",
       "      <td>98</td>\n",
       "      <td>N407AS</td>\n",
       "      <td>ANC</td>\n",
       "      <td>SEA</td>\n",
       "      <td>5</td>\n",
       "      <td>2354.0</td>\n",
       "      <td>-11.0</td>\n",
       "      <td>21.0</td>\n",
       "      <td>15.0</td>\n",
       "      <td>205.0</td>\n",
       "      <td>194.0</td>\n",
       "      <td>169.0</td>\n",
       "      <td>1448</td>\n",
       "      <td>404.0</td>\n",
       "      <td>4.0</td>\n",
       "      <td>430</td>\n",
       "      <td>408.0</td>\n",
       "      <td>-22.0</td>\n",
       "      <td>0</td>\n",
       "      <td>0</td>\n",
       "      <td>2015-01-01</td>\n",
       "    </tr>\n",
       "    <tr>\n",
       "      <th>1</th>\n",
       "      <td>2015</td>\n",
       "      <td>1</td>\n",
       "      <td>1</td>\n",
       "      <td>4</td>\n",
       "      <td>AA</td>\n",
       "      <td>2336</td>\n",
       "      <td>N3KUAA</td>\n",
       "      <td>LAX</td>\n",
       "      <td>PBI</td>\n",
       "      <td>10</td>\n",
       "      <td>2.0</td>\n",
       "      <td>-8.0</td>\n",
       "      <td>12.0</td>\n",
       "      <td>14.0</td>\n",
       "      <td>280.0</td>\n",
       "      <td>279.0</td>\n",
       "      <td>263.0</td>\n",
       "      <td>2330</td>\n",
       "      <td>737.0</td>\n",
       "      <td>4.0</td>\n",
       "      <td>750</td>\n",
       "      <td>741.0</td>\n",
       "      <td>-9.0</td>\n",
       "      <td>0</td>\n",
       "      <td>0</td>\n",
       "      <td>2015-01-01</td>\n",
       "    </tr>\n",
       "    <tr>\n",
       "      <th>2</th>\n",
       "      <td>2015</td>\n",
       "      <td>1</td>\n",
       "      <td>1</td>\n",
       "      <td>4</td>\n",
       "      <td>US</td>\n",
       "      <td>840</td>\n",
       "      <td>N171US</td>\n",
       "      <td>SFO</td>\n",
       "      <td>CLT</td>\n",
       "      <td>20</td>\n",
       "      <td>18.0</td>\n",
       "      <td>-2.0</td>\n",
       "      <td>16.0</td>\n",
       "      <td>34.0</td>\n",
       "      <td>286.0</td>\n",
       "      <td>293.0</td>\n",
       "      <td>266.0</td>\n",
       "      <td>2296</td>\n",
       "      <td>800.0</td>\n",
       "      <td>11.0</td>\n",
       "      <td>806</td>\n",
       "      <td>811.0</td>\n",
       "      <td>5.0</td>\n",
       "      <td>0</td>\n",
       "      <td>0</td>\n",
       "      <td>2015-01-01</td>\n",
       "    </tr>\n",
       "    <tr>\n",
       "      <th>3</th>\n",
       "      <td>2015</td>\n",
       "      <td>1</td>\n",
       "      <td>1</td>\n",
       "      <td>4</td>\n",
       "      <td>AA</td>\n",
       "      <td>258</td>\n",
       "      <td>N3HYAA</td>\n",
       "      <td>LAX</td>\n",
       "      <td>MIA</td>\n",
       "      <td>20</td>\n",
       "      <td>15.0</td>\n",
       "      <td>-5.0</td>\n",
       "      <td>15.0</td>\n",
       "      <td>30.0</td>\n",
       "      <td>285.0</td>\n",
       "      <td>281.0</td>\n",
       "      <td>258.0</td>\n",
       "      <td>2342</td>\n",
       "      <td>748.0</td>\n",
       "      <td>8.0</td>\n",
       "      <td>805</td>\n",
       "      <td>756.0</td>\n",
       "      <td>-9.0</td>\n",
       "      <td>0</td>\n",
       "      <td>0</td>\n",
       "      <td>2015-01-01</td>\n",
       "    </tr>\n",
       "    <tr>\n",
       "      <th>4</th>\n",
       "      <td>2015</td>\n",
       "      <td>1</td>\n",
       "      <td>1</td>\n",
       "      <td>4</td>\n",
       "      <td>AS</td>\n",
       "      <td>135</td>\n",
       "      <td>N527AS</td>\n",
       "      <td>SEA</td>\n",
       "      <td>ANC</td>\n",
       "      <td>25</td>\n",
       "      <td>24.0</td>\n",
       "      <td>-1.0</td>\n",
       "      <td>11.0</td>\n",
       "      <td>35.0</td>\n",
       "      <td>235.0</td>\n",
       "      <td>215.0</td>\n",
       "      <td>199.0</td>\n",
       "      <td>1448</td>\n",
       "      <td>254.0</td>\n",
       "      <td>5.0</td>\n",
       "      <td>320</td>\n",
       "      <td>259.0</td>\n",
       "      <td>-21.0</td>\n",
       "      <td>0</td>\n",
       "      <td>0</td>\n",
       "      <td>2015-01-01</td>\n",
       "    </tr>\n",
       "    <tr>\n",
       "      <th>...</th>\n",
       "      <td>...</td>\n",
       "      <td>...</td>\n",
       "      <td>...</td>\n",
       "      <td>...</td>\n",
       "      <td>...</td>\n",
       "      <td>...</td>\n",
       "      <td>...</td>\n",
       "      <td>...</td>\n",
       "      <td>...</td>\n",
       "      <td>...</td>\n",
       "      <td>...</td>\n",
       "      <td>...</td>\n",
       "      <td>...</td>\n",
       "      <td>...</td>\n",
       "      <td>...</td>\n",
       "      <td>...</td>\n",
       "      <td>...</td>\n",
       "      <td>...</td>\n",
       "      <td>...</td>\n",
       "      <td>...</td>\n",
       "      <td>...</td>\n",
       "      <td>...</td>\n",
       "      <td>...</td>\n",
       "      <td>...</td>\n",
       "      <td>...</td>\n",
       "      <td>...</td>\n",
       "    </tr>\n",
       "    <tr>\n",
       "      <th>5819074</th>\n",
       "      <td>2015</td>\n",
       "      <td>12</td>\n",
       "      <td>31</td>\n",
       "      <td>4</td>\n",
       "      <td>B6</td>\n",
       "      <td>688</td>\n",
       "      <td>N657JB</td>\n",
       "      <td>LAX</td>\n",
       "      <td>BOS</td>\n",
       "      <td>2359</td>\n",
       "      <td>2355.0</td>\n",
       "      <td>-4.0</td>\n",
       "      <td>22.0</td>\n",
       "      <td>17.0</td>\n",
       "      <td>320.0</td>\n",
       "      <td>298.0</td>\n",
       "      <td>272.0</td>\n",
       "      <td>2611</td>\n",
       "      <td>749.0</td>\n",
       "      <td>4.0</td>\n",
       "      <td>819</td>\n",
       "      <td>753.0</td>\n",
       "      <td>-26.0</td>\n",
       "      <td>0</td>\n",
       "      <td>0</td>\n",
       "      <td>2015-12-31</td>\n",
       "    </tr>\n",
       "    <tr>\n",
       "      <th>5819075</th>\n",
       "      <td>2015</td>\n",
       "      <td>12</td>\n",
       "      <td>31</td>\n",
       "      <td>4</td>\n",
       "      <td>B6</td>\n",
       "      <td>745</td>\n",
       "      <td>N828JB</td>\n",
       "      <td>JFK</td>\n",
       "      <td>PSE</td>\n",
       "      <td>2359</td>\n",
       "      <td>2355.0</td>\n",
       "      <td>-4.0</td>\n",
       "      <td>17.0</td>\n",
       "      <td>12.0</td>\n",
       "      <td>227.0</td>\n",
       "      <td>215.0</td>\n",
       "      <td>195.0</td>\n",
       "      <td>1617</td>\n",
       "      <td>427.0</td>\n",
       "      <td>3.0</td>\n",
       "      <td>446</td>\n",
       "      <td>430.0</td>\n",
       "      <td>-16.0</td>\n",
       "      <td>0</td>\n",
       "      <td>0</td>\n",
       "      <td>2015-12-31</td>\n",
       "    </tr>\n",
       "    <tr>\n",
       "      <th>5819076</th>\n",
       "      <td>2015</td>\n",
       "      <td>12</td>\n",
       "      <td>31</td>\n",
       "      <td>4</td>\n",
       "      <td>B6</td>\n",
       "      <td>1503</td>\n",
       "      <td>N913JB</td>\n",
       "      <td>JFK</td>\n",
       "      <td>SJU</td>\n",
       "      <td>2359</td>\n",
       "      <td>2350.0</td>\n",
       "      <td>-9.0</td>\n",
       "      <td>17.0</td>\n",
       "      <td>7.0</td>\n",
       "      <td>221.0</td>\n",
       "      <td>222.0</td>\n",
       "      <td>197.0</td>\n",
       "      <td>1598</td>\n",
       "      <td>424.0</td>\n",
       "      <td>8.0</td>\n",
       "      <td>440</td>\n",
       "      <td>432.0</td>\n",
       "      <td>-8.0</td>\n",
       "      <td>0</td>\n",
       "      <td>0</td>\n",
       "      <td>2015-12-31</td>\n",
       "    </tr>\n",
       "    <tr>\n",
       "      <th>5819077</th>\n",
       "      <td>2015</td>\n",
       "      <td>12</td>\n",
       "      <td>31</td>\n",
       "      <td>4</td>\n",
       "      <td>B6</td>\n",
       "      <td>333</td>\n",
       "      <td>N527JB</td>\n",
       "      <td>MCO</td>\n",
       "      <td>SJU</td>\n",
       "      <td>2359</td>\n",
       "      <td>2353.0</td>\n",
       "      <td>-6.0</td>\n",
       "      <td>10.0</td>\n",
       "      <td>3.0</td>\n",
       "      <td>161.0</td>\n",
       "      <td>157.0</td>\n",
       "      <td>144.0</td>\n",
       "      <td>1189</td>\n",
       "      <td>327.0</td>\n",
       "      <td>3.0</td>\n",
       "      <td>340</td>\n",
       "      <td>330.0</td>\n",
       "      <td>-10.0</td>\n",
       "      <td>0</td>\n",
       "      <td>0</td>\n",
       "      <td>2015-12-31</td>\n",
       "    </tr>\n",
       "    <tr>\n",
       "      <th>5819078</th>\n",
       "      <td>2015</td>\n",
       "      <td>12</td>\n",
       "      <td>31</td>\n",
       "      <td>4</td>\n",
       "      <td>B6</td>\n",
       "      <td>839</td>\n",
       "      <td>N534JB</td>\n",
       "      <td>JFK</td>\n",
       "      <td>BQN</td>\n",
       "      <td>2359</td>\n",
       "      <td>14.0</td>\n",
       "      <td>15.0</td>\n",
       "      <td>14.0</td>\n",
       "      <td>28.0</td>\n",
       "      <td>221.0</td>\n",
       "      <td>208.0</td>\n",
       "      <td>189.0</td>\n",
       "      <td>1576</td>\n",
       "      <td>437.0</td>\n",
       "      <td>5.0</td>\n",
       "      <td>440</td>\n",
       "      <td>442.0</td>\n",
       "      <td>2.0</td>\n",
       "      <td>0</td>\n",
       "      <td>0</td>\n",
       "      <td>2015-12-31</td>\n",
       "    </tr>\n",
       "  </tbody>\n",
       "</table>\n",
       "<p>5819079 rows × 26 columns</p>\n",
       "</div>"
      ],
      "text/plain": [
       "         YEAR  MONTH  DAY  DAY_OF_WEEK AIRLINE  FLIGHT_NUMBER TAIL_NUMBER ORIGIN_AIRPORT DESTINATION_AIRPORT  SCHEDULED_DEPARTURE  DEPARTURE_TIME  DEPARTURE_DELAY  TAXI_OUT  WHEELS_OFF  SCHEDULED_TIME  ELAPSED_TIME  AIR_TIME  DISTANCE  WHEELS_ON  TAXI_IN  SCHEDULED_ARRIVAL  ARRIVAL_TIME  ARRIVAL_DELAY  DIVERTED  CANCELLED       DATE\n",
       "0        2015      1    1            4      AS             98      N407AS            ANC                 SEA                    5          2354.0            -11.0      21.0        15.0           205.0         194.0     169.0      1448      404.0      4.0                430         408.0          -22.0         0          0 2015-01-01\n",
       "1        2015      1    1            4      AA           2336      N3KUAA            LAX                 PBI                   10             2.0             -8.0      12.0        14.0           280.0         279.0     263.0      2330      737.0      4.0                750         741.0           -9.0         0          0 2015-01-01\n",
       "2        2015      1    1            4      US            840      N171US            SFO                 CLT                   20            18.0             -2.0      16.0        34.0           286.0         293.0     266.0      2296      800.0     11.0                806         811.0            5.0         0          0 2015-01-01\n",
       "3        2015      1    1            4      AA            258      N3HYAA            LAX                 MIA                   20            15.0             -5.0      15.0        30.0           285.0         281.0     258.0      2342      748.0      8.0                805         756.0           -9.0         0          0 2015-01-01\n",
       "4        2015      1    1            4      AS            135      N527AS            SEA                 ANC                   25            24.0             -1.0      11.0        35.0           235.0         215.0     199.0      1448      254.0      5.0                320         259.0          -21.0         0          0 2015-01-01\n",
       "...       ...    ...  ...          ...     ...            ...         ...            ...                 ...                  ...             ...              ...       ...         ...             ...           ...       ...       ...        ...      ...                ...           ...            ...       ...        ...        ...\n",
       "5819074  2015     12   31            4      B6            688      N657JB            LAX                 BOS                 2359          2355.0             -4.0      22.0        17.0           320.0         298.0     272.0      2611      749.0      4.0                819         753.0          -26.0         0          0 2015-12-31\n",
       "5819075  2015     12   31            4      B6            745      N828JB            JFK                 PSE                 2359          2355.0             -4.0      17.0        12.0           227.0         215.0     195.0      1617      427.0      3.0                446         430.0          -16.0         0          0 2015-12-31\n",
       "5819076  2015     12   31            4      B6           1503      N913JB            JFK                 SJU                 2359          2350.0             -9.0      17.0         7.0           221.0         222.0     197.0      1598      424.0      8.0                440         432.0           -8.0         0          0 2015-12-31\n",
       "5819077  2015     12   31            4      B6            333      N527JB            MCO                 SJU                 2359          2353.0             -6.0      10.0         3.0           161.0         157.0     144.0      1189      327.0      3.0                340         330.0          -10.0         0          0 2015-12-31\n",
       "5819078  2015     12   31            4      B6            839      N534JB            JFK                 BQN                 2359            14.0             15.0      14.0        28.0           221.0         208.0     189.0      1576      437.0      5.0                440         442.0            2.0         0          0 2015-12-31\n",
       "\n",
       "[5819079 rows x 26 columns]"
      ]
     },
     "execution_count": 30,
     "metadata": {},
     "output_type": "execute_result"
    }
   ],
   "source": [
    "flight_df"
   ]
  },
  {
   "cell_type": "code",
   "execution_count": 31,
   "metadata": {},
   "outputs": [
    {
     "data": {
      "image/png": "[encoded data removed]",
      "text/plain": [
       "<Figure size 2880x2160 with 2 Axes>"
      ]
     },
     "metadata": {
      "needs_background": "light"
     },
     "output_type": "display_data"
    }
   ],
   "source": [
    "# ploting heat map to check correlation of numeric variables\n",
    "plt.figure(figsize = (40,30))   \n",
    "corr_matric= flight_df.corr()\n",
    "sns.heatmap(corr_matric,annot=True,fmt='.2g')\n",
    "plt.show()"
   ]
  },
  {
   "cell_type": "markdown",
   "metadata": {},
   "source": [
    " - Filter the dataset to eliminate columns that are'nt relevent for predictive modeling\n",
    " - Columns like:\n",
    "     - AIRLINE\n",
    "     - FLIGHT_NUMBER\n",
    "     - TAIL_NUMBER\n",
    "     - DEPARTURE_TIME\n",
    "     - DEPARTURE_DELAY\n",
    "     - TAXI_OUT\n",
    "     - WHEELS_OFF\n",
    "     - SCHEDULED_TIME\n",
    "     - ELAPSED_TIME\n",
    "     - AIR_TIME\n",
    "     - DISTANCE\n",
    "     - WHEELS_ON\n",
    "     - TAXI_IN\n",
    "     - SCHEDULED_ARRIVAL\n",
    "     - ARRIVAL_TIME\t\n",
    "     - DIVERTED\n",
    "     - CANCELLED"
   ]
  },
  {
   "cell_type": "code",
   "execution_count": 32,
   "metadata": {},
   "outputs": [
    {
     "name": "stdout",
     "output_type": "stream",
     "text": [
      "<class 'pandas.core.frame.DataFrame'>\n",
      "RangeIndex: 5819079 entries, 0 to 5819078\n",
      "Data columns (total 9 columns):\n",
      " #   Column               Dtype         \n",
      "---  ------               -----         \n",
      " 0   YEAR                 int64         \n",
      " 1   MONTH                int64         \n",
      " 2   DAY                  int64         \n",
      " 3   DAY_OF_WEEK          int64         \n",
      " 4   ORIGIN_AIRPORT       object        \n",
      " 5   DESTINATION_AIRPORT  object        \n",
      " 6   SCHEDULED_DEPARTURE  int64         \n",
      " 7   ARRIVAL_DELAY        float64       \n",
      " 8   DATE                 datetime64[ns]\n",
      "dtypes: datetime64[ns](1), float64(1), int64(5), object(2)\n",
      "memory usage: 399.6+ MB\n"
     ]
    }
   ],
   "source": [
    "flight_df = flight_df.drop([\"AIRLINE\",\"FLIGHT_NUMBER\",\"TAIL_NUMBER\",\"DEPARTURE_TIME\",\"DEPARTURE_DELAY\",\"TAXI_OUT\", \n",
    "                            \"WHEELS_OFF\",\"SCHEDULED_TIME\",\"ELAPSED_TIME\",\"AIR_TIME\",\"DISTANCE\",\"WHEELS_ON\",\"TAXI_IN\", \n",
    "                            \"SCHEDULED_ARRIVAL\",\"ARRIVAL_TIME\",\"DIVERTED\",\"AIR_TIME\",\"CANCELLED\"], axis = 1)\n",
    "\n",
    "flight_df.info()"
   ]
  },
  {
   "cell_type": "code",
   "execution_count": 33,
   "metadata": {},
   "outputs": [
    {
     "data": {
      "text/html": [
       "<div>\n",
       "<style scoped>\n",
       "    .dataframe tbody tr th:only-of-type {\n",
       "        vertical-align: middle;\n",
       "    }\n",
       "\n",
       "    .dataframe tbody tr th {\n",
       "        vertical-align: top;\n",
       "    }\n",
       "\n",
       "    .dataframe thead th {\n",
       "        text-align: right;\n",
       "    }\n",
       "</style>\n",
       "<table border=\"1\" class=\"dataframe\">\n",
       "  <thead>\n",
       "    <tr style=\"text-align: right;\">\n",
       "      <th></th>\n",
       "      <th>YEAR</th>\n",
       "      <th>MONTH</th>\n",
       "      <th>DAY</th>\n",
       "      <th>DAY_OF_WEEK</th>\n",
       "      <th>ORIGIN_AIRPORT</th>\n",
       "      <th>DESTINATION_AIRPORT</th>\n",
       "      <th>SCHEDULED_DEPARTURE</th>\n",
       "      <th>ARRIVAL_DELAY</th>\n",
       "      <th>DATE</th>\n",
       "    </tr>\n",
       "  </thead>\n",
       "  <tbody>\n",
       "    <tr>\n",
       "      <th>0</th>\n",
       "      <td>2015</td>\n",
       "      <td>1</td>\n",
       "      <td>1</td>\n",
       "      <td>4</td>\n",
       "      <td>ANC</td>\n",
       "      <td>SEA</td>\n",
       "      <td>5</td>\n",
       "      <td>-22.0</td>\n",
       "      <td>2015-01-01</td>\n",
       "    </tr>\n",
       "    <tr>\n",
       "      <th>1</th>\n",
       "      <td>2015</td>\n",
       "      <td>1</td>\n",
       "      <td>1</td>\n",
       "      <td>4</td>\n",
       "      <td>LAX</td>\n",
       "      <td>PBI</td>\n",
       "      <td>10</td>\n",
       "      <td>-9.0</td>\n",
       "      <td>2015-01-01</td>\n",
       "    </tr>\n",
       "    <tr>\n",
       "      <th>2</th>\n",
       "      <td>2015</td>\n",
       "      <td>1</td>\n",
       "      <td>1</td>\n",
       "      <td>4</td>\n",
       "      <td>SFO</td>\n",
       "      <td>CLT</td>\n",
       "      <td>20</td>\n",
       "      <td>5.0</td>\n",
       "      <td>2015-01-01</td>\n",
       "    </tr>\n",
       "    <tr>\n",
       "      <th>3</th>\n",
       "      <td>2015</td>\n",
       "      <td>1</td>\n",
       "      <td>1</td>\n",
       "      <td>4</td>\n",
       "      <td>LAX</td>\n",
       "      <td>MIA</td>\n",
       "      <td>20</td>\n",
       "      <td>-9.0</td>\n",
       "      <td>2015-01-01</td>\n",
       "    </tr>\n",
       "    <tr>\n",
       "      <th>4</th>\n",
       "      <td>2015</td>\n",
       "      <td>1</td>\n",
       "      <td>1</td>\n",
       "      <td>4</td>\n",
       "      <td>SEA</td>\n",
       "      <td>ANC</td>\n",
       "      <td>25</td>\n",
       "      <td>-21.0</td>\n",
       "      <td>2015-01-01</td>\n",
       "    </tr>\n",
       "  </tbody>\n",
       "</table>\n",
       "</div>"
      ],
      "text/plain": [
       "   YEAR  MONTH  DAY  DAY_OF_WEEK ORIGIN_AIRPORT DESTINATION_AIRPORT  SCHEDULED_DEPARTURE  ARRIVAL_DELAY       DATE\n",
       "0  2015      1    1            4            ANC                 SEA                    5          -22.0 2015-01-01\n",
       "1  2015      1    1            4            LAX                 PBI                   10           -9.0 2015-01-01\n",
       "2  2015      1    1            4            SFO                 CLT                   20            5.0 2015-01-01\n",
       "3  2015      1    1            4            LAX                 MIA                   20           -9.0 2015-01-01\n",
       "4  2015      1    1            4            SEA                 ANC                   25          -21.0 2015-01-01"
      ]
     },
     "execution_count": 33,
     "metadata": {},
     "output_type": "execute_result"
    }
   ],
   "source": [
    "flight_df.head()"
   ]
  },
  {
   "cell_type": "code",
   "execution_count": 34,
   "metadata": {},
   "outputs": [
    {
     "data": {
      "text/html": [
       "<div>\n",
       "<style scoped>\n",
       "    .dataframe tbody tr th:only-of-type {\n",
       "        vertical-align: middle;\n",
       "    }\n",
       "\n",
       "    .dataframe tbody tr th {\n",
       "        vertical-align: top;\n",
       "    }\n",
       "\n",
       "    .dataframe thead th {\n",
       "        text-align: right;\n",
       "    }\n",
       "</style>\n",
       "<table border=\"1\" class=\"dataframe\">\n",
       "  <thead>\n",
       "    <tr style=\"text-align: right;\">\n",
       "      <th></th>\n",
       "      <th>YEAR</th>\n",
       "      <th>MONTH</th>\n",
       "      <th>DAY</th>\n",
       "      <th>DAY_OF_WEEK</th>\n",
       "      <th>ORIGIN_AIRPORT</th>\n",
       "      <th>DESTINATION_AIRPORT</th>\n",
       "      <th>SCHEDULED_DEPARTURE</th>\n",
       "      <th>ARRIVAL_DELAY</th>\n",
       "      <th>DATE</th>\n",
       "      <th>RESULT</th>\n",
       "    </tr>\n",
       "  </thead>\n",
       "  <tbody>\n",
       "    <tr>\n",
       "      <th>0</th>\n",
       "      <td>2015</td>\n",
       "      <td>1</td>\n",
       "      <td>1</td>\n",
       "      <td>4</td>\n",
       "      <td>ANC</td>\n",
       "      <td>SEA</td>\n",
       "      <td>5</td>\n",
       "      <td>-22.0</td>\n",
       "      <td>2015-01-01</td>\n",
       "      <td>0</td>\n",
       "    </tr>\n",
       "    <tr>\n",
       "      <th>1</th>\n",
       "      <td>2015</td>\n",
       "      <td>1</td>\n",
       "      <td>1</td>\n",
       "      <td>4</td>\n",
       "      <td>LAX</td>\n",
       "      <td>PBI</td>\n",
       "      <td>10</td>\n",
       "      <td>-9.0</td>\n",
       "      <td>2015-01-01</td>\n",
       "      <td>0</td>\n",
       "    </tr>\n",
       "    <tr>\n",
       "      <th>2</th>\n",
       "      <td>2015</td>\n",
       "      <td>1</td>\n",
       "      <td>1</td>\n",
       "      <td>4</td>\n",
       "      <td>SFO</td>\n",
       "      <td>CLT</td>\n",
       "      <td>20</td>\n",
       "      <td>5.0</td>\n",
       "      <td>2015-01-01</td>\n",
       "      <td>0</td>\n",
       "    </tr>\n",
       "    <tr>\n",
       "      <th>3</th>\n",
       "      <td>2015</td>\n",
       "      <td>1</td>\n",
       "      <td>1</td>\n",
       "      <td>4</td>\n",
       "      <td>LAX</td>\n",
       "      <td>MIA</td>\n",
       "      <td>20</td>\n",
       "      <td>-9.0</td>\n",
       "      <td>2015-01-01</td>\n",
       "      <td>0</td>\n",
       "    </tr>\n",
       "    <tr>\n",
       "      <th>4</th>\n",
       "      <td>2015</td>\n",
       "      <td>1</td>\n",
       "      <td>1</td>\n",
       "      <td>4</td>\n",
       "      <td>SEA</td>\n",
       "      <td>ANC</td>\n",
       "      <td>25</td>\n",
       "      <td>-21.0</td>\n",
       "      <td>2015-01-01</td>\n",
       "      <td>0</td>\n",
       "    </tr>\n",
       "  </tbody>\n",
       "</table>\n",
       "</div>"
      ],
      "text/plain": [
       "   YEAR  MONTH  DAY  DAY_OF_WEEK ORIGIN_AIRPORT DESTINATION_AIRPORT  SCHEDULED_DEPARTURE  ARRIVAL_DELAY       DATE  RESULT\n",
       "0  2015      1    1            4            ANC                 SEA                    5          -22.0 2015-01-01       0\n",
       "1  2015      1    1            4            LAX                 PBI                   10           -9.0 2015-01-01       0\n",
       "2  2015      1    1            4            SFO                 CLT                   20            5.0 2015-01-01       0\n",
       "3  2015      1    1            4            LAX                 MIA                   20           -9.0 2015-01-01       0\n",
       "4  2015      1    1            4            SEA                 ANC                   25          -21.0 2015-01-01       0"
      ]
     },
     "execution_count": 34,
     "metadata": {},
     "output_type": "execute_result"
    }
   ],
   "source": [
    "#FEATURE GENERATION FROM ARRIVAL_DELAY, USING IF ELSE STATEMENT:\n",
    "flight_df['RESULT']=flight_df['ARRIVAL_DELAY'].apply(lambda x: 1 if x>15 else 0)\n",
    "flight_df.head()"
   ]
  },
  {
   "cell_type": "code",
   "execution_count": 35,
   "metadata": {},
   "outputs": [
    {
     "data": {
      "text/plain": [
       "0    4795581\n",
       "1    1023498\n",
       "Name: RESULT, dtype: int64"
      ]
     },
     "execution_count": 35,
     "metadata": {},
     "output_type": "execute_result"
    }
   ],
   "source": [
    "flight_df.RESULT.value_counts()"
   ]
  },
  {
   "cell_type": "code",
   "execution_count": 36,
   "metadata": {},
   "outputs": [
    {
     "data": {
      "text/plain": [
       "600    109943\n",
       "700     82910\n",
       "800     51875\n",
       "630     39473\n",
       "900     39419\n",
       "        ...  \n",
       "345         1\n",
       "344         1\n",
       "337         1\n",
       "303         1\n",
       "358         1\n",
       "Name: SCHEDULED_DEPARTURE, Length: 1321, dtype: int64"
      ]
     },
     "execution_count": 36,
     "metadata": {},
     "output_type": "execute_result"
    }
   ],
   "source": [
    "flight_df.SCHEDULED_DEPARTURE.value_counts()"
   ]
  },
  {
   "cell_type": "markdown",
   "metadata": {},
   "source": [
    "# Checking for waether dataset"
   ]
  },
  {
   "cell_type": "code",
   "execution_count": 37,
   "metadata": {},
   "outputs": [
    {
     "data": {
      "text/html": [
       "<div>\n",
       "<style scoped>\n",
       "    .dataframe tbody tr th:only-of-type {\n",
       "        vertical-align: middle;\n",
       "    }\n",
       "\n",
       "    .dataframe tbody tr th {\n",
       "        vertical-align: top;\n",
       "    }\n",
       "\n",
       "    .dataframe thead th {\n",
       "        text-align: right;\n",
       "    }\n",
       "</style>\n",
       "<table border=\"1\" class=\"dataframe\">\n",
       "  <thead>\n",
       "    <tr style=\"text-align: right;\">\n",
       "      <th></th>\n",
       "      <th>STATION</th>\n",
       "      <th>NAME</th>\n",
       "      <th>DATE</th>\n",
       "      <th>AWND</th>\n",
       "      <th>PGTM</th>\n",
       "      <th>PRCP</th>\n",
       "      <th>SNOW</th>\n",
       "      <th>SNWD</th>\n",
       "      <th>TAVG</th>\n",
       "      <th>TMAX</th>\n",
       "      <th>TMIN</th>\n",
       "      <th>WDF2</th>\n",
       "      <th>WDF5</th>\n",
       "      <th>WSF2</th>\n",
       "      <th>WSF5</th>\n",
       "      <th>WT01</th>\n",
       "      <th>WT02</th>\n",
       "      <th>WT03</th>\n",
       "      <th>WT04</th>\n",
       "      <th>WT05</th>\n",
       "      <th>WT06</th>\n",
       "      <th>WT08</th>\n",
       "      <th>WT09</th>\n",
       "    </tr>\n",
       "  </thead>\n",
       "  <tbody>\n",
       "    <tr>\n",
       "      <th>0</th>\n",
       "      <td>USW00014922</td>\n",
       "      <td>MINNEAPOLIS ST. PAUL INTERNATIONAL AIRPORT, MN US</td>\n",
       "      <td>2015-01-01</td>\n",
       "      <td>10.51</td>\n",
       "      <td>NaN</td>\n",
       "      <td>0.00</td>\n",
       "      <td>0.0</td>\n",
       "      <td>3.1</td>\n",
       "      <td>18</td>\n",
       "      <td>30</td>\n",
       "      <td>11</td>\n",
       "      <td>330</td>\n",
       "      <td>330.0</td>\n",
       "      <td>19.9</td>\n",
       "      <td>25.9</td>\n",
       "      <td>NaN</td>\n",
       "      <td>NaN</td>\n",
       "      <td>NaN</td>\n",
       "      <td>NaN</td>\n",
       "      <td>NaN</td>\n",
       "      <td>NaN</td>\n",
       "      <td>NaN</td>\n",
       "      <td>NaN</td>\n",
       "    </tr>\n",
       "    <tr>\n",
       "      <th>1</th>\n",
       "      <td>USW00014922</td>\n",
       "      <td>MINNEAPOLIS ST. PAUL INTERNATIONAL AIRPORT, MN US</td>\n",
       "      <td>2015-01-02</td>\n",
       "      <td>6.93</td>\n",
       "      <td>NaN</td>\n",
       "      <td>0.00</td>\n",
       "      <td>0.0</td>\n",
       "      <td>3.1</td>\n",
       "      <td>17</td>\n",
       "      <td>28</td>\n",
       "      <td>6</td>\n",
       "      <td>160</td>\n",
       "      <td>160.0</td>\n",
       "      <td>16.1</td>\n",
       "      <td>19.0</td>\n",
       "      <td>NaN</td>\n",
       "      <td>NaN</td>\n",
       "      <td>NaN</td>\n",
       "      <td>NaN</td>\n",
       "      <td>NaN</td>\n",
       "      <td>NaN</td>\n",
       "      <td>NaN</td>\n",
       "      <td>NaN</td>\n",
       "    </tr>\n",
       "    <tr>\n",
       "      <th>2</th>\n",
       "      <td>USW00014922</td>\n",
       "      <td>MINNEAPOLIS ST. PAUL INTERNATIONAL AIRPORT, MN US</td>\n",
       "      <td>2015-01-03</td>\n",
       "      <td>12.53</td>\n",
       "      <td>NaN</td>\n",
       "      <td>0.00</td>\n",
       "      <td>0.1</td>\n",
       "      <td>3.1</td>\n",
       "      <td>26</td>\n",
       "      <td>33</td>\n",
       "      <td>12</td>\n",
       "      <td>350</td>\n",
       "      <td>340.0</td>\n",
       "      <td>29.1</td>\n",
       "      <td>35.1</td>\n",
       "      <td>1.0</td>\n",
       "      <td>NaN</td>\n",
       "      <td>NaN</td>\n",
       "      <td>NaN</td>\n",
       "      <td>NaN</td>\n",
       "      <td>NaN</td>\n",
       "      <td>1.0</td>\n",
       "      <td>1.0</td>\n",
       "    </tr>\n",
       "    <tr>\n",
       "      <th>3</th>\n",
       "      <td>USW00014922</td>\n",
       "      <td>MINNEAPOLIS ST. PAUL INTERNATIONAL AIRPORT, MN US</td>\n",
       "      <td>2015-01-04</td>\n",
       "      <td>16.11</td>\n",
       "      <td>NaN</td>\n",
       "      <td>0.00</td>\n",
       "      <td>0.0</td>\n",
       "      <td>3.1</td>\n",
       "      <td>5</td>\n",
       "      <td>12</td>\n",
       "      <td>-7</td>\n",
       "      <td>340</td>\n",
       "      <td>340.0</td>\n",
       "      <td>25.9</td>\n",
       "      <td>34.0</td>\n",
       "      <td>NaN</td>\n",
       "      <td>NaN</td>\n",
       "      <td>NaN</td>\n",
       "      <td>NaN</td>\n",
       "      <td>NaN</td>\n",
       "      <td>NaN</td>\n",
       "      <td>NaN</td>\n",
       "      <td>NaN</td>\n",
       "    </tr>\n",
       "    <tr>\n",
       "      <th>4</th>\n",
       "      <td>USW00014922</td>\n",
       "      <td>MINNEAPOLIS ST. PAUL INTERNATIONAL AIRPORT, MN US</td>\n",
       "      <td>2015-01-05</td>\n",
       "      <td>7.16</td>\n",
       "      <td>NaN</td>\n",
       "      <td>0.06</td>\n",
       "      <td>0.5</td>\n",
       "      <td>3.1</td>\n",
       "      <td>-7</td>\n",
       "      <td>1</td>\n",
       "      <td>-11</td>\n",
       "      <td>240</td>\n",
       "      <td>280.0</td>\n",
       "      <td>15.0</td>\n",
       "      <td>19.0</td>\n",
       "      <td>1.0</td>\n",
       "      <td>NaN</td>\n",
       "      <td>NaN</td>\n",
       "      <td>NaN</td>\n",
       "      <td>NaN</td>\n",
       "      <td>NaN</td>\n",
       "      <td>1.0</td>\n",
       "      <td>NaN</td>\n",
       "    </tr>\n",
       "  </tbody>\n",
       "</table>\n",
       "</div>"
      ],
      "text/plain": [
       "       STATION                                               NAME        DATE   AWND  PGTM  PRCP  SNOW  SNWD  TAVG  TMAX  TMIN  WDF2   WDF5  WSF2  WSF5  WT01  WT02  WT03  WT04  WT05  WT06  WT08  WT09\n",
       "0  USW00014922  MINNEAPOLIS ST. PAUL INTERNATIONAL AIRPORT, MN US  2015-01-01  10.51   NaN  0.00   0.0   3.1    18    30    11   330  330.0  19.9  25.9   NaN   NaN   NaN   NaN   NaN   NaN   NaN   NaN\n",
       "1  USW00014922  MINNEAPOLIS ST. PAUL INTERNATIONAL AIRPORT, MN US  2015-01-02   6.93   NaN  0.00   0.0   3.1    17    28     6   160  160.0  16.1  19.0   NaN   NaN   NaN   NaN   NaN   NaN   NaN   NaN\n",
       "2  USW00014922  MINNEAPOLIS ST. PAUL INTERNATIONAL AIRPORT, MN US  2015-01-03  12.53   NaN  0.00   0.1   3.1    26    33    12   350  340.0  29.1  35.1   1.0   NaN   NaN   NaN   NaN   NaN   1.0   1.0\n",
       "3  USW00014922  MINNEAPOLIS ST. PAUL INTERNATIONAL AIRPORT, MN US  2015-01-04  16.11   NaN  0.00   0.0   3.1     5    12    -7   340  340.0  25.9  34.0   NaN   NaN   NaN   NaN   NaN   NaN   NaN   NaN\n",
       "4  USW00014922  MINNEAPOLIS ST. PAUL INTERNATIONAL AIRPORT, MN US  2015-01-05   7.16   NaN  0.06   0.5   3.1    -7     1   -11   240  280.0  15.0  19.0   1.0   NaN   NaN   NaN   NaN   NaN   1.0   NaN"
      ]
     },
     "execution_count": 37,
     "metadata": {},
     "output_type": "execute_result"
    }
   ],
   "source": [
    "w_df = pd.read_csv(\"weather2.csv\")\n",
    "w_df.head()"
   ]
  },
  {
   "cell_type": "code",
   "execution_count": 38,
   "metadata": {},
   "outputs": [
    {
     "name": "stdout",
     "output_type": "stream",
     "text": [
      "<class 'pandas.core.frame.DataFrame'>\n",
      "RangeIndex: 730 entries, 0 to 729\n",
      "Data columns (total 23 columns):\n",
      " #   Column   Non-Null Count  Dtype  \n",
      "---  ------   --------------  -----  \n",
      " 0   STATION  730 non-null    object \n",
      " 1   NAME     730 non-null    object \n",
      " 2   DATE     730 non-null    object \n",
      " 3   AWND     730 non-null    float64\n",
      " 4   PGTM     0 non-null      float64\n",
      " 5   PRCP     730 non-null    float64\n",
      " 6   SNOW     365 non-null    float64\n",
      " 7   SNWD     365 non-null    float64\n",
      " 8   TAVG     730 non-null    int64  \n",
      " 9   TMAX     730 non-null    int64  \n",
      " 10  TMIN     730 non-null    int64  \n",
      " 11  WDF2     730 non-null    int64  \n",
      " 12  WDF5     725 non-null    float64\n",
      " 13  WSF2     730 non-null    float64\n",
      " 14  WSF5     725 non-null    float64\n",
      " 15  WT01     240 non-null    float64\n",
      " 16  WT02     8 non-null      float64\n",
      " 17  WT03     50 non-null     float64\n",
      " 18  WT04     4 non-null      float64\n",
      " 19  WT05     0 non-null      float64\n",
      " 20  WT06     4 non-null      float64\n",
      " 21  WT08     143 non-null    float64\n",
      " 22  WT09     5 non-null      float64\n",
      "dtypes: float64(16), int64(4), object(3)\n",
      "memory usage: 131.3+ KB\n"
     ]
    }
   ],
   "source": [
    "w_df.info()"
   ]
  },
  {
   "cell_type": "code",
   "execution_count": 39,
   "metadata": {},
   "outputs": [],
   "source": [
    "# fuction to find missing value percetnage\n",
    "def findmissingval():\n",
    "    df_missing=pd.DataFrame((w_df.isnull().sum()  / w_df.shape[0] *100).round(3),columns=['Percentage'])\n",
    "    return df_missing    "
   ]
  },
  {
   "cell_type": "code",
   "execution_count": 40,
   "metadata": {},
   "outputs": [
    {
     "data": {
      "text/html": [
       "<div>\n",
       "<style scoped>\n",
       "    .dataframe tbody tr th:only-of-type {\n",
       "        vertical-align: middle;\n",
       "    }\n",
       "\n",
       "    .dataframe tbody tr th {\n",
       "        vertical-align: top;\n",
       "    }\n",
       "\n",
       "    .dataframe thead th {\n",
       "        text-align: right;\n",
       "    }\n",
       "</style>\n",
       "<table border=\"1\" class=\"dataframe\">\n",
       "  <thead>\n",
       "    <tr style=\"text-align: right;\">\n",
       "      <th></th>\n",
       "      <th>Percentage</th>\n",
       "    </tr>\n",
       "  </thead>\n",
       "  <tbody>\n",
       "    <tr>\n",
       "      <th>PGTM</th>\n",
       "      <td>100.000</td>\n",
       "    </tr>\n",
       "    <tr>\n",
       "      <th>WT05</th>\n",
       "      <td>100.000</td>\n",
       "    </tr>\n",
       "    <tr>\n",
       "      <th>WT06</th>\n",
       "      <td>99.452</td>\n",
       "    </tr>\n",
       "    <tr>\n",
       "      <th>WT04</th>\n",
       "      <td>99.452</td>\n",
       "    </tr>\n",
       "    <tr>\n",
       "      <th>WT09</th>\n",
       "      <td>99.315</td>\n",
       "    </tr>\n",
       "    <tr>\n",
       "      <th>WT02</th>\n",
       "      <td>98.904</td>\n",
       "    </tr>\n",
       "    <tr>\n",
       "      <th>WT03</th>\n",
       "      <td>93.151</td>\n",
       "    </tr>\n",
       "    <tr>\n",
       "      <th>WT08</th>\n",
       "      <td>80.411</td>\n",
       "    </tr>\n",
       "    <tr>\n",
       "      <th>WT01</th>\n",
       "      <td>67.123</td>\n",
       "    </tr>\n",
       "    <tr>\n",
       "      <th>SNOW</th>\n",
       "      <td>50.000</td>\n",
       "    </tr>\n",
       "    <tr>\n",
       "      <th>SNWD</th>\n",
       "      <td>50.000</td>\n",
       "    </tr>\n",
       "    <tr>\n",
       "      <th>WSF5</th>\n",
       "      <td>0.685</td>\n",
       "    </tr>\n",
       "    <tr>\n",
       "      <th>WDF5</th>\n",
       "      <td>0.685</td>\n",
       "    </tr>\n",
       "    <tr>\n",
       "      <th>STATION</th>\n",
       "      <td>0.000</td>\n",
       "    </tr>\n",
       "    <tr>\n",
       "      <th>WSF2</th>\n",
       "      <td>0.000</td>\n",
       "    </tr>\n",
       "    <tr>\n",
       "      <th>NAME</th>\n",
       "      <td>0.000</td>\n",
       "    </tr>\n",
       "    <tr>\n",
       "      <th>TMIN</th>\n",
       "      <td>0.000</td>\n",
       "    </tr>\n",
       "    <tr>\n",
       "      <th>TMAX</th>\n",
       "      <td>0.000</td>\n",
       "    </tr>\n",
       "    <tr>\n",
       "      <th>TAVG</th>\n",
       "      <td>0.000</td>\n",
       "    </tr>\n",
       "    <tr>\n",
       "      <th>PRCP</th>\n",
       "      <td>0.000</td>\n",
       "    </tr>\n",
       "    <tr>\n",
       "      <th>AWND</th>\n",
       "      <td>0.000</td>\n",
       "    </tr>\n",
       "    <tr>\n",
       "      <th>DATE</th>\n",
       "      <td>0.000</td>\n",
       "    </tr>\n",
       "    <tr>\n",
       "      <th>WDF2</th>\n",
       "      <td>0.000</td>\n",
       "    </tr>\n",
       "  </tbody>\n",
       "</table>\n",
       "</div>"
      ],
      "text/plain": [
       "         Percentage\n",
       "PGTM        100.000\n",
       "WT05        100.000\n",
       "WT06         99.452\n",
       "WT04         99.452\n",
       "WT09         99.315\n",
       "WT02         98.904\n",
       "WT03         93.151\n",
       "WT08         80.411\n",
       "WT01         67.123\n",
       "SNOW         50.000\n",
       "SNWD         50.000\n",
       "WSF5          0.685\n",
       "WDF5          0.685\n",
       "STATION       0.000\n",
       "WSF2          0.000\n",
       "NAME          0.000\n",
       "TMIN          0.000\n",
       "TMAX          0.000\n",
       "TAVG          0.000\n",
       "PRCP          0.000\n",
       "AWND          0.000\n",
       "DATE          0.000\n",
       "WDF2          0.000"
      ]
     },
     "execution_count": 40,
     "metadata": {},
     "output_type": "execute_result"
    }
   ],
   "source": [
    "# find out the percentage of missing value in each column\n",
    "df_missing=findmissingval()\n",
    "df_missing.sort_values(by='Percentage',ascending=False)"
   ]
  },
  {
   "cell_type": "code",
   "execution_count": 41,
   "metadata": {},
   "outputs": [
    {
     "data": {
      "text/plain": [
       "Index(['PGTM', 'SNOW', 'SNWD', 'WT01', 'WT02', 'WT03', 'WT04', 'WT05', 'WT06', 'WT08', 'WT09'], dtype='object')"
      ]
     },
     "execution_count": 41,
     "metadata": {},
     "output_type": "execute_result"
    }
   ],
   "source": [
    "# select columns having more than 40% missing values.\n",
    "columnstodrop=df_missing[df_missing['Percentage'] > 40]\n",
    "columnstodrop.index"
   ]
  },
  {
   "cell_type": "code",
   "execution_count": 42,
   "metadata": {},
   "outputs": [],
   "source": [
    "# drop the columns which having more than 40% missing values\n",
    "w_df=w_df.drop(columnstodrop.index,axis=1)"
   ]
  },
  {
   "cell_type": "code",
   "execution_count": 43,
   "metadata": {},
   "outputs": [
    {
     "data": {
      "text/html": [
       "<div>\n",
       "<style scoped>\n",
       "    .dataframe tbody tr th:only-of-type {\n",
       "        vertical-align: middle;\n",
       "    }\n",
       "\n",
       "    .dataframe tbody tr th {\n",
       "        vertical-align: top;\n",
       "    }\n",
       "\n",
       "    .dataframe thead th {\n",
       "        text-align: right;\n",
       "    }\n",
       "</style>\n",
       "<table border=\"1\" class=\"dataframe\">\n",
       "  <thead>\n",
       "    <tr style=\"text-align: right;\">\n",
       "      <th></th>\n",
       "      <th>Percentage</th>\n",
       "    </tr>\n",
       "  </thead>\n",
       "  <tbody>\n",
       "    <tr>\n",
       "      <th>WDF5</th>\n",
       "      <td>0.685</td>\n",
       "    </tr>\n",
       "    <tr>\n",
       "      <th>WSF5</th>\n",
       "      <td>0.685</td>\n",
       "    </tr>\n",
       "    <tr>\n",
       "      <th>STATION</th>\n",
       "      <td>0.000</td>\n",
       "    </tr>\n",
       "    <tr>\n",
       "      <th>NAME</th>\n",
       "      <td>0.000</td>\n",
       "    </tr>\n",
       "    <tr>\n",
       "      <th>DATE</th>\n",
       "      <td>0.000</td>\n",
       "    </tr>\n",
       "    <tr>\n",
       "      <th>AWND</th>\n",
       "      <td>0.000</td>\n",
       "    </tr>\n",
       "    <tr>\n",
       "      <th>PRCP</th>\n",
       "      <td>0.000</td>\n",
       "    </tr>\n",
       "    <tr>\n",
       "      <th>TAVG</th>\n",
       "      <td>0.000</td>\n",
       "    </tr>\n",
       "    <tr>\n",
       "      <th>TMAX</th>\n",
       "      <td>0.000</td>\n",
       "    </tr>\n",
       "    <tr>\n",
       "      <th>TMIN</th>\n",
       "      <td>0.000</td>\n",
       "    </tr>\n",
       "    <tr>\n",
       "      <th>WDF2</th>\n",
       "      <td>0.000</td>\n",
       "    </tr>\n",
       "    <tr>\n",
       "      <th>WSF2</th>\n",
       "      <td>0.000</td>\n",
       "    </tr>\n",
       "  </tbody>\n",
       "</table>\n",
       "</div>"
      ],
      "text/plain": [
       "         Percentage\n",
       "WDF5          0.685\n",
       "WSF5          0.685\n",
       "STATION       0.000\n",
       "NAME          0.000\n",
       "DATE          0.000\n",
       "AWND          0.000\n",
       "PRCP          0.000\n",
       "TAVG          0.000\n",
       "TMAX          0.000\n",
       "TMIN          0.000\n",
       "WDF2          0.000\n",
       "WSF2          0.000"
      ]
     },
     "execution_count": 43,
     "metadata": {},
     "output_type": "execute_result"
    }
   ],
   "source": [
    "# check the missing value percentage \n",
    "df_missing=pd.DataFrame((w_df.isnull().sum()  / w_df.shape[0] *100).round(3),columns=['Percentage'])\n",
    "df_missing.sort_values(by='Percentage',ascending=False)"
   ]
  },
  {
   "cell_type": "code",
   "execution_count": 44,
   "metadata": {},
   "outputs": [
    {
     "name": "stdout",
     "output_type": "stream",
     "text": [
      "<class 'pandas.core.frame.DataFrame'>\n",
      "RangeIndex: 730 entries, 0 to 729\n",
      "Data columns (total 12 columns):\n",
      " #   Column   Non-Null Count  Dtype  \n",
      "---  ------   --------------  -----  \n",
      " 0   STATION  730 non-null    object \n",
      " 1   NAME     730 non-null    object \n",
      " 2   DATE     730 non-null    object \n",
      " 3   AWND     730 non-null    float64\n",
      " 4   PRCP     730 non-null    float64\n",
      " 5   TAVG     730 non-null    int64  \n",
      " 6   TMAX     730 non-null    int64  \n",
      " 7   TMIN     730 non-null    int64  \n",
      " 8   WDF2     730 non-null    int64  \n",
      " 9   WDF5     725 non-null    float64\n",
      " 10  WSF2     730 non-null    float64\n",
      " 11  WSF5     725 non-null    float64\n",
      "dtypes: float64(5), int64(4), object(3)\n",
      "memory usage: 68.6+ KB\n"
     ]
    }
   ],
   "source": [
    "w_df.info()"
   ]
  },
  {
   "cell_type": "code",
   "execution_count": 45,
   "metadata": {},
   "outputs": [
    {
     "data": {
      "text/plain": [
       "STATION    0\n",
       "NAME       0\n",
       "DATE       0\n",
       "AWND       0\n",
       "PRCP       0\n",
       "TAVG       0\n",
       "TMAX       0\n",
       "TMIN       0\n",
       "WDF2       0\n",
       "WDF5       5\n",
       "WSF2       0\n",
       "WSF5       5\n",
       "dtype: int64"
      ]
     },
     "execution_count": 45,
     "metadata": {},
     "output_type": "execute_result"
    }
   ],
   "source": [
    "w_df.isnull().sum()"
   ]
  },
  {
   "cell_type": "code",
   "execution_count": 46,
   "metadata": {},
   "outputs": [],
   "source": [
    "w_df['WSF5'].fillna(w_df['WSF5'].mean(),inplace=True)"
   ]
  },
  {
   "cell_type": "code",
   "execution_count": 47,
   "metadata": {},
   "outputs": [
    {
     "data": {
      "text/plain": [
       "STATION    0\n",
       "NAME       0\n",
       "DATE       0\n",
       "AWND       0\n",
       "PRCP       0\n",
       "TAVG       0\n",
       "TMAX       0\n",
       "TMIN       0\n",
       "WDF2       0\n",
       "WDF5       5\n",
       "WSF2       0\n",
       "WSF5       0\n",
       "dtype: int64"
      ]
     },
     "execution_count": 47,
     "metadata": {},
     "output_type": "execute_result"
    }
   ],
   "source": [
    "w_df.isnull().sum()"
   ]
  },
  {
   "cell_type": "code",
   "execution_count": 48,
   "metadata": {},
   "outputs": [],
   "source": [
    "w_df['WDF5'].fillna(w_df['WDF5'].mean(),inplace=True)"
   ]
  },
  {
   "cell_type": "code",
   "execution_count": 49,
   "metadata": {},
   "outputs": [
    {
     "data": {
      "text/plain": [
       "STATION    0\n",
       "NAME       0\n",
       "DATE       0\n",
       "AWND       0\n",
       "PRCP       0\n",
       "TAVG       0\n",
       "TMAX       0\n",
       "TMIN       0\n",
       "WDF2       0\n",
       "WDF5       0\n",
       "WSF2       0\n",
       "WSF5       0\n",
       "dtype: int64"
      ]
     },
     "execution_count": 49,
     "metadata": {},
     "output_type": "execute_result"
    }
   ],
   "source": [
    "w_df.isnull().sum()"
   ]
  },
  {
   "cell_type": "code",
   "execution_count": 50,
   "metadata": {},
   "outputs": [
    {
     "data": {
      "text/html": [
       "<div>\n",
       "<style scoped>\n",
       "    .dataframe tbody tr th:only-of-type {\n",
       "        vertical-align: middle;\n",
       "    }\n",
       "\n",
       "    .dataframe tbody tr th {\n",
       "        vertical-align: top;\n",
       "    }\n",
       "\n",
       "    .dataframe thead th {\n",
       "        text-align: right;\n",
       "    }\n",
       "</style>\n",
       "<table border=\"1\" class=\"dataframe\">\n",
       "  <thead>\n",
       "    <tr style=\"text-align: right;\">\n",
       "      <th></th>\n",
       "      <th>STATION</th>\n",
       "      <th>NAME</th>\n",
       "      <th>DATE</th>\n",
       "      <th>AWND</th>\n",
       "      <th>PRCP</th>\n",
       "      <th>TAVG</th>\n",
       "      <th>TMAX</th>\n",
       "      <th>TMIN</th>\n",
       "      <th>WDF2</th>\n",
       "      <th>WDF5</th>\n",
       "      <th>WSF2</th>\n",
       "      <th>WSF5</th>\n",
       "    </tr>\n",
       "  </thead>\n",
       "  <tbody>\n",
       "    <tr>\n",
       "      <th>0</th>\n",
       "      <td>USW00014922</td>\n",
       "      <td>MINNEAPOLIS ST. PAUL INTERNATIONAL AIRPORT, MN US</td>\n",
       "      <td>2015-01-01</td>\n",
       "      <td>10.51</td>\n",
       "      <td>0.00</td>\n",
       "      <td>18</td>\n",
       "      <td>30</td>\n",
       "      <td>11</td>\n",
       "      <td>330</td>\n",
       "      <td>330.0</td>\n",
       "      <td>19.9</td>\n",
       "      <td>25.9</td>\n",
       "    </tr>\n",
       "    <tr>\n",
       "      <th>1</th>\n",
       "      <td>USW00014922</td>\n",
       "      <td>MINNEAPOLIS ST. PAUL INTERNATIONAL AIRPORT, MN US</td>\n",
       "      <td>2015-01-02</td>\n",
       "      <td>6.93</td>\n",
       "      <td>0.00</td>\n",
       "      <td>17</td>\n",
       "      <td>28</td>\n",
       "      <td>6</td>\n",
       "      <td>160</td>\n",
       "      <td>160.0</td>\n",
       "      <td>16.1</td>\n",
       "      <td>19.0</td>\n",
       "    </tr>\n",
       "    <tr>\n",
       "      <th>2</th>\n",
       "      <td>USW00014922</td>\n",
       "      <td>MINNEAPOLIS ST. PAUL INTERNATIONAL AIRPORT, MN US</td>\n",
       "      <td>2015-01-03</td>\n",
       "      <td>12.53</td>\n",
       "      <td>0.00</td>\n",
       "      <td>26</td>\n",
       "      <td>33</td>\n",
       "      <td>12</td>\n",
       "      <td>350</td>\n",
       "      <td>340.0</td>\n",
       "      <td>29.1</td>\n",
       "      <td>35.1</td>\n",
       "    </tr>\n",
       "    <tr>\n",
       "      <th>3</th>\n",
       "      <td>USW00014922</td>\n",
       "      <td>MINNEAPOLIS ST. PAUL INTERNATIONAL AIRPORT, MN US</td>\n",
       "      <td>2015-01-04</td>\n",
       "      <td>16.11</td>\n",
       "      <td>0.00</td>\n",
       "      <td>5</td>\n",
       "      <td>12</td>\n",
       "      <td>-7</td>\n",
       "      <td>340</td>\n",
       "      <td>340.0</td>\n",
       "      <td>25.9</td>\n",
       "      <td>34.0</td>\n",
       "    </tr>\n",
       "    <tr>\n",
       "      <th>4</th>\n",
       "      <td>USW00014922</td>\n",
       "      <td>MINNEAPOLIS ST. PAUL INTERNATIONAL AIRPORT, MN US</td>\n",
       "      <td>2015-01-05</td>\n",
       "      <td>7.16</td>\n",
       "      <td>0.06</td>\n",
       "      <td>-7</td>\n",
       "      <td>1</td>\n",
       "      <td>-11</td>\n",
       "      <td>240</td>\n",
       "      <td>280.0</td>\n",
       "      <td>15.0</td>\n",
       "      <td>19.0</td>\n",
       "    </tr>\n",
       "    <tr>\n",
       "      <th>...</th>\n",
       "      <td>...</td>\n",
       "      <td>...</td>\n",
       "      <td>...</td>\n",
       "      <td>...</td>\n",
       "      <td>...</td>\n",
       "      <td>...</td>\n",
       "      <td>...</td>\n",
       "      <td>...</td>\n",
       "      <td>...</td>\n",
       "      <td>...</td>\n",
       "      <td>...</td>\n",
       "      <td>...</td>\n",
       "    </tr>\n",
       "    <tr>\n",
       "      <th>725</th>\n",
       "      <td>USW00023234</td>\n",
       "      <td>SAN FRANCISCO INTERNATIONAL AIRPORT, CA US</td>\n",
       "      <td>2015-12-27</td>\n",
       "      <td>4.47</td>\n",
       "      <td>0.01</td>\n",
       "      <td>42</td>\n",
       "      <td>48</td>\n",
       "      <td>34</td>\n",
       "      <td>90</td>\n",
       "      <td>90.0</td>\n",
       "      <td>15.0</td>\n",
       "      <td>17.0</td>\n",
       "    </tr>\n",
       "    <tr>\n",
       "      <th>726</th>\n",
       "      <td>USW00023234</td>\n",
       "      <td>SAN FRANCISCO INTERNATIONAL AIRPORT, CA US</td>\n",
       "      <td>2015-12-28</td>\n",
       "      <td>5.14</td>\n",
       "      <td>0.11</td>\n",
       "      <td>44</td>\n",
       "      <td>48</td>\n",
       "      <td>41</td>\n",
       "      <td>10</td>\n",
       "      <td>10.0</td>\n",
       "      <td>13.0</td>\n",
       "      <td>15.0</td>\n",
       "    </tr>\n",
       "    <tr>\n",
       "      <th>727</th>\n",
       "      <td>USW00023234</td>\n",
       "      <td>SAN FRANCISCO INTERNATIONAL AIRPORT, CA US</td>\n",
       "      <td>2015-12-29</td>\n",
       "      <td>2.91</td>\n",
       "      <td>0.00</td>\n",
       "      <td>44</td>\n",
       "      <td>54</td>\n",
       "      <td>36</td>\n",
       "      <td>250</td>\n",
       "      <td>250.0</td>\n",
       "      <td>12.1</td>\n",
       "      <td>13.0</td>\n",
       "    </tr>\n",
       "    <tr>\n",
       "      <th>728</th>\n",
       "      <td>USW00023234</td>\n",
       "      <td>SAN FRANCISCO INTERNATIONAL AIRPORT, CA US</td>\n",
       "      <td>2015-12-30</td>\n",
       "      <td>6.93</td>\n",
       "      <td>0.01</td>\n",
       "      <td>46</td>\n",
       "      <td>49</td>\n",
       "      <td>40</td>\n",
       "      <td>60</td>\n",
       "      <td>360.0</td>\n",
       "      <td>16.1</td>\n",
       "      <td>18.1</td>\n",
       "    </tr>\n",
       "    <tr>\n",
       "      <th>729</th>\n",
       "      <td>USW00023234</td>\n",
       "      <td>SAN FRANCISCO INTERNATIONAL AIRPORT, CA US</td>\n",
       "      <td>2015-12-31</td>\n",
       "      <td>8.05</td>\n",
       "      <td>0.00</td>\n",
       "      <td>46</td>\n",
       "      <td>51</td>\n",
       "      <td>39</td>\n",
       "      <td>80</td>\n",
       "      <td>70.0</td>\n",
       "      <td>17.0</td>\n",
       "      <td>19.9</td>\n",
       "    </tr>\n",
       "  </tbody>\n",
       "</table>\n",
       "<p>730 rows × 12 columns</p>\n",
       "</div>"
      ],
      "text/plain": [
       "         STATION                                               NAME        DATE   AWND  PRCP  TAVG  TMAX  TMIN  WDF2   WDF5  WSF2  WSF5\n",
       "0    USW00014922  MINNEAPOLIS ST. PAUL INTERNATIONAL AIRPORT, MN US  2015-01-01  10.51  0.00    18    30    11   330  330.0  19.9  25.9\n",
       "1    USW00014922  MINNEAPOLIS ST. PAUL INTERNATIONAL AIRPORT, MN US  2015-01-02   6.93  0.00    17    28     6   160  160.0  16.1  19.0\n",
       "2    USW00014922  MINNEAPOLIS ST. PAUL INTERNATIONAL AIRPORT, MN US  2015-01-03  12.53  0.00    26    33    12   350  340.0  29.1  35.1\n",
       "3    USW00014922  MINNEAPOLIS ST. PAUL INTERNATIONAL AIRPORT, MN US  2015-01-04  16.11  0.00     5    12    -7   340  340.0  25.9  34.0\n",
       "4    USW00014922  MINNEAPOLIS ST. PAUL INTERNATIONAL AIRPORT, MN US  2015-01-05   7.16  0.06    -7     1   -11   240  280.0  15.0  19.0\n",
       "..           ...                                                ...         ...    ...   ...   ...   ...   ...   ...    ...   ...   ...\n",
       "725  USW00023234         SAN FRANCISCO INTERNATIONAL AIRPORT, CA US  2015-12-27   4.47  0.01    42    48    34    90   90.0  15.0  17.0\n",
       "726  USW00023234         SAN FRANCISCO INTERNATIONAL AIRPORT, CA US  2015-12-28   5.14  0.11    44    48    41    10   10.0  13.0  15.0\n",
       "727  USW00023234         SAN FRANCISCO INTERNATIONAL AIRPORT, CA US  2015-12-29   2.91  0.00    44    54    36   250  250.0  12.1  13.0\n",
       "728  USW00023234         SAN FRANCISCO INTERNATIONAL AIRPORT, CA US  2015-12-30   6.93  0.01    46    49    40    60  360.0  16.1  18.1\n",
       "729  USW00023234         SAN FRANCISCO INTERNATIONAL AIRPORT, CA US  2015-12-31   8.05  0.00    46    51    39    80   70.0  17.0  19.9\n",
       "\n",
       "[730 rows x 12 columns]"
      ]
     },
     "execution_count": 50,
     "metadata": {},
     "output_type": "execute_result"
    }
   ],
   "source": [
    "w_df"
   ]
  },
  {
   "cell_type": "code",
   "execution_count": 51,
   "metadata": {},
   "outputs": [
    {
     "data": {
      "text/plain": [
       "0      2015-01-01\n",
       "1      2015-01-02\n",
       "2      2015-01-03\n",
       "3      2015-01-04\n",
       "4      2015-01-05\n",
       "          ...    \n",
       "725    2015-12-27\n",
       "726    2015-12-28\n",
       "727    2015-12-29\n",
       "728    2015-12-30\n",
       "729    2015-12-31\n",
       "Name: DATE, Length: 730, dtype: object"
      ]
     },
     "execution_count": 51,
     "metadata": {},
     "output_type": "execute_result"
    }
   ],
   "source": [
    "w_df.DATE"
   ]
  },
  {
   "cell_type": "code",
   "execution_count": 52,
   "metadata": {},
   "outputs": [],
   "source": [
    "#object to datetime\n",
    "w_df['DATE']= pd.to_datetime(w_df['DATE'])"
   ]
  },
  {
   "cell_type": "code",
   "execution_count": 53,
   "metadata": {},
   "outputs": [
    {
     "data": {
      "text/plain": [
       "0     2015-01-01\n",
       "1     2015-01-02\n",
       "2     2015-01-03\n",
       "3     2015-01-04\n",
       "4     2015-01-05\n",
       "         ...    \n",
       "725   2015-12-27\n",
       "726   2015-12-28\n",
       "727   2015-12-29\n",
       "728   2015-12-30\n",
       "729   2015-12-31\n",
       "Name: DATE, Length: 730, dtype: datetime64[ns]"
      ]
     },
     "execution_count": 53,
     "metadata": {},
     "output_type": "execute_result"
    }
   ],
   "source": [
    "w_df.DATE"
   ]
  },
  {
   "cell_type": "markdown",
   "metadata": {},
   "source": [
    "# MERGING"
   ]
  },
  {
   "cell_type": "code",
   "execution_count": 54,
   "metadata": {},
   "outputs": [],
   "source": [
    "flight_df1=flight_df.sample(n=1000)"
   ]
  },
  {
   "cell_type": "code",
   "execution_count": 55,
   "metadata": {},
   "outputs": [
    {
     "data": {
      "text/html": [
       "<div>\n",
       "<style scoped>\n",
       "    .dataframe tbody tr th:only-of-type {\n",
       "        vertical-align: middle;\n",
       "    }\n",
       "\n",
       "    .dataframe tbody tr th {\n",
       "        vertical-align: top;\n",
       "    }\n",
       "\n",
       "    .dataframe thead th {\n",
       "        text-align: right;\n",
       "    }\n",
       "</style>\n",
       "<table border=\"1\" class=\"dataframe\">\n",
       "  <thead>\n",
       "    <tr style=\"text-align: right;\">\n",
       "      <th></th>\n",
       "      <th>STATION</th>\n",
       "      <th>NAME</th>\n",
       "      <th>DATE</th>\n",
       "      <th>AWND</th>\n",
       "      <th>PRCP</th>\n",
       "      <th>TAVG</th>\n",
       "      <th>TMAX</th>\n",
       "      <th>TMIN</th>\n",
       "      <th>WDF2</th>\n",
       "      <th>WDF5</th>\n",
       "      <th>WSF2</th>\n",
       "      <th>WSF5</th>\n",
       "    </tr>\n",
       "  </thead>\n",
       "  <tbody>\n",
       "    <tr>\n",
       "      <th>0</th>\n",
       "      <td>USW00014922</td>\n",
       "      <td>MINNEAPOLIS ST. PAUL INTERNATIONAL AIRPORT, MN US</td>\n",
       "      <td>2015-01-01</td>\n",
       "      <td>10.51</td>\n",
       "      <td>0.00</td>\n",
       "      <td>18</td>\n",
       "      <td>30</td>\n",
       "      <td>11</td>\n",
       "      <td>330</td>\n",
       "      <td>330.0</td>\n",
       "      <td>19.9</td>\n",
       "      <td>25.9</td>\n",
       "    </tr>\n",
       "    <tr>\n",
       "      <th>1</th>\n",
       "      <td>USW00014922</td>\n",
       "      <td>MINNEAPOLIS ST. PAUL INTERNATIONAL AIRPORT, MN US</td>\n",
       "      <td>2015-01-02</td>\n",
       "      <td>6.93</td>\n",
       "      <td>0.00</td>\n",
       "      <td>17</td>\n",
       "      <td>28</td>\n",
       "      <td>6</td>\n",
       "      <td>160</td>\n",
       "      <td>160.0</td>\n",
       "      <td>16.1</td>\n",
       "      <td>19.0</td>\n",
       "    </tr>\n",
       "    <tr>\n",
       "      <th>2</th>\n",
       "      <td>USW00014922</td>\n",
       "      <td>MINNEAPOLIS ST. PAUL INTERNATIONAL AIRPORT, MN US</td>\n",
       "      <td>2015-01-03</td>\n",
       "      <td>12.53</td>\n",
       "      <td>0.00</td>\n",
       "      <td>26</td>\n",
       "      <td>33</td>\n",
       "      <td>12</td>\n",
       "      <td>350</td>\n",
       "      <td>340.0</td>\n",
       "      <td>29.1</td>\n",
       "      <td>35.1</td>\n",
       "    </tr>\n",
       "    <tr>\n",
       "      <th>3</th>\n",
       "      <td>USW00014922</td>\n",
       "      <td>MINNEAPOLIS ST. PAUL INTERNATIONAL AIRPORT, MN US</td>\n",
       "      <td>2015-01-04</td>\n",
       "      <td>16.11</td>\n",
       "      <td>0.00</td>\n",
       "      <td>5</td>\n",
       "      <td>12</td>\n",
       "      <td>-7</td>\n",
       "      <td>340</td>\n",
       "      <td>340.0</td>\n",
       "      <td>25.9</td>\n",
       "      <td>34.0</td>\n",
       "    </tr>\n",
       "    <tr>\n",
       "      <th>4</th>\n",
       "      <td>USW00014922</td>\n",
       "      <td>MINNEAPOLIS ST. PAUL INTERNATIONAL AIRPORT, MN US</td>\n",
       "      <td>2015-01-05</td>\n",
       "      <td>7.16</td>\n",
       "      <td>0.06</td>\n",
       "      <td>-7</td>\n",
       "      <td>1</td>\n",
       "      <td>-11</td>\n",
       "      <td>240</td>\n",
       "      <td>280.0</td>\n",
       "      <td>15.0</td>\n",
       "      <td>19.0</td>\n",
       "    </tr>\n",
       "    <tr>\n",
       "      <th>...</th>\n",
       "      <td>...</td>\n",
       "      <td>...</td>\n",
       "      <td>...</td>\n",
       "      <td>...</td>\n",
       "      <td>...</td>\n",
       "      <td>...</td>\n",
       "      <td>...</td>\n",
       "      <td>...</td>\n",
       "      <td>...</td>\n",
       "      <td>...</td>\n",
       "      <td>...</td>\n",
       "      <td>...</td>\n",
       "    </tr>\n",
       "    <tr>\n",
       "      <th>725</th>\n",
       "      <td>USW00023234</td>\n",
       "      <td>SAN FRANCISCO INTERNATIONAL AIRPORT, CA US</td>\n",
       "      <td>2015-12-27</td>\n",
       "      <td>4.47</td>\n",
       "      <td>0.01</td>\n",
       "      <td>42</td>\n",
       "      <td>48</td>\n",
       "      <td>34</td>\n",
       "      <td>90</td>\n",
       "      <td>90.0</td>\n",
       "      <td>15.0</td>\n",
       "      <td>17.0</td>\n",
       "    </tr>\n",
       "    <tr>\n",
       "      <th>726</th>\n",
       "      <td>USW00023234</td>\n",
       "      <td>SAN FRANCISCO INTERNATIONAL AIRPORT, CA US</td>\n",
       "      <td>2015-12-28</td>\n",
       "      <td>5.14</td>\n",
       "      <td>0.11</td>\n",
       "      <td>44</td>\n",
       "      <td>48</td>\n",
       "      <td>41</td>\n",
       "      <td>10</td>\n",
       "      <td>10.0</td>\n",
       "      <td>13.0</td>\n",
       "      <td>15.0</td>\n",
       "    </tr>\n",
       "    <tr>\n",
       "      <th>727</th>\n",
       "      <td>USW00023234</td>\n",
       "      <td>SAN FRANCISCO INTERNATIONAL AIRPORT, CA US</td>\n",
       "      <td>2015-12-29</td>\n",
       "      <td>2.91</td>\n",
       "      <td>0.00</td>\n",
       "      <td>44</td>\n",
       "      <td>54</td>\n",
       "      <td>36</td>\n",
       "      <td>250</td>\n",
       "      <td>250.0</td>\n",
       "      <td>12.1</td>\n",
       "      <td>13.0</td>\n",
       "    </tr>\n",
       "    <tr>\n",
       "      <th>728</th>\n",
       "      <td>USW00023234</td>\n",
       "      <td>SAN FRANCISCO INTERNATIONAL AIRPORT, CA US</td>\n",
       "      <td>2015-12-30</td>\n",
       "      <td>6.93</td>\n",
       "      <td>0.01</td>\n",
       "      <td>46</td>\n",
       "      <td>49</td>\n",
       "      <td>40</td>\n",
       "      <td>60</td>\n",
       "      <td>360.0</td>\n",
       "      <td>16.1</td>\n",
       "      <td>18.1</td>\n",
       "    </tr>\n",
       "    <tr>\n",
       "      <th>729</th>\n",
       "      <td>USW00023234</td>\n",
       "      <td>SAN FRANCISCO INTERNATIONAL AIRPORT, CA US</td>\n",
       "      <td>2015-12-31</td>\n",
       "      <td>8.05</td>\n",
       "      <td>0.00</td>\n",
       "      <td>46</td>\n",
       "      <td>51</td>\n",
       "      <td>39</td>\n",
       "      <td>80</td>\n",
       "      <td>70.0</td>\n",
       "      <td>17.0</td>\n",
       "      <td>19.9</td>\n",
       "    </tr>\n",
       "  </tbody>\n",
       "</table>\n",
       "<p>730 rows × 12 columns</p>\n",
       "</div>"
      ],
      "text/plain": [
       "         STATION                                               NAME       DATE   AWND  PRCP  TAVG  TMAX  TMIN  WDF2   WDF5  WSF2  WSF5\n",
       "0    USW00014922  MINNEAPOLIS ST. PAUL INTERNATIONAL AIRPORT, MN US 2015-01-01  10.51  0.00    18    30    11   330  330.0  19.9  25.9\n",
       "1    USW00014922  MINNEAPOLIS ST. PAUL INTERNATIONAL AIRPORT, MN US 2015-01-02   6.93  0.00    17    28     6   160  160.0  16.1  19.0\n",
       "2    USW00014922  MINNEAPOLIS ST. PAUL INTERNATIONAL AIRPORT, MN US 2015-01-03  12.53  0.00    26    33    12   350  340.0  29.1  35.1\n",
       "3    USW00014922  MINNEAPOLIS ST. PAUL INTERNATIONAL AIRPORT, MN US 2015-01-04  16.11  0.00     5    12    -7   340  340.0  25.9  34.0\n",
       "4    USW00014922  MINNEAPOLIS ST. PAUL INTERNATIONAL AIRPORT, MN US 2015-01-05   7.16  0.06    -7     1   -11   240  280.0  15.0  19.0\n",
       "..           ...                                                ...        ...    ...   ...   ...   ...   ...   ...    ...   ...   ...\n",
       "725  USW00023234         SAN FRANCISCO INTERNATIONAL AIRPORT, CA US 2015-12-27   4.47  0.01    42    48    34    90   90.0  15.0  17.0\n",
       "726  USW00023234         SAN FRANCISCO INTERNATIONAL AIRPORT, CA US 2015-12-28   5.14  0.11    44    48    41    10   10.0  13.0  15.0\n",
       "727  USW00023234         SAN FRANCISCO INTERNATIONAL AIRPORT, CA US 2015-12-29   2.91  0.00    44    54    36   250  250.0  12.1  13.0\n",
       "728  USW00023234         SAN FRANCISCO INTERNATIONAL AIRPORT, CA US 2015-12-30   6.93  0.01    46    49    40    60  360.0  16.1  18.1\n",
       "729  USW00023234         SAN FRANCISCO INTERNATIONAL AIRPORT, CA US 2015-12-31   8.05  0.00    46    51    39    80   70.0  17.0  19.9\n",
       "\n",
       "[730 rows x 12 columns]"
      ]
     },
     "execution_count": 55,
     "metadata": {},
     "output_type": "execute_result"
    }
   ],
   "source": [
    "w_df"
   ]
  },
  {
   "cell_type": "code",
   "execution_count": 56,
   "metadata": {},
   "outputs": [],
   "source": [
    "final_df=pd.merge(flight_df1, w_df, how ='inner', on ='DATE')"
   ]
  },
  {
   "cell_type": "code",
   "execution_count": 57,
   "metadata": {},
   "outputs": [
    {
     "data": {
      "text/plain": [
       "YEAR                   0\n",
       "MONTH                  0\n",
       "DAY                    0\n",
       "DAY_OF_WEEK            0\n",
       "ORIGIN_AIRPORT         0\n",
       "DESTINATION_AIRPORT    0\n",
       "SCHEDULED_DEPARTURE    0\n",
       "ARRIVAL_DELAY          0\n",
       "DATE                   0\n",
       "RESULT                 0\n",
       "STATION                0\n",
       "NAME                   0\n",
       "AWND                   0\n",
       "PRCP                   0\n",
       "TAVG                   0\n",
       "TMAX                   0\n",
       "TMIN                   0\n",
       "WDF2                   0\n",
       "WDF5                   0\n",
       "WSF2                   0\n",
       "WSF5                   0\n",
       "dtype: int64"
      ]
     },
     "execution_count": 57,
     "metadata": {},
     "output_type": "execute_result"
    }
   ],
   "source": [
    "final_df.isnull().sum()"
   ]
  },
  {
   "cell_type": "code",
   "execution_count": 58,
   "metadata": {},
   "outputs": [],
   "source": [
    "num_cols=final_df.select_dtypes(include='number').columns\n",
    "cat_cols=final_df.select_dtypes(include='O').columns"
   ]
  },
  {
   "cell_type": "code",
   "execution_count": 59,
   "metadata": {},
   "outputs": [
    {
     "data": {
      "text/plain": [
       "Index(['YEAR', 'MONTH', 'DAY', 'DAY_OF_WEEK', 'SCHEDULED_DEPARTURE', 'ARRIVAL_DELAY', 'RESULT', 'AWND', 'PRCP', 'TAVG', 'TMAX', 'TMIN', 'WDF2', 'WDF5', 'WSF2', 'WSF5'], dtype='object')"
      ]
     },
     "execution_count": 59,
     "metadata": {},
     "output_type": "execute_result"
    }
   ],
   "source": [
    "num_cols"
   ]
  },
  {
   "cell_type": "code",
   "execution_count": 60,
   "metadata": {},
   "outputs": [
    {
     "data": {
      "text/plain": [
       "Index(['ORIGIN_AIRPORT', 'DESTINATION_AIRPORT', 'STATION', 'NAME'], dtype='object')"
      ]
     },
     "execution_count": 60,
     "metadata": {},
     "output_type": "execute_result"
    }
   ],
   "source": [
    "cat_cols"
   ]
  },
  {
   "cell_type": "code",
   "execution_count": 61,
   "metadata": {},
   "outputs": [
    {
     "name": "stdout",
     "output_type": "stream",
     "text": [
      "<class 'pandas.core.frame.DataFrame'>\n",
      "Int64Index: 2000 entries, 0 to 1999\n",
      "Data columns (total 21 columns):\n",
      " #   Column               Non-Null Count  Dtype         \n",
      "---  ------               --------------  -----         \n",
      " 0   YEAR                 2000 non-null   int64         \n",
      " 1   MONTH                2000 non-null   int64         \n",
      " 2   DAY                  2000 non-null   int64         \n",
      " 3   DAY_OF_WEEK          2000 non-null   int64         \n",
      " 4   ORIGIN_AIRPORT       2000 non-null   object        \n",
      " 5   DESTINATION_AIRPORT  2000 non-null   object        \n",
      " 6   SCHEDULED_DEPARTURE  2000 non-null   int64         \n",
      " 7   ARRIVAL_DELAY        2000 non-null   float64       \n",
      " 8   DATE                 2000 non-null   datetime64[ns]\n",
      " 9   RESULT               2000 non-null   int64         \n",
      " 10  STATION              2000 non-null   object        \n",
      " 11  NAME                 2000 non-null   object        \n",
      " 12  AWND                 2000 non-null   float64       \n",
      " 13  PRCP                 2000 non-null   float64       \n",
      " 14  TAVG                 2000 non-null   int64         \n",
      " 15  TMAX                 2000 non-null   int64         \n",
      " 16  TMIN                 2000 non-null   int64         \n",
      " 17  WDF2                 2000 non-null   int64         \n",
      " 18  WDF5                 2000 non-null   float64       \n",
      " 19  WSF2                 2000 non-null   float64       \n",
      " 20  WSF5                 2000 non-null   float64       \n",
      "dtypes: datetime64[ns](1), float64(6), int64(10), object(4)\n",
      "memory usage: 343.8+ KB\n"
     ]
    }
   ],
   "source": [
    "final_df.info()"
   ]
  },
  {
   "cell_type": "code",
   "execution_count": 62,
   "metadata": {},
   "outputs": [
    {
     "data": {
      "image/png": "[encoded data removed]",
      "text/plain": [
       "<Figure size 1080x720 with 1 Axes>"
      ]
     },
     "metadata": {
      "needs_background": "light"
     },
     "output_type": "display_data"
    }
   ],
   "source": [
    "plt.figure(figsize=(15,10))\n",
    "final_df['SCHEDULED_DEPARTURE'].plot()\n",
    "final_df['ARRIVAL_DELAY'].plot()\n",
    "plt.show()"
   ]
  },
  {
   "cell_type": "code",
   "execution_count": 63,
   "metadata": {},
   "outputs": [
    {
     "data": {
      "image/png": "[encoded data removed]",
      "text/plain": [
       "<Figure size 504x360 with 1 Axes>"
      ]
     },
     "metadata": {
      "needs_background": "light"
     },
     "output_type": "display_data"
    }
   ],
   "source": [
    "plt.figure(figsize=(7,5))\n",
    "final_df['AWND'].plot()\n",
    "plt.show()"
   ]
  },
  {
   "cell_type": "code",
   "execution_count": 64,
   "metadata": {},
   "outputs": [
    {
     "data": {
      "image/png": "[encoded data removed]",
      "text/plain": [
       "<Figure size 432x288 with 1 Axes>"
      ]
     },
     "metadata": {
      "needs_background": "light"
     },
     "output_type": "display_data"
    }
   ],
   "source": [
    "final_df['PRCP'].plot()\n",
    "plt.show()"
   ]
  },
  {
   "cell_type": "code",
   "execution_count": 65,
   "metadata": {},
   "outputs": [
    {
     "data": {
      "image/png": "[encoded data removed]",
      "text/plain": [
       "<Figure size 432x288 with 1 Axes>"
      ]
     },
     "metadata": {
      "needs_background": "light"
     },
     "output_type": "display_data"
    }
   ],
   "source": [
    "sns.countplot(final_df['RESULT'])\n",
    "plt.show()"
   ]
  },
  {
   "cell_type": "code",
   "execution_count": 66,
   "metadata": {},
   "outputs": [
    {
     "data": {
      "text/plain": [
       "0    81.1\n",
       "1    18.9\n",
       "Name: RESULT, dtype: float64"
      ]
     },
     "execution_count": 66,
     "metadata": {},
     "output_type": "execute_result"
    }
   ],
   "source": [
    "final_df['RESULT'].value_counts(normalize=True)*100"
   ]
  },
  {
   "cell_type": "code",
   "execution_count": 67,
   "metadata": {},
   "outputs": [],
   "source": [
    "final_df.drop(columns=['ORIGIN_AIRPORT','DESTINATION_AIRPORT','DATE'],axis=1,inplace=True)"
   ]
  },
  {
   "cell_type": "code",
   "execution_count": 68,
   "metadata": {},
   "outputs": [
    {
     "name": "stdout",
     "output_type": "stream",
     "text": [
      "<class 'pandas.core.frame.DataFrame'>\n",
      "Int64Index: 2000 entries, 0 to 1999\n",
      "Data columns (total 18 columns):\n",
      " #   Column               Non-Null Count  Dtype  \n",
      "---  ------               --------------  -----  \n",
      " 0   YEAR                 2000 non-null   int64  \n",
      " 1   MONTH                2000 non-null   int64  \n",
      " 2   DAY                  2000 non-null   int64  \n",
      " 3   DAY_OF_WEEK          2000 non-null   int64  \n",
      " 4   SCHEDULED_DEPARTURE  2000 non-null   int64  \n",
      " 5   ARRIVAL_DELAY        2000 non-null   float64\n",
      " 6   RESULT               2000 non-null   int64  \n",
      " 7   STATION              2000 non-null   object \n",
      " 8   NAME                 2000 non-null   object \n",
      " 9   AWND                 2000 non-null   float64\n",
      " 10  PRCP                 2000 non-null   float64\n",
      " 11  TAVG                 2000 non-null   int64  \n",
      " 12  TMAX                 2000 non-null   int64  \n",
      " 13  TMIN                 2000 non-null   int64  \n",
      " 14  WDF2                 2000 non-null   int64  \n",
      " 15  WDF5                 2000 non-null   float64\n",
      " 16  WSF2                 2000 non-null   float64\n",
      " 17  WSF5                 2000 non-null   float64\n",
      "dtypes: float64(6), int64(10), object(2)\n",
      "memory usage: 376.9+ KB\n"
     ]
    }
   ],
   "source": [
    "final_df.info()"
   ]
  },
  {
   "cell_type": "code",
   "execution_count": 69,
   "metadata": {},
   "outputs": [],
   "source": [
    "final_df.drop(columns=['ARRIVAL_DELAY'],axis=1,inplace=True)"
   ]
  },
  {
   "cell_type": "code",
   "execution_count": 70,
   "metadata": {},
   "outputs": [
    {
     "name": "stdout",
     "output_type": "stream",
     "text": [
      "<class 'pandas.core.frame.DataFrame'>\n",
      "Int64Index: 2000 entries, 0 to 1999\n",
      "Data columns (total 17 columns):\n",
      " #   Column               Non-Null Count  Dtype  \n",
      "---  ------               --------------  -----  \n",
      " 0   YEAR                 2000 non-null   int64  \n",
      " 1   MONTH                2000 non-null   int64  \n",
      " 2   DAY                  2000 non-null   int64  \n",
      " 3   DAY_OF_WEEK          2000 non-null   int64  \n",
      " 4   SCHEDULED_DEPARTURE  2000 non-null   int64  \n",
      " 5   RESULT               2000 non-null   int64  \n",
      " 6   STATION              2000 non-null   object \n",
      " 7   NAME                 2000 non-null   object \n",
      " 8   AWND                 2000 non-null   float64\n",
      " 9   PRCP                 2000 non-null   float64\n",
      " 10  TAVG                 2000 non-null   int64  \n",
      " 11  TMAX                 2000 non-null   int64  \n",
      " 12  TMIN                 2000 non-null   int64  \n",
      " 13  WDF2                 2000 non-null   int64  \n",
      " 14  WDF5                 2000 non-null   float64\n",
      " 15  WSF2                 2000 non-null   float64\n",
      " 16  WSF5                 2000 non-null   float64\n",
      "dtypes: float64(5), int64(10), object(2)\n",
      "memory usage: 361.2+ KB\n"
     ]
    }
   ],
   "source": [
    "final_df.info()"
   ]
  },
  {
   "cell_type": "code",
   "execution_count": 71,
   "metadata": {},
   "outputs": [
    {
     "name": "stdout",
     "output_type": "stream",
     "text": [
      "<class 'pandas.core.frame.DataFrame'>\n",
      "Int64Index: 2000 entries, 0 to 1999\n",
      "Data columns (total 15 columns):\n",
      " #   Column               Non-Null Count  Dtype  \n",
      "---  ------               --------------  -----  \n",
      " 0   YEAR                 2000 non-null   int64  \n",
      " 1   MONTH                2000 non-null   int64  \n",
      " 2   DAY                  2000 non-null   int64  \n",
      " 3   DAY_OF_WEEK          2000 non-null   int64  \n",
      " 4   SCHEDULED_DEPARTURE  2000 non-null   int64  \n",
      " 5   RESULT               2000 non-null   int64  \n",
      " 6   AWND                 2000 non-null   float64\n",
      " 7   PRCP                 2000 non-null   float64\n",
      " 8   TAVG                 2000 non-null   int64  \n",
      " 9   TMAX                 2000 non-null   int64  \n",
      " 10  TMIN                 2000 non-null   int64  \n",
      " 11  WDF2                 2000 non-null   int64  \n",
      " 12  WDF5                 2000 non-null   float64\n",
      " 13  WSF2                 2000 non-null   float64\n",
      " 14  WSF5                 2000 non-null   float64\n",
      "dtypes: float64(5), int64(10)\n",
      "memory usage: 330.0 KB\n"
     ]
    }
   ],
   "source": [
    "final_df.drop(columns=['STATION','NAME'],axis=1,inplace=True)\n",
    "final_df.info()"
   ]
  },
  {
   "cell_type": "markdown",
   "metadata": {},
   "source": [
    "# Modeling and Spliting of the dataset in X and y"
   ]
  },
  {
   "cell_type": "code",
   "execution_count": 72,
   "metadata": {},
   "outputs": [],
   "source": [
    "X=final_df.drop(columns=['RESULT'],axis=1)\n",
    "y=final_df['RESULT']"
   ]
  },
  {
   "cell_type": "code",
   "execution_count": 73,
   "metadata": {},
   "outputs": [
    {
     "data": {
      "text/html": [
       "<div>\n",
       "<style scoped>\n",
       "    .dataframe tbody tr th:only-of-type {\n",
       "        vertical-align: middle;\n",
       "    }\n",
       "\n",
       "    .dataframe tbody tr th {\n",
       "        vertical-align: top;\n",
       "    }\n",
       "\n",
       "    .dataframe thead th {\n",
       "        text-align: right;\n",
       "    }\n",
       "</style>\n",
       "<table border=\"1\" class=\"dataframe\">\n",
       "  <thead>\n",
       "    <tr style=\"text-align: right;\">\n",
       "      <th></th>\n",
       "      <th>YEAR</th>\n",
       "      <th>MONTH</th>\n",
       "      <th>DAY</th>\n",
       "      <th>DAY_OF_WEEK</th>\n",
       "      <th>SCHEDULED_DEPARTURE</th>\n",
       "      <th>AWND</th>\n",
       "      <th>PRCP</th>\n",
       "      <th>TAVG</th>\n",
       "      <th>TMAX</th>\n",
       "      <th>TMIN</th>\n",
       "      <th>WDF2</th>\n",
       "      <th>WDF5</th>\n",
       "      <th>WSF2</th>\n",
       "      <th>WSF5</th>\n",
       "    </tr>\n",
       "  </thead>\n",
       "  <tbody>\n",
       "    <tr>\n",
       "      <th>0</th>\n",
       "      <td>2015</td>\n",
       "      <td>8</td>\n",
       "      <td>28</td>\n",
       "      <td>5</td>\n",
       "      <td>1231</td>\n",
       "      <td>8.05</td>\n",
       "      <td>0.00</td>\n",
       "      <td>69</td>\n",
       "      <td>76</td>\n",
       "      <td>59</td>\n",
       "      <td>160</td>\n",
       "      <td>170.000000</td>\n",
       "      <td>19.9</td>\n",
       "      <td>27.100000</td>\n",
       "    </tr>\n",
       "    <tr>\n",
       "      <th>1</th>\n",
       "      <td>2015</td>\n",
       "      <td>8</td>\n",
       "      <td>28</td>\n",
       "      <td>5</td>\n",
       "      <td>1231</td>\n",
       "      <td>8.50</td>\n",
       "      <td>0.00</td>\n",
       "      <td>72</td>\n",
       "      <td>93</td>\n",
       "      <td>64</td>\n",
       "      <td>290</td>\n",
       "      <td>226.496552</td>\n",
       "      <td>23.9</td>\n",
       "      <td>26.630621</td>\n",
       "    </tr>\n",
       "    <tr>\n",
       "      <th>2</th>\n",
       "      <td>2015</td>\n",
       "      <td>4</td>\n",
       "      <td>18</td>\n",
       "      <td>6</td>\n",
       "      <td>1455</td>\n",
       "      <td>12.30</td>\n",
       "      <td>0.07</td>\n",
       "      <td>62</td>\n",
       "      <td>73</td>\n",
       "      <td>47</td>\n",
       "      <td>100</td>\n",
       "      <td>110.000000</td>\n",
       "      <td>21.0</td>\n",
       "      <td>27.100000</td>\n",
       "    </tr>\n",
       "    <tr>\n",
       "      <th>3</th>\n",
       "      <td>2015</td>\n",
       "      <td>4</td>\n",
       "      <td>18</td>\n",
       "      <td>6</td>\n",
       "      <td>1455</td>\n",
       "      <td>10.51</td>\n",
       "      <td>0.00</td>\n",
       "      <td>55</td>\n",
       "      <td>67</td>\n",
       "      <td>49</td>\n",
       "      <td>290</td>\n",
       "      <td>290.000000</td>\n",
       "      <td>21.9</td>\n",
       "      <td>25.900000</td>\n",
       "    </tr>\n",
       "    <tr>\n",
       "      <th>4</th>\n",
       "      <td>2015</td>\n",
       "      <td>4</td>\n",
       "      <td>18</td>\n",
       "      <td>6</td>\n",
       "      <td>1759</td>\n",
       "      <td>12.30</td>\n",
       "      <td>0.07</td>\n",
       "      <td>62</td>\n",
       "      <td>73</td>\n",
       "      <td>47</td>\n",
       "      <td>100</td>\n",
       "      <td>110.000000</td>\n",
       "      <td>21.0</td>\n",
       "      <td>27.100000</td>\n",
       "    </tr>\n",
       "    <tr>\n",
       "      <th>...</th>\n",
       "      <td>...</td>\n",
       "      <td>...</td>\n",
       "      <td>...</td>\n",
       "      <td>...</td>\n",
       "      <td>...</td>\n",
       "      <td>...</td>\n",
       "      <td>...</td>\n",
       "      <td>...</td>\n",
       "      <td>...</td>\n",
       "      <td>...</td>\n",
       "      <td>...</td>\n",
       "      <td>...</td>\n",
       "      <td>...</td>\n",
       "      <td>...</td>\n",
       "    </tr>\n",
       "    <tr>\n",
       "      <th>1995</th>\n",
       "      <td>2015</td>\n",
       "      <td>7</td>\n",
       "      <td>21</td>\n",
       "      <td>2</td>\n",
       "      <td>1450</td>\n",
       "      <td>13.42</td>\n",
       "      <td>0.00</td>\n",
       "      <td>64</td>\n",
       "      <td>70</td>\n",
       "      <td>60</td>\n",
       "      <td>260</td>\n",
       "      <td>270.000000</td>\n",
       "      <td>23.0</td>\n",
       "      <td>30.000000</td>\n",
       "    </tr>\n",
       "    <tr>\n",
       "      <th>1996</th>\n",
       "      <td>2015</td>\n",
       "      <td>11</td>\n",
       "      <td>17</td>\n",
       "      <td>2</td>\n",
       "      <td>1654</td>\n",
       "      <td>12.75</td>\n",
       "      <td>1.21</td>\n",
       "      <td>50</td>\n",
       "      <td>55</td>\n",
       "      <td>49</td>\n",
       "      <td>120</td>\n",
       "      <td>120.000000</td>\n",
       "      <td>23.9</td>\n",
       "      <td>32.000000</td>\n",
       "    </tr>\n",
       "    <tr>\n",
       "      <th>1997</th>\n",
       "      <td>2015</td>\n",
       "      <td>11</td>\n",
       "      <td>17</td>\n",
       "      <td>2</td>\n",
       "      <td>1654</td>\n",
       "      <td>8.72</td>\n",
       "      <td>0.00</td>\n",
       "      <td>55</td>\n",
       "      <td>61</td>\n",
       "      <td>50</td>\n",
       "      <td>280</td>\n",
       "      <td>280.000000</td>\n",
       "      <td>21.0</td>\n",
       "      <td>23.900000</td>\n",
       "    </tr>\n",
       "    <tr>\n",
       "      <th>1998</th>\n",
       "      <td>2015</td>\n",
       "      <td>2</td>\n",
       "      <td>17</td>\n",
       "      <td>2</td>\n",
       "      <td>1725</td>\n",
       "      <td>14.54</td>\n",
       "      <td>0.00</td>\n",
       "      <td>8</td>\n",
       "      <td>10</td>\n",
       "      <td>-2</td>\n",
       "      <td>320</td>\n",
       "      <td>310.000000</td>\n",
       "      <td>25.1</td>\n",
       "      <td>32.000000</td>\n",
       "    </tr>\n",
       "    <tr>\n",
       "      <th>1999</th>\n",
       "      <td>2015</td>\n",
       "      <td>2</td>\n",
       "      <td>17</td>\n",
       "      <td>2</td>\n",
       "      <td>1725</td>\n",
       "      <td>6.71</td>\n",
       "      <td>0.00</td>\n",
       "      <td>55</td>\n",
       "      <td>59</td>\n",
       "      <td>53</td>\n",
       "      <td>240</td>\n",
       "      <td>240.000000</td>\n",
       "      <td>13.0</td>\n",
       "      <td>14.100000</td>\n",
       "    </tr>\n",
       "  </tbody>\n",
       "</table>\n",
       "<p>2000 rows × 14 columns</p>\n",
       "</div>"
      ],
      "text/plain": [
       "      YEAR  MONTH  DAY  DAY_OF_WEEK  SCHEDULED_DEPARTURE   AWND  PRCP  TAVG  TMAX  TMIN  WDF2        WDF5  WSF2       WSF5\n",
       "0     2015      8   28            5                 1231   8.05  0.00    69    76    59   160  170.000000  19.9  27.100000\n",
       "1     2015      8   28            5                 1231   8.50  0.00    72    93    64   290  226.496552  23.9  26.630621\n",
       "2     2015      4   18            6                 1455  12.30  0.07    62    73    47   100  110.000000  21.0  27.100000\n",
       "3     2015      4   18            6                 1455  10.51  0.00    55    67    49   290  290.000000  21.9  25.900000\n",
       "4     2015      4   18            6                 1759  12.30  0.07    62    73    47   100  110.000000  21.0  27.100000\n",
       "...    ...    ...  ...          ...                  ...    ...   ...   ...   ...   ...   ...         ...   ...        ...\n",
       "1995  2015      7   21            2                 1450  13.42  0.00    64    70    60   260  270.000000  23.0  30.000000\n",
       "1996  2015     11   17            2                 1654  12.75  1.21    50    55    49   120  120.000000  23.9  32.000000\n",
       "1997  2015     11   17            2                 1654   8.72  0.00    55    61    50   280  280.000000  21.0  23.900000\n",
       "1998  2015      2   17            2                 1725  14.54  0.00     8    10    -2   320  310.000000  25.1  32.000000\n",
       "1999  2015      2   17            2                 1725   6.71  0.00    55    59    53   240  240.000000  13.0  14.100000\n",
       "\n",
       "[2000 rows x 14 columns]"
      ]
     },
     "execution_count": 73,
     "metadata": {},
     "output_type": "execute_result"
    }
   ],
   "source": [
    "X"
   ]
  },
  {
   "cell_type": "code",
   "execution_count": 74,
   "metadata": {},
   "outputs": [
    {
     "data": {
      "text/plain": [
       "0       0\n",
       "1       0\n",
       "2       0\n",
       "3       0\n",
       "4       0\n",
       "       ..\n",
       "1995    0\n",
       "1996    0\n",
       "1997    0\n",
       "1998    1\n",
       "1999    1\n",
       "Name: RESULT, Length: 2000, dtype: int64"
      ]
     },
     "execution_count": 74,
     "metadata": {},
     "output_type": "execute_result"
    }
   ],
   "source": [
    "y"
   ]
  },
  {
   "cell_type": "code",
   "execution_count": 75,
   "metadata": {},
   "outputs": [],
   "source": [
    "from sklearn.model_selection import train_test_split\n",
    "X_train,X_test,y_train,y_test=train_test_split(X,y,test_size=.30,random_state=42)"
   ]
  },
  {
   "cell_type": "markdown",
   "metadata": {},
   "source": [
    "# Scaling"
   ]
  },
  {
   "cell_type": "code",
   "execution_count": 76,
   "metadata": {},
   "outputs": [],
   "source": [
    "from sklearn.preprocessing import StandardScaler\n",
    "sc = StandardScaler()\n",
    "X_train_sc = sc.fit_transform(X_train) \n",
    "X_test_sc = sc.transform(X_test)"
   ]
  },
  {
   "cell_type": "code",
   "execution_count": 77,
   "metadata": {},
   "outputs": [],
   "source": [
    "from sklearn.metrics import confusion_matrix,classification_report,roc_curve,roc_auc_score,precision_score,recall_score,accuracy_score,f1_score,auc\n",
    "\n",
    "## Importing the metrics for classification by using sklearn metrics "
   ]
  },
  {
   "cell_type": "markdown",
   "metadata": {},
   "source": [
    "# Logistic Regression"
   ]
  },
  {
   "cell_type": "code",
   "execution_count": 78,
   "metadata": {},
   "outputs": [
    {
     "data": {
      "text/plain": [
       "LogisticRegression()"
      ]
     },
     "execution_count": 78,
     "metadata": {},
     "output_type": "execute_result"
    }
   ],
   "source": [
    "from sklearn.linear_model import LogisticRegression\n",
    "Lr=LogisticRegression()\n",
    "Lr.fit(X_train_sc,y_train)"
   ]
  },
  {
   "cell_type": "markdown",
   "metadata": {},
   "source": [
    "### Train Model"
   ]
  },
  {
   "cell_type": "code",
   "execution_count": 79,
   "metadata": {},
   "outputs": [],
   "source": [
    "y_pred_trainlr1 =Lr.predict(X_train_sc)"
   ]
  },
  {
   "cell_type": "code",
   "execution_count": 80,
   "metadata": {},
   "outputs": [
    {
     "data": {
      "text/plain": [
       "array([0, 0, 0, ..., 0, 0, 0], dtype=int64)"
      ]
     },
     "execution_count": 80,
     "metadata": {},
     "output_type": "execute_result"
    }
   ],
   "source": [
    "y_pred_trainlr1"
   ]
  },
  {
   "cell_type": "code",
   "execution_count": 81,
   "metadata": {},
   "outputs": [
    {
     "data": {
      "text/plain": [
       "0.81"
      ]
     },
     "execution_count": 81,
     "metadata": {},
     "output_type": "execute_result"
    }
   ],
   "source": [
    "Lr.score(X_train_sc,y_train)"
   ]
  },
  {
   "cell_type": "code",
   "execution_count": 82,
   "metadata": {},
   "outputs": [
    {
     "data": {
      "text/plain": [
       "array([[1129,    5],\n",
       "       [ 261,    5]], dtype=int64)"
      ]
     },
     "execution_count": 82,
     "metadata": {},
     "output_type": "execute_result"
    }
   ],
   "source": [
    "confusion_matrix(y_train, y_pred_trainlr1)"
   ]
  },
  {
   "cell_type": "code",
   "execution_count": 83,
   "metadata": {},
   "outputs": [
    {
     "name": "stdout",
     "output_type": "stream",
     "text": [
      "              precision    recall  f1-score   support\n",
      "\n",
      "           0       0.81      1.00      0.89      1134\n",
      "           1       0.50      0.02      0.04       266\n",
      "\n",
      "    accuracy                           0.81      1400\n",
      "   macro avg       0.66      0.51      0.47      1400\n",
      "weighted avg       0.75      0.81      0.73      1400\n",
      "\n"
     ]
    }
   ],
   "source": [
    "print(classification_report(y_train, y_pred_trainlr1))"
   ]
  },
  {
   "cell_type": "markdown",
   "metadata": {},
   "source": [
    "### Test Model"
   ]
  },
  {
   "cell_type": "code",
   "execution_count": 84,
   "metadata": {},
   "outputs": [],
   "source": [
    "y_pred_testlr1 =Lr.predict(X_test_sc)"
   ]
  },
  {
   "cell_type": "code",
   "execution_count": 85,
   "metadata": {},
   "outputs": [
    {
     "data": {
      "text/plain": [
       "array([0, 0, 0, 0, 0, 0, 0, 0, 0, 0, 0, 0, 0, 0, 0, 0, 0, 0, 0, 0, 0, 0,\n",
       "       0, 0, 0, 0, 0, 0, 0, 0, 0, 0, 0, 0, 0, 0, 0, 0, 0, 0, 0, 0, 0, 0,\n",
       "       0, 0, 0, 0, 0, 0, 0, 0, 0, 0, 0, 0, 0, 0, 0, 0, 0, 0, 0, 0, 0, 0,\n",
       "       0, 0, 0, 0, 0, 0, 0, 0, 0, 0, 0, 0, 0, 0, 0, 0, 0, 0, 0, 0, 0, 0,\n",
       "       0, 0, 0, 0, 0, 0, 0, 0, 0, 0, 0, 0, 0, 0, 0, 0, 0, 0, 0, 0, 0, 0,\n",
       "       0, 0, 0, 0, 0, 0, 0, 0, 0, 0, 0, 0, 0, 0, 0, 0, 0, 0, 0, 0, 0, 0,\n",
       "       0, 0, 0, 0, 0, 0, 0, 0, 0, 0, 0, 0, 0, 0, 0, 0, 0, 0, 0, 0, 0, 0,\n",
       "       0, 0, 0, 0, 0, 0, 0, 0, 0, 0, 0, 0, 1, 0, 0, 0, 0, 0, 0, 0, 0, 0,\n",
       "       0, 1, 0, 0, 0, 0, 0, 0, 0, 0, 1, 0, 0, 0, 0, 0, 0, 0, 0, 0, 0, 0,\n",
       "       0, 0, 0, 0, 0, 0, 0, 0, 0, 0, 0, 0, 0, 0, 0, 0, 0, 0, 0, 0, 0, 0,\n",
       "       0, 0, 0, 0, 0, 0, 0, 0, 0, 1, 0, 0, 0, 0, 0, 0, 0, 0, 0, 0, 0, 0,\n",
       "       0, 0, 0, 0, 0, 0, 0, 0, 0, 0, 0, 0, 0, 0, 0, 0, 0, 0, 1, 0, 0, 0,\n",
       "       0, 0, 0, 0, 0, 0, 0, 0, 0, 0, 0, 0, 0, 0, 0, 0, 0, 0, 0, 0, 0, 0,\n",
       "       0, 0, 0, 0, 0, 0, 0, 0, 0, 0, 0, 0, 0, 0, 0, 0, 0, 0, 0, 0, 0, 0,\n",
       "       0, 0, 0, 0, 0, 0, 0, 0, 0, 0, 0, 0, 0, 0, 0, 0, 0, 0, 0, 0, 0, 0,\n",
       "       0, 0, 0, 0, 0, 0, 0, 0, 0, 0, 0, 0, 0, 0, 0, 0, 0, 0, 0, 0, 0, 0,\n",
       "       0, 0, 0, 0, 0, 0, 0, 0, 0, 0, 0, 0, 0, 0, 0, 0, 0, 0, 0, 0, 0, 0,\n",
       "       0, 0, 0, 0, 0, 0, 0, 0, 0, 0, 0, 0, 0, 0, 0, 0, 0, 0, 0, 0, 0, 0,\n",
       "       0, 0, 0, 0, 0, 0, 0, 0, 0, 0, 0, 0, 0, 0, 0, 0, 0, 0, 0, 0, 0, 0,\n",
       "       0, 0, 0, 0, 0, 0, 0, 0, 0, 0, 0, 0, 0, 0, 0, 0, 0, 0, 0, 0, 0, 0,\n",
       "       0, 0, 0, 0, 0, 0, 0, 0, 0, 1, 0, 0, 0, 0, 0, 0, 0, 0, 0, 0, 0, 0,\n",
       "       0, 0, 0, 0, 0, 0, 0, 0, 0, 0, 0, 0, 0, 0, 0, 0, 0, 0, 0, 0, 0, 0,\n",
       "       0, 0, 0, 0, 0, 0, 0, 0, 0, 0, 0, 0, 0, 0, 0, 0, 0, 0, 0, 0, 0, 0,\n",
       "       0, 0, 0, 0, 0, 0, 0, 0, 0, 0, 0, 0, 0, 0, 0, 0, 0, 0, 0, 0, 0, 0,\n",
       "       0, 0, 0, 0, 0, 0, 0, 0, 0, 0, 0, 0, 0, 0, 0, 0, 0, 0, 0, 0, 0, 0,\n",
       "       0, 0, 0, 0, 0, 0, 0, 0, 0, 0, 0, 0, 0, 0, 0, 0, 0, 0, 0, 0, 0, 0,\n",
       "       0, 0, 0, 0, 0, 0, 0, 0, 0, 0, 0, 0, 0, 0, 0, 0, 0, 0, 0, 0, 0, 0,\n",
       "       0, 0, 0, 0, 0, 0], dtype=int64)"
      ]
     },
     "execution_count": 85,
     "metadata": {},
     "output_type": "execute_result"
    }
   ],
   "source": [
    "y_pred_testlr1"
   ]
  },
  {
   "cell_type": "code",
   "execution_count": 86,
   "metadata": {},
   "outputs": [
    {
     "data": {
      "text/plain": [
       "0.8066666666666666"
      ]
     },
     "execution_count": 86,
     "metadata": {},
     "output_type": "execute_result"
    }
   ],
   "source": [
    "Lr.score(X_test_sc,y_test)"
   ]
  },
  {
   "cell_type": "code",
   "execution_count": 87,
   "metadata": {},
   "outputs": [
    {
     "data": {
      "text/plain": [
       "array([[483,   5],\n",
       "       [111,   1]], dtype=int64)"
      ]
     },
     "execution_count": 87,
     "metadata": {},
     "output_type": "execute_result"
    }
   ],
   "source": [
    "confusion_matrix(y_test, y_pred_testlr1)"
   ]
  },
  {
   "cell_type": "code",
   "execution_count": 88,
   "metadata": {},
   "outputs": [
    {
     "name": "stdout",
     "output_type": "stream",
     "text": [
      "              precision    recall  f1-score   support\n",
      "\n",
      "           0       0.81      0.99      0.89       488\n",
      "           1       0.17      0.01      0.02       112\n",
      "\n",
      "    accuracy                           0.81       600\n",
      "   macro avg       0.49      0.50      0.45       600\n",
      "weighted avg       0.69      0.81      0.73       600\n",
      "\n"
     ]
    }
   ],
   "source": [
    "print(classification_report(y_test, y_pred_testlr1))"
   ]
  },
  {
   "cell_type": "code",
   "execution_count": 89,
   "metadata": {},
   "outputs": [
    {
     "data": {
      "text/plain": [
       "array([ 0.        , -0.15748636,  1.42108115,  1.56936876,  0.62834592,\n",
       "       -0.81012436,  0.20759041,  0.99370932,  1.05549019,  1.01815137,\n",
       "       -2.21452454, -2.03227089,  0.66257272,  0.4313705 ])"
      ]
     },
     "execution_count": 89,
     "metadata": {},
     "output_type": "execute_result"
    }
   ],
   "source": [
    "X_test_sc[0]"
   ]
  },
  {
   "cell_type": "markdown",
   "metadata": {},
   "source": [
    "# Saving and Calling Model for Checking result"
   ]
  },
  {
   "cell_type": "code",
   "execution_count": 90,
   "metadata": {},
   "outputs": [
    {
     "name": "stdout",
     "output_type": "stream",
     "text": [
      "[0]\n"
     ]
    }
   ],
   "source": [
    "import pickle\n",
    "\n",
    "# Saving model to disk\n",
    "pickle.dump(Lr, open('model.pkl','wb'))\n",
    "\n",
    "# Loading model to compare the results\n",
    "model = pickle.load(open('model.pkl', 'rb'))\n",
    "print(model.predict([[ 0.        , -0.54098308,  1.29306136, -0.41525981, -1.06344096,\n",
    "       -0.99334969, -0.27313505,  0.60950332,  1.17473456,  0.45019607,\n",
    "        0.31370881,  0.11631837, -0.96424447, -0.9179752]]))"
   ]
  },
  {
   "cell_type": "markdown",
   "metadata": {},
   "source": [
    "# *****END*****"
   ]
  },
  {
   "cell_type": "code",
   "execution_count": null,
   "metadata": {},
   "outputs": [],
   "source": []
  }
 ],
 "metadata": {
  "kernelspec": {
   "display_name": "Python 3",
   "language": "python",
   "name": "python3"
  },
  "language_info": {
   "codemirror_mode": {
    "name": "ipython",
    "version": 3
   },
   "file_extension": ".py",
   "mimetype": "text/x-python",
   "name": "python",
   "nbconvert_exporter": "python",
   "pygments_lexer": "ipython3",
   "version": "3.8.5"
  }
 },
 "nbformat": 4,
 "nbformat_minor": 4
}
